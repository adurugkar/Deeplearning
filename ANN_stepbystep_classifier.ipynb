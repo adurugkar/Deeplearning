{
  "nbformat": 4,
  "nbformat_minor": 0,
  "metadata": {
    "colab": {
      "provenance": [],
      "collapsed_sections": [],
      "include_colab_link": true
    },
    "kernelspec": {
      "name": "python3",
      "display_name": "Python 3"
    },
    "language_info": {
      "name": "python"
    },
    "accelerator": "GPU",
    "gpuClass": "standard"
  },
  "cells": [
    {
      "cell_type": "markdown",
      "metadata": {
        "id": "view-in-github",
        "colab_type": "text"
      },
      "source": [
        "<a href=\"https://colab.research.google.com/github/adurugkar/Deeplearning/blob/main/ANN_stepbystep_classifier.ipynb\" target=\"_parent\"><img src=\"https://colab.research.google.com/assets/colab-badge.svg\" alt=\"Open In Colab\"/></a>"
      ]
    },
    {
      "cell_type": "code",
      "execution_count": 152,
      "metadata": {
        "id": "4lz1FXeGf6dR"
      },
      "outputs": [],
      "source": [
        "import tensorflow as tf"
      ]
    },
    {
      "cell_type": "code",
      "source": [
        "tf.__version__"
      ],
      "metadata": {
        "colab": {
          "base_uri": "https://localhost:8080/",
          "height": 36
        },
        "id": "wAARFZAh4NAu",
        "outputId": "1ee640d8-8629-45eb-aab2-db4295d67ab9"
      },
      "execution_count": 153,
      "outputs": [
        {
          "output_type": "execute_result",
          "data": {
            "text/plain": [
              "'2.9.2'"
            ],
            "application/vnd.google.colaboratory.intrinsic+json": {
              "type": "string"
            }
          },
          "metadata": {},
          "execution_count": 153
        }
      ]
    },
    {
      "cell_type": "code",
      "source": [
        "import numpy as np\n",
        "import matplotlib.pyplot as plt\n",
        "import pandas as pd"
      ],
      "metadata": {
        "id": "9EKirfHq4O3f"
      },
      "execution_count": 154,
      "outputs": []
    },
    {
      "cell_type": "code",
      "source": [
        "dataset = pd.read_csv('Churn_Modelling.csv')\n",
        "dataset.head(5)"
      ],
      "metadata": {
        "colab": {
          "base_uri": "https://localhost:8080/",
          "height": 270
        },
        "id": "mX7xPU5DA25O",
        "outputId": "fa19d778-5fab-4711-b38c-c823b6a75972"
      },
      "execution_count": 155,
      "outputs": [
        {
          "output_type": "execute_result",
          "data": {
            "text/plain": [
              "   RowNumber  CustomerId   Surname  CreditScore Geography  Gender  Age  \\\n",
              "0          1    15634602  Hargrave          619    France  Female   42   \n",
              "1          2    15647311      Hill          608     Spain  Female   41   \n",
              "2          3    15619304      Onio          502    France  Female   42   \n",
              "3          4    15701354      Boni          699    France  Female   39   \n",
              "4          5    15737888  Mitchell          850     Spain  Female   43   \n",
              "\n",
              "   Tenure    Balance  NumOfProducts  HasCrCard  IsActiveMember  \\\n",
              "0       2       0.00              1          1               1   \n",
              "1       1   83807.86              1          0               1   \n",
              "2       8  159660.80              3          1               0   \n",
              "3       1       0.00              2          0               0   \n",
              "4       2  125510.82              1          1               1   \n",
              "\n",
              "   EstimatedSalary  Exited  \n",
              "0        101348.88       1  \n",
              "1        112542.58       0  \n",
              "2        113931.57       1  \n",
              "3         93826.63       0  \n",
              "4         79084.10       0  "
            ],
            "text/html": [
              "\n",
              "  <div id=\"df-7a8d8923-37d9-4883-8ec6-55a6f543ac24\">\n",
              "    <div class=\"colab-df-container\">\n",
              "      <div>\n",
              "<style scoped>\n",
              "    .dataframe tbody tr th:only-of-type {\n",
              "        vertical-align: middle;\n",
              "    }\n",
              "\n",
              "    .dataframe tbody tr th {\n",
              "        vertical-align: top;\n",
              "    }\n",
              "\n",
              "    .dataframe thead th {\n",
              "        text-align: right;\n",
              "    }\n",
              "</style>\n",
              "<table border=\"1\" class=\"dataframe\">\n",
              "  <thead>\n",
              "    <tr style=\"text-align: right;\">\n",
              "      <th></th>\n",
              "      <th>RowNumber</th>\n",
              "      <th>CustomerId</th>\n",
              "      <th>Surname</th>\n",
              "      <th>CreditScore</th>\n",
              "      <th>Geography</th>\n",
              "      <th>Gender</th>\n",
              "      <th>Age</th>\n",
              "      <th>Tenure</th>\n",
              "      <th>Balance</th>\n",
              "      <th>NumOfProducts</th>\n",
              "      <th>HasCrCard</th>\n",
              "      <th>IsActiveMember</th>\n",
              "      <th>EstimatedSalary</th>\n",
              "      <th>Exited</th>\n",
              "    </tr>\n",
              "  </thead>\n",
              "  <tbody>\n",
              "    <tr>\n",
              "      <th>0</th>\n",
              "      <td>1</td>\n",
              "      <td>15634602</td>\n",
              "      <td>Hargrave</td>\n",
              "      <td>619</td>\n",
              "      <td>France</td>\n",
              "      <td>Female</td>\n",
              "      <td>42</td>\n",
              "      <td>2</td>\n",
              "      <td>0.00</td>\n",
              "      <td>1</td>\n",
              "      <td>1</td>\n",
              "      <td>1</td>\n",
              "      <td>101348.88</td>\n",
              "      <td>1</td>\n",
              "    </tr>\n",
              "    <tr>\n",
              "      <th>1</th>\n",
              "      <td>2</td>\n",
              "      <td>15647311</td>\n",
              "      <td>Hill</td>\n",
              "      <td>608</td>\n",
              "      <td>Spain</td>\n",
              "      <td>Female</td>\n",
              "      <td>41</td>\n",
              "      <td>1</td>\n",
              "      <td>83807.86</td>\n",
              "      <td>1</td>\n",
              "      <td>0</td>\n",
              "      <td>1</td>\n",
              "      <td>112542.58</td>\n",
              "      <td>0</td>\n",
              "    </tr>\n",
              "    <tr>\n",
              "      <th>2</th>\n",
              "      <td>3</td>\n",
              "      <td>15619304</td>\n",
              "      <td>Onio</td>\n",
              "      <td>502</td>\n",
              "      <td>France</td>\n",
              "      <td>Female</td>\n",
              "      <td>42</td>\n",
              "      <td>8</td>\n",
              "      <td>159660.80</td>\n",
              "      <td>3</td>\n",
              "      <td>1</td>\n",
              "      <td>0</td>\n",
              "      <td>113931.57</td>\n",
              "      <td>1</td>\n",
              "    </tr>\n",
              "    <tr>\n",
              "      <th>3</th>\n",
              "      <td>4</td>\n",
              "      <td>15701354</td>\n",
              "      <td>Boni</td>\n",
              "      <td>699</td>\n",
              "      <td>France</td>\n",
              "      <td>Female</td>\n",
              "      <td>39</td>\n",
              "      <td>1</td>\n",
              "      <td>0.00</td>\n",
              "      <td>2</td>\n",
              "      <td>0</td>\n",
              "      <td>0</td>\n",
              "      <td>93826.63</td>\n",
              "      <td>0</td>\n",
              "    </tr>\n",
              "    <tr>\n",
              "      <th>4</th>\n",
              "      <td>5</td>\n",
              "      <td>15737888</td>\n",
              "      <td>Mitchell</td>\n",
              "      <td>850</td>\n",
              "      <td>Spain</td>\n",
              "      <td>Female</td>\n",
              "      <td>43</td>\n",
              "      <td>2</td>\n",
              "      <td>125510.82</td>\n",
              "      <td>1</td>\n",
              "      <td>1</td>\n",
              "      <td>1</td>\n",
              "      <td>79084.10</td>\n",
              "      <td>0</td>\n",
              "    </tr>\n",
              "  </tbody>\n",
              "</table>\n",
              "</div>\n",
              "      <button class=\"colab-df-convert\" onclick=\"convertToInteractive('df-7a8d8923-37d9-4883-8ec6-55a6f543ac24')\"\n",
              "              title=\"Convert this dataframe to an interactive table.\"\n",
              "              style=\"display:none;\">\n",
              "        \n",
              "  <svg xmlns=\"http://www.w3.org/2000/svg\" height=\"24px\"viewBox=\"0 0 24 24\"\n",
              "       width=\"24px\">\n",
              "    <path d=\"M0 0h24v24H0V0z\" fill=\"none\"/>\n",
              "    <path d=\"M18.56 5.44l.94 2.06.94-2.06 2.06-.94-2.06-.94-.94-2.06-.94 2.06-2.06.94zm-11 1L8.5 8.5l.94-2.06 2.06-.94-2.06-.94L8.5 2.5l-.94 2.06-2.06.94zm10 10l.94 2.06.94-2.06 2.06-.94-2.06-.94-.94-2.06-.94 2.06-2.06.94z\"/><path d=\"M17.41 7.96l-1.37-1.37c-.4-.4-.92-.59-1.43-.59-.52 0-1.04.2-1.43.59L10.3 9.45l-7.72 7.72c-.78.78-.78 2.05 0 2.83L4 21.41c.39.39.9.59 1.41.59.51 0 1.02-.2 1.41-.59l7.78-7.78 2.81-2.81c.8-.78.8-2.07 0-2.86zM5.41 20L4 18.59l7.72-7.72 1.47 1.35L5.41 20z\"/>\n",
              "  </svg>\n",
              "      </button>\n",
              "      \n",
              "  <style>\n",
              "    .colab-df-container {\n",
              "      display:flex;\n",
              "      flex-wrap:wrap;\n",
              "      gap: 12px;\n",
              "    }\n",
              "\n",
              "    .colab-df-convert {\n",
              "      background-color: #E8F0FE;\n",
              "      border: none;\n",
              "      border-radius: 50%;\n",
              "      cursor: pointer;\n",
              "      display: none;\n",
              "      fill: #1967D2;\n",
              "      height: 32px;\n",
              "      padding: 0 0 0 0;\n",
              "      width: 32px;\n",
              "    }\n",
              "\n",
              "    .colab-df-convert:hover {\n",
              "      background-color: #E2EBFA;\n",
              "      box-shadow: 0px 1px 2px rgba(60, 64, 67, 0.3), 0px 1px 3px 1px rgba(60, 64, 67, 0.15);\n",
              "      fill: #174EA6;\n",
              "    }\n",
              "\n",
              "    [theme=dark] .colab-df-convert {\n",
              "      background-color: #3B4455;\n",
              "      fill: #D2E3FC;\n",
              "    }\n",
              "\n",
              "    [theme=dark] .colab-df-convert:hover {\n",
              "      background-color: #434B5C;\n",
              "      box-shadow: 0px 1px 3px 1px rgba(0, 0, 0, 0.15);\n",
              "      filter: drop-shadow(0px 1px 2px rgba(0, 0, 0, 0.3));\n",
              "      fill: #FFFFFF;\n",
              "    }\n",
              "  </style>\n",
              "\n",
              "      <script>\n",
              "        const buttonEl =\n",
              "          document.querySelector('#df-7a8d8923-37d9-4883-8ec6-55a6f543ac24 button.colab-df-convert');\n",
              "        buttonEl.style.display =\n",
              "          google.colab.kernel.accessAllowed ? 'block' : 'none';\n",
              "\n",
              "        async function convertToInteractive(key) {\n",
              "          const element = document.querySelector('#df-7a8d8923-37d9-4883-8ec6-55a6f543ac24');\n",
              "          const dataTable =\n",
              "            await google.colab.kernel.invokeFunction('convertToInteractive',\n",
              "                                                     [key], {});\n",
              "          if (!dataTable) return;\n",
              "\n",
              "          const docLinkHtml = 'Like what you see? Visit the ' +\n",
              "            '<a target=\"_blank\" href=https://colab.research.google.com/notebooks/data_table.ipynb>data table notebook</a>'\n",
              "            + ' to learn more about interactive tables.';\n",
              "          element.innerHTML = '';\n",
              "          dataTable['output_type'] = 'display_data';\n",
              "          await google.colab.output.renderOutput(dataTable, element);\n",
              "          const docLink = document.createElement('div');\n",
              "          docLink.innerHTML = docLinkHtml;\n",
              "          element.appendChild(docLink);\n",
              "        }\n",
              "      </script>\n",
              "    </div>\n",
              "  </div>\n",
              "  "
            ]
          },
          "metadata": {},
          "execution_count": 155
        }
      ]
    },
    {
      "cell_type": "markdown",
      "source": [
        "## Classification problem"
      ],
      "metadata": {
        "id": "F5ylZgf8VlmJ"
      }
    },
    {
      "cell_type": "code",
      "source": [
        "## Divie the dataset into independent and dependent features\n",
        "x=dataset.iloc[:,3:13]\n",
        "y =dataset.iloc[:,13]"
      ],
      "metadata": {
        "id": "xSM_ytliA-mj"
      },
      "execution_count": 156,
      "outputs": []
    },
    {
      "cell_type": "code",
      "source": [
        "# ferature Engineering\n",
        "geography = pd.get_dummies(x['Geography'],drop_first=True)\n",
        "gender = pd.get_dummies(x['Gender'], drop_first=True)"
      ],
      "metadata": {
        "id": "gSf4XHJuBSCu"
      },
      "execution_count": 157,
      "outputs": []
    },
    {
      "cell_type": "code",
      "source": [
        "##concatenate these variables with dataframe\n",
        "x = x.drop(['Geography','Gender'],axis=1)"
      ],
      "metadata": {
        "id": "jRQbCkuABSQJ"
      },
      "execution_count": 158,
      "outputs": []
    },
    {
      "cell_type": "code",
      "source": [
        "## concat the geography , gender and x\n",
        "x = pd.concat([x,geography,gender],axis=1)"
      ],
      "metadata": {
        "id": "u5ZXIpnPDgih"
      },
      "execution_count": 159,
      "outputs": []
    },
    {
      "cell_type": "code",
      "source": [
        "#spliting the dataset into training set and test set\n",
        "from sklearn.model_selection import train_test_split\n",
        "x_train,x_test,y_train,y_test = train_test_split(x,y,test_size=0.25,random_state=0)"
      ],
      "metadata": {
        "id": "hse9k-N9D1V6"
      },
      "execution_count": 160,
      "outputs": []
    },
    {
      "cell_type": "code",
      "source": [
        "x_train.head(5)"
      ],
      "metadata": {
        "colab": {
          "base_uri": "https://localhost:8080/",
          "height": 206
        },
        "id": "lvoMVJC4ZzzI",
        "outputId": "1d8be022-1d7c-41ef-cdd7-f805753d72c1"
      },
      "execution_count": 161,
      "outputs": [
        {
          "output_type": "execute_result",
          "data": {
            "text/plain": [
              "      CreditScore  Age  Tenure    Balance  NumOfProducts  HasCrCard  \\\n",
              "2967          579   39       5  117833.30              3          0   \n",
              "700           750   32       5       0.00              2          1   \n",
              "3481          729   34       9   53299.96              2          1   \n",
              "1621          689   38       5   75075.14              1          1   \n",
              "800           605   52       7       0.00              2          1   \n",
              "\n",
              "      IsActiveMember  EstimatedSalary  Germany  Spain  Male  \n",
              "2967               0          5831.00        1      0     0  \n",
              "700                0         95611.47        0      0     0  \n",
              "3481               1         42855.97        0      1     0  \n",
              "1621               1          8651.92        0      1     1  \n",
              "800                1        173952.50        0      0     1  "
            ],
            "text/html": [
              "\n",
              "  <div id=\"df-ed5117a6-7668-43cd-8b2d-9e798633acd5\">\n",
              "    <div class=\"colab-df-container\">\n",
              "      <div>\n",
              "<style scoped>\n",
              "    .dataframe tbody tr th:only-of-type {\n",
              "        vertical-align: middle;\n",
              "    }\n",
              "\n",
              "    .dataframe tbody tr th {\n",
              "        vertical-align: top;\n",
              "    }\n",
              "\n",
              "    .dataframe thead th {\n",
              "        text-align: right;\n",
              "    }\n",
              "</style>\n",
              "<table border=\"1\" class=\"dataframe\">\n",
              "  <thead>\n",
              "    <tr style=\"text-align: right;\">\n",
              "      <th></th>\n",
              "      <th>CreditScore</th>\n",
              "      <th>Age</th>\n",
              "      <th>Tenure</th>\n",
              "      <th>Balance</th>\n",
              "      <th>NumOfProducts</th>\n",
              "      <th>HasCrCard</th>\n",
              "      <th>IsActiveMember</th>\n",
              "      <th>EstimatedSalary</th>\n",
              "      <th>Germany</th>\n",
              "      <th>Spain</th>\n",
              "      <th>Male</th>\n",
              "    </tr>\n",
              "  </thead>\n",
              "  <tbody>\n",
              "    <tr>\n",
              "      <th>2967</th>\n",
              "      <td>579</td>\n",
              "      <td>39</td>\n",
              "      <td>5</td>\n",
              "      <td>117833.30</td>\n",
              "      <td>3</td>\n",
              "      <td>0</td>\n",
              "      <td>0</td>\n",
              "      <td>5831.00</td>\n",
              "      <td>1</td>\n",
              "      <td>0</td>\n",
              "      <td>0</td>\n",
              "    </tr>\n",
              "    <tr>\n",
              "      <th>700</th>\n",
              "      <td>750</td>\n",
              "      <td>32</td>\n",
              "      <td>5</td>\n",
              "      <td>0.00</td>\n",
              "      <td>2</td>\n",
              "      <td>1</td>\n",
              "      <td>0</td>\n",
              "      <td>95611.47</td>\n",
              "      <td>0</td>\n",
              "      <td>0</td>\n",
              "      <td>0</td>\n",
              "    </tr>\n",
              "    <tr>\n",
              "      <th>3481</th>\n",
              "      <td>729</td>\n",
              "      <td>34</td>\n",
              "      <td>9</td>\n",
              "      <td>53299.96</td>\n",
              "      <td>2</td>\n",
              "      <td>1</td>\n",
              "      <td>1</td>\n",
              "      <td>42855.97</td>\n",
              "      <td>0</td>\n",
              "      <td>1</td>\n",
              "      <td>0</td>\n",
              "    </tr>\n",
              "    <tr>\n",
              "      <th>1621</th>\n",
              "      <td>689</td>\n",
              "      <td>38</td>\n",
              "      <td>5</td>\n",
              "      <td>75075.14</td>\n",
              "      <td>1</td>\n",
              "      <td>1</td>\n",
              "      <td>1</td>\n",
              "      <td>8651.92</td>\n",
              "      <td>0</td>\n",
              "      <td>1</td>\n",
              "      <td>1</td>\n",
              "    </tr>\n",
              "    <tr>\n",
              "      <th>800</th>\n",
              "      <td>605</td>\n",
              "      <td>52</td>\n",
              "      <td>7</td>\n",
              "      <td>0.00</td>\n",
              "      <td>2</td>\n",
              "      <td>1</td>\n",
              "      <td>1</td>\n",
              "      <td>173952.50</td>\n",
              "      <td>0</td>\n",
              "      <td>0</td>\n",
              "      <td>1</td>\n",
              "    </tr>\n",
              "  </tbody>\n",
              "</table>\n",
              "</div>\n",
              "      <button class=\"colab-df-convert\" onclick=\"convertToInteractive('df-ed5117a6-7668-43cd-8b2d-9e798633acd5')\"\n",
              "              title=\"Convert this dataframe to an interactive table.\"\n",
              "              style=\"display:none;\">\n",
              "        \n",
              "  <svg xmlns=\"http://www.w3.org/2000/svg\" height=\"24px\"viewBox=\"0 0 24 24\"\n",
              "       width=\"24px\">\n",
              "    <path d=\"M0 0h24v24H0V0z\" fill=\"none\"/>\n",
              "    <path d=\"M18.56 5.44l.94 2.06.94-2.06 2.06-.94-2.06-.94-.94-2.06-.94 2.06-2.06.94zm-11 1L8.5 8.5l.94-2.06 2.06-.94-2.06-.94L8.5 2.5l-.94 2.06-2.06.94zm10 10l.94 2.06.94-2.06 2.06-.94-2.06-.94-.94-2.06-.94 2.06-2.06.94z\"/><path d=\"M17.41 7.96l-1.37-1.37c-.4-.4-.92-.59-1.43-.59-.52 0-1.04.2-1.43.59L10.3 9.45l-7.72 7.72c-.78.78-.78 2.05 0 2.83L4 21.41c.39.39.9.59 1.41.59.51 0 1.02-.2 1.41-.59l7.78-7.78 2.81-2.81c.8-.78.8-2.07 0-2.86zM5.41 20L4 18.59l7.72-7.72 1.47 1.35L5.41 20z\"/>\n",
              "  </svg>\n",
              "      </button>\n",
              "      \n",
              "  <style>\n",
              "    .colab-df-container {\n",
              "      display:flex;\n",
              "      flex-wrap:wrap;\n",
              "      gap: 12px;\n",
              "    }\n",
              "\n",
              "    .colab-df-convert {\n",
              "      background-color: #E8F0FE;\n",
              "      border: none;\n",
              "      border-radius: 50%;\n",
              "      cursor: pointer;\n",
              "      display: none;\n",
              "      fill: #1967D2;\n",
              "      height: 32px;\n",
              "      padding: 0 0 0 0;\n",
              "      width: 32px;\n",
              "    }\n",
              "\n",
              "    .colab-df-convert:hover {\n",
              "      background-color: #E2EBFA;\n",
              "      box-shadow: 0px 1px 2px rgba(60, 64, 67, 0.3), 0px 1px 3px 1px rgba(60, 64, 67, 0.15);\n",
              "      fill: #174EA6;\n",
              "    }\n",
              "\n",
              "    [theme=dark] .colab-df-convert {\n",
              "      background-color: #3B4455;\n",
              "      fill: #D2E3FC;\n",
              "    }\n",
              "\n",
              "    [theme=dark] .colab-df-convert:hover {\n",
              "      background-color: #434B5C;\n",
              "      box-shadow: 0px 1px 3px 1px rgba(0, 0, 0, 0.15);\n",
              "      filter: drop-shadow(0px 1px 2px rgba(0, 0, 0, 0.3));\n",
              "      fill: #FFFFFF;\n",
              "    }\n",
              "  </style>\n",
              "\n",
              "      <script>\n",
              "        const buttonEl =\n",
              "          document.querySelector('#df-ed5117a6-7668-43cd-8b2d-9e798633acd5 button.colab-df-convert');\n",
              "        buttonEl.style.display =\n",
              "          google.colab.kernel.accessAllowed ? 'block' : 'none';\n",
              "\n",
              "        async function convertToInteractive(key) {\n",
              "          const element = document.querySelector('#df-ed5117a6-7668-43cd-8b2d-9e798633acd5');\n",
              "          const dataTable =\n",
              "            await google.colab.kernel.invokeFunction('convertToInteractive',\n",
              "                                                     [key], {});\n",
              "          if (!dataTable) return;\n",
              "\n",
              "          const docLinkHtml = 'Like what you see? Visit the ' +\n",
              "            '<a target=\"_blank\" href=https://colab.research.google.com/notebooks/data_table.ipynb>data table notebook</a>'\n",
              "            + ' to learn more about interactive tables.';\n",
              "          element.innerHTML = '';\n",
              "          dataTable['output_type'] = 'display_data';\n",
              "          await google.colab.output.renderOutput(dataTable, element);\n",
              "          const docLink = document.createElement('div');\n",
              "          docLink.innerHTML = docLinkHtml;\n",
              "          element.appendChild(docLink);\n",
              "        }\n",
              "      </script>\n",
              "    </div>\n",
              "  </div>\n",
              "  "
            ]
          },
          "metadata": {},
          "execution_count": 161
        }
      ]
    },
    {
      "cell_type": "code",
      "source": [
        "# feature Scalling\n",
        "from sklearn.preprocessing import StandardScaler\n",
        "sc = StandardScaler()\n",
        "x_train = sc.fit_transform(x_train)\n",
        "x_test = sc.transform(x_test)"
      ],
      "metadata": {
        "id": "zTR8Het9EQCr"
      },
      "execution_count": 162,
      "outputs": []
    },
    {
      "cell_type": "code",
      "source": [
        "## part 2 Now lets create the ANN\n",
        "from tensorflow.keras.models import Sequential\n",
        "from tensorflow.keras.layers import Dense, Dropout, LeakyReLU, PReLU, ELU, ReLU"
      ],
      "metadata": {
        "id": "XsUZJA9VEyBY"
      },
      "execution_count": 163,
      "outputs": []
    },
    {
      "cell_type": "code",
      "source": [
        "# lets initialize the ANN\n",
        "classifier = Sequential()"
      ],
      "metadata": {
        "id": "-JTHXv7QGgGW"
      },
      "execution_count": 164,
      "outputs": []
    },
    {
      "cell_type": "code",
      "source": [
        "## Adding the input layer and first hidden layer\n",
        "classifier.add(Dense(10, input_shape=(11,),activation='relu'))"
      ],
      "metadata": {
        "id": "4_ZMfgN9Gn51"
      },
      "execution_count": 165,
      "outputs": []
    },
    {
      "cell_type": "code",
      "source": [
        "## adding the second hidden layer\n",
        "classifier.add(Dense(units=10, activation='relu'))\n",
        "# classifier.add(Dropout(0.3)) # only use it when our model is overfitted\n"
      ],
      "metadata": {
        "id": "5SrBrx9dGyRk"
      },
      "execution_count": 166,
      "outputs": []
    },
    {
      "cell_type": "code",
      "source": [
        "## adding Therd hidden layer\n",
        "classifier.add(Dense(units=10, activation='relu'))\n",
        "# classifier.add(Dropout(0.2))"
      ],
      "metadata": {
        "id": "dHqQ3N2aXou6"
      },
      "execution_count": 168,
      "outputs": []
    },
    {
      "cell_type": "code",
      "source": [
        "## adding the output layer\n",
        "classifier.add(Dense(1,activation='sigmoid'))"
      ],
      "metadata": {
        "id": "HXS6HoAPX4kb"
      },
      "execution_count": 169,
      "outputs": []
    },
    {
      "cell_type": "code",
      "source": [
        "classifier.summary()"
      ],
      "metadata": {
        "id": "kIqV0B0HYg0N",
        "colab": {
          "base_uri": "https://localhost:8080/"
        },
        "outputId": "419b4ae5-740b-4503-df30-4ef5c985589c"
      },
      "execution_count": 170,
      "outputs": [
        {
          "output_type": "stream",
          "name": "stdout",
          "text": [
            "Model: \"sequential_4\"\n",
            "_________________________________________________________________\n",
            " Layer (type)                Output Shape              Param #   \n",
            "=================================================================\n",
            " dense_12 (Dense)            (None, 10)                120       \n",
            "                                                                 \n",
            " dense_13 (Dense)            (None, 10)                110       \n",
            "                                                                 \n",
            " dense_14 (Dense)            (None, 10)                110       \n",
            "                                                                 \n",
            " dense_15 (Dense)            (None, 1)                 11        \n",
            "                                                                 \n",
            "=================================================================\n",
            "Total params: 351\n",
            "Trainable params: 351\n",
            "Non-trainable params: 0\n",
            "_________________________________________________________________\n"
          ]
        }
      ]
    },
    {
      "cell_type": "markdown",
      "source": [
        "total param mean total number of weight and bias"
      ],
      "metadata": {
        "id": "Px1c8G-1ZGAw"
      }
    },
    {
      "cell_type": "code",
      "source": [
        "import tensorflow\n",
        "opt = tensorflow.keras.optimizers.Adam(learning_rate=0.01)# this optimizers is resposible for training"
      ],
      "metadata": {
        "id": "7lCxOvSvaCBi"
      },
      "execution_count": 171,
      "outputs": []
    },
    {
      "cell_type": "code",
      "source": [
        "classifier.compile(optimizer=opt,loss='binary_crossentropy',metrics=['accuracy'])"
      ],
      "metadata": {
        "id": "mUKEv9C7YMoR"
      },
      "execution_count": 172,
      "outputs": []
    },
    {
      "cell_type": "code",
      "source": [
        "## early stopping\n",
        "import tensorflow as tf\n",
        "early_stopping = tf.keras.callbacks.EarlyStopping(\n",
        "    monitor = 'val_loss',\n",
        "    min_delta=0.0001,\n",
        "    patience = 20,\n",
        "    verbose = 1,\n",
        "    mode ='auto',\n",
        "    baseline = None,\n",
        "    restore_best_weights=False,\n",
        ")"
      ],
      "metadata": {
        "id": "boOWUiYZaAhP"
      },
      "execution_count": 173,
      "outputs": []
    },
    {
      "cell_type": "code",
      "source": [
        "model_history = classifier.fit(x_train,y_train, validation_data =(x_test,y_test),validation_split=0.33, batch_size=10, epochs=1000, callbacks=early_stopping)"
      ],
      "metadata": {
        "colab": {
          "base_uri": "https://localhost:8080/"
        },
        "id": "YYD4xCYLa2VO",
        "outputId": "d99c834a-95e4-4ada-e824-3bdcb9773d0c"
      },
      "execution_count": 174,
      "outputs": [
        {
          "output_type": "stream",
          "name": "stdout",
          "text": [
            "Epoch 1/1000\n",
            "750/750 [==============================] - 3s 3ms/step - loss: 0.4200 - accuracy: 0.8123 - val_loss: 0.3790 - val_accuracy: 0.8424\n",
            "Epoch 2/1000\n",
            "750/750 [==============================] - 2s 3ms/step - loss: 0.3742 - accuracy: 0.8464 - val_loss: 0.3440 - val_accuracy: 0.8604\n",
            "Epoch 3/1000\n",
            "750/750 [==============================] - 3s 3ms/step - loss: 0.3568 - accuracy: 0.8553 - val_loss: 0.3509 - val_accuracy: 0.8616\n",
            "Epoch 4/1000\n",
            "750/750 [==============================] - 2s 3ms/step - loss: 0.3529 - accuracy: 0.8569 - val_loss: 0.3510 - val_accuracy: 0.8568\n",
            "Epoch 5/1000\n",
            "750/750 [==============================] - 2s 3ms/step - loss: 0.3529 - accuracy: 0.8581 - val_loss: 0.3494 - val_accuracy: 0.8572\n",
            "Epoch 6/1000\n",
            "750/750 [==============================] - 4s 5ms/step - loss: 0.3514 - accuracy: 0.8576 - val_loss: 0.3392 - val_accuracy: 0.8612\n",
            "Epoch 7/1000\n",
            "750/750 [==============================] - 4s 5ms/step - loss: 0.3493 - accuracy: 0.8596 - val_loss: 0.3643 - val_accuracy: 0.8624\n",
            "Epoch 8/1000\n",
            "750/750 [==============================] - 2s 3ms/step - loss: 0.3526 - accuracy: 0.8552 - val_loss: 0.3442 - val_accuracy: 0.8612\n",
            "Epoch 9/1000\n",
            "750/750 [==============================] - 2s 3ms/step - loss: 0.3477 - accuracy: 0.8589 - val_loss: 0.3427 - val_accuracy: 0.8600\n",
            "Epoch 10/1000\n",
            "750/750 [==============================] - 3s 4ms/step - loss: 0.3474 - accuracy: 0.8609 - val_loss: 0.3549 - val_accuracy: 0.8572\n",
            "Epoch 11/1000\n",
            "750/750 [==============================] - 4s 5ms/step - loss: 0.3456 - accuracy: 0.8595 - val_loss: 0.3402 - val_accuracy: 0.8592\n",
            "Epoch 12/1000\n",
            "750/750 [==============================] - 3s 4ms/step - loss: 0.3477 - accuracy: 0.8591 - val_loss: 0.3381 - val_accuracy: 0.8600\n",
            "Epoch 13/1000\n",
            "750/750 [==============================] - 5s 7ms/step - loss: 0.3448 - accuracy: 0.8608 - val_loss: 0.3392 - val_accuracy: 0.8588\n",
            "Epoch 14/1000\n",
            "750/750 [==============================] - 5s 6ms/step - loss: 0.3423 - accuracy: 0.8607 - val_loss: 0.3392 - val_accuracy: 0.8652\n",
            "Epoch 15/1000\n",
            "750/750 [==============================] - 3s 4ms/step - loss: 0.3464 - accuracy: 0.8596 - val_loss: 0.3361 - val_accuracy: 0.8600\n",
            "Epoch 16/1000\n",
            "750/750 [==============================] - 3s 3ms/step - loss: 0.3425 - accuracy: 0.8623 - val_loss: 0.3431 - val_accuracy: 0.8620\n",
            "Epoch 17/1000\n",
            "750/750 [==============================] - 2s 3ms/step - loss: 0.3429 - accuracy: 0.8605 - val_loss: 0.3446 - val_accuracy: 0.8624\n",
            "Epoch 18/1000\n",
            "750/750 [==============================] - 3s 3ms/step - loss: 0.3412 - accuracy: 0.8627 - val_loss: 0.3380 - val_accuracy: 0.8612\n",
            "Epoch 19/1000\n",
            "750/750 [==============================] - 3s 5ms/step - loss: 0.3435 - accuracy: 0.8615 - val_loss: 0.3440 - val_accuracy: 0.8580\n",
            "Epoch 20/1000\n",
            "750/750 [==============================] - 4s 5ms/step - loss: 0.3409 - accuracy: 0.8615 - val_loss: 0.3422 - val_accuracy: 0.8552\n",
            "Epoch 21/1000\n",
            "750/750 [==============================] - 4s 5ms/step - loss: 0.3403 - accuracy: 0.8623 - val_loss: 0.3379 - val_accuracy: 0.8624\n",
            "Epoch 22/1000\n",
            "750/750 [==============================] - 2s 3ms/step - loss: 0.3387 - accuracy: 0.8636 - val_loss: 0.3479 - val_accuracy: 0.8624\n",
            "Epoch 23/1000\n",
            "750/750 [==============================] - 3s 3ms/step - loss: 0.3417 - accuracy: 0.8631 - val_loss: 0.3392 - val_accuracy: 0.8632\n",
            "Epoch 24/1000\n",
            "750/750 [==============================] - 2s 3ms/step - loss: 0.3412 - accuracy: 0.8640 - val_loss: 0.3461 - val_accuracy: 0.8592\n",
            "Epoch 25/1000\n",
            "750/750 [==============================] - 2s 3ms/step - loss: 0.3392 - accuracy: 0.8649 - val_loss: 0.3383 - val_accuracy: 0.8612\n",
            "Epoch 26/1000\n",
            "750/750 [==============================] - 2s 3ms/step - loss: 0.3396 - accuracy: 0.8609 - val_loss: 0.3401 - val_accuracy: 0.8588\n",
            "Epoch 27/1000\n",
            "750/750 [==============================] - 3s 3ms/step - loss: 0.3379 - accuracy: 0.8625 - val_loss: 0.3490 - val_accuracy: 0.8560\n",
            "Epoch 28/1000\n",
            "750/750 [==============================] - 2s 3ms/step - loss: 0.3395 - accuracy: 0.8612 - val_loss: 0.3494 - val_accuracy: 0.8568\n",
            "Epoch 29/1000\n",
            "750/750 [==============================] - 3s 3ms/step - loss: 0.3400 - accuracy: 0.8607 - val_loss: 0.3477 - val_accuracy: 0.8528\n",
            "Epoch 30/1000\n",
            "750/750 [==============================] - 2s 3ms/step - loss: 0.3370 - accuracy: 0.8637 - val_loss: 0.3395 - val_accuracy: 0.8576\n",
            "Epoch 31/1000\n",
            "750/750 [==============================] - 3s 3ms/step - loss: 0.3359 - accuracy: 0.8632 - val_loss: 0.3504 - val_accuracy: 0.8604\n",
            "Epoch 32/1000\n",
            "750/750 [==============================] - 2s 3ms/step - loss: 0.3384 - accuracy: 0.8632 - val_loss: 0.3533 - val_accuracy: 0.8492\n",
            "Epoch 33/1000\n",
            "750/750 [==============================] - 2s 3ms/step - loss: 0.3379 - accuracy: 0.8636 - val_loss: 0.3395 - val_accuracy: 0.8616\n",
            "Epoch 34/1000\n",
            "750/750 [==============================] - 3s 3ms/step - loss: 0.3357 - accuracy: 0.8633 - val_loss: 0.3442 - val_accuracy: 0.8608\n",
            "Epoch 35/1000\n",
            "750/750 [==============================] - 3s 3ms/step - loss: 0.3370 - accuracy: 0.8643 - val_loss: 0.3485 - val_accuracy: 0.8584\n",
            "Epoch 35: early stopping\n"
          ]
        }
      ]
    },
    {
      "cell_type": "code",
      "source": [
        "model_history.history.keys()"
      ],
      "metadata": {
        "id": "8LKSPw_6qj1G",
        "colab": {
          "base_uri": "https://localhost:8080/"
        },
        "outputId": "39619b12-b14f-4c50-bdc5-146a5065c199"
      },
      "execution_count": 175,
      "outputs": [
        {
          "output_type": "execute_result",
          "data": {
            "text/plain": [
              "dict_keys(['loss', 'accuracy', 'val_loss', 'val_accuracy'])"
            ]
          },
          "metadata": {},
          "execution_count": 175
        }
      ]
    },
    {
      "cell_type": "code",
      "source": [
        "## summarize history for accuracy\n",
        "plt.plot(model_history.history['accuracy'])\n",
        "plt.plot(model_history.history['val_accuracy'])\n",
        "plt.title('model accutacy')\n",
        "plt.ylabel('accuracy')\n",
        "plt.xlabel('epoch')\n",
        "plt.legend(['train','test'],loc='upper left')\n",
        "plt.show()"
      ],
      "metadata": {
        "colab": {
          "base_uri": "https://localhost:8080/",
          "height": 295
        },
        "id": "oBeKxkRFJ1t2",
        "outputId": "ebc3de25-71e9-48bb-a33f-86d72211a5a4"
      },
      "execution_count": 176,
      "outputs": [
        {
          "output_type": "display_data",
          "data": {
            "text/plain": [
              "<Figure size 432x288 with 1 Axes>"
            ],
            "image/png": "[encoded data removed]"
          },
          "metadata": {
            "needs_background": "light"
          }
        }
      ]
    },
    {
      "cell_type": "code",
      "source": [
        "# summarize history for loss\n",
        "plt.plot(model_history.history['loss'])\n",
        "plt.plot(model_history.history['val_loss'])\n",
        "plt.title('model loss')\n",
        "plt.ylabel('loss')\n",
        "plt.xlabel('epoch')\n",
        "plt.legend(['train','test'],loc = 'upper left')"
      ],
      "metadata": {
        "colab": {
          "base_uri": "https://localhost:8080/",
          "height": 312
        },
        "id": "Oz8ykaCBLr0H",
        "outputId": "5bb8f9dc-afc2-4692-934e-182934fae0c8"
      },
      "execution_count": 177,
      "outputs": [
        {
          "output_type": "execute_result",
          "data": {
            "text/plain": [
              "<matplotlib.legend.Legend at 0x7fc4e85c03d0>"
            ]
          },
          "metadata": {},
          "execution_count": 177
        },
        {
          "output_type": "display_data",
          "data": {
            "text/plain": [
              "<Figure size 432x288 with 1 Axes>"
            ],
            "image/png": "[encoded data removed]"
          },
          "metadata": {
            "needs_background": "light"
          }
        }
      ]
    },
    {
      "cell_type": "code",
      "source": [
        "## making the predication and evaluating the model\n",
        "# predicting the test set result\n",
        "y_pred = classifier.predict(x_test)\n",
        "y_pred = (y_pred>=0.5)# here you can check the threshold using ROC and AUC curve"
      ],
      "metadata": {
        "id": "MJGQy1FrMjfr",
        "colab": {
          "base_uri": "https://localhost:8080/"
        },
        "outputId": "00403b80-3cba-4ef2-b66b-7a4f7514c8da"
      },
      "execution_count": 178,
      "outputs": [
        {
          "output_type": "stream",
          "name": "stdout",
          "text": [
            "79/79 [==============================] - 0s 1ms/step\n"
          ]
        }
      ]
    },
    {
      "cell_type": "code",
      "source": [
        "## make the confusion matrix\n",
        "from sklearn.metrics import confusion_matrix\n",
        "cm = confusion_matrix(y_test,y_pred)\n",
        "cm"
      ],
      "metadata": {
        "id": "q9EyY9UUKYS_",
        "colab": {
          "base_uri": "https://localhost:8080/"
        },
        "outputId": "ab3b42d4-1b63-4f2c-8f48-93fdd3a4da49"
      },
      "execution_count": 179,
      "outputs": [
        {
          "output_type": "execute_result",
          "data": {
            "text/plain": [
              "array([[1907,   84],\n",
              "       [ 270,  239]])"
            ]
          },
          "metadata": {},
          "execution_count": 179
        }
      ]
    },
    {
      "cell_type": "code",
      "source": [
        "## calcuate the accuracy\n",
        "from sklearn.metrics import accuracy_score\n",
        "score = accuracy_score(y_pred,y_test)"
      ],
      "metadata": {
        "id": "mfgkqfj7M4Td"
      },
      "execution_count": 180,
      "outputs": []
    },
    {
      "cell_type": "code",
      "source": [
        "score"
      ],
      "metadata": {
        "colab": {
          "base_uri": "https://localhost:8080/"
        },
        "id": "6PAZgdleNWHt",
        "outputId": "299356b7-d99e-41c5-f4c0-1814859ed7a0"
      },
      "execution_count": 181,
      "outputs": [
        {
          "output_type": "execute_result",
          "data": {
            "text/plain": [
              "0.8584"
            ]
          },
          "metadata": {},
          "execution_count": 181
        }
      ]
    },
    {
      "cell_type": "code",
      "source": [
        "## get the weights\n",
        "classifier.get_weights()"
      ],
      "metadata": {
        "colab": {
          "base_uri": "https://localhost:8080/"
        },
        "id": "MOf7NaqsNYyx",
        "outputId": "d1d6c42a-6053-46fa-9b8d-5a3ad17353e2"
      },
      "execution_count": 182,
      "outputs": [
        {
          "output_type": "execute_result",
          "data": {
            "text/plain": [
              "[array([[ 0.18236633, -0.23240295, -0.23735337, -0.5279678 ,  0.6834809 ,\n",
              "         -0.82274693, -0.05128364, -0.09764741,  0.44073984, -0.07637016],\n",
              "        [-2.4939404 , -1.8428952 , -0.70937127,  2.1438835 ,  0.11611395,\n",
              "         -2.9409595 , -2.1302156 , -0.4114357 , -0.0657956 ,  2.37828   ],\n",
              "        [ 0.21595137, -0.22522555,  0.0419077 , -0.6732658 ,  1.1241394 ,\n",
              "          0.00600787, -0.09050132, -0.1335806 ,  0.8369257 , -0.28138083],\n",
              "        [ 1.6316955 , -1.22811   , -1.7243602 ,  1.0231199 , -0.6950342 ,\n",
              "         -2.0638154 , -0.45128456,  1.3654295 ,  0.03901793, -0.0990383 ],\n",
              "        [ 0.62443686, -1.064914  ,  3.5664186 ,  1.638847  , -0.30445424,\n",
              "         -0.32619828,  1.3867278 ,  3.6085029 ,  0.35133103, -0.33428326],\n",
              "        [-0.17045788, -0.32305205,  0.06375983, -0.29600137,  0.16618454,\n",
              "         -0.7437672 , -0.5315267 , -0.14220347,  1.5331805 , -0.34437   ],\n",
              "        [ 0.51870984,  1.4734097 ,  0.20702146, -0.30466512,  1.446157  ,\n",
              "          0.96809137,  0.44995385,  0.85716784,  2.181307  ,  3.2348142 ],\n",
              "        [ 0.07336102,  0.7481596 , -0.01078309,  0.9691295 , -1.6811529 ,\n",
              "         -0.79768085,  1.2178296 ,  0.01352554,  1.005611  , -0.02173107],\n",
              "        [-2.0472894 ,  1.7448552 ,  1.3123364 , -0.4479635 , -1.6845008 ,\n",
              "         -0.49232313, -0.8446462 , -0.96540177,  0.34572282, -0.05931303],\n",
              "        [-0.28975096, -1.7199265 , -0.43776092, -1.478049  ,  0.3693481 ,\n",
              "         -0.24447383, -0.3161805 ,  0.28294438,  0.08487526, -0.06243264],\n",
              "        [ 0.23505004, -0.984341  ,  0.05584172, -0.21600586,  0.07364076,\n",
              "          2.2545638 ,  2.2942543 ,  0.3218081 ,  1.583798  ,  0.43033102]],\n",
              "       dtype=float32),\n",
              " array([ 3.7141998 ,  1.6140265 ,  1.6145948 , -0.7377016 ,  0.10844884,\n",
              "        -0.02817326,  0.4823196 , -3.269305  , -2.5183175 , -2.8666868 ],\n",
              "       dtype=float32),\n",
              " array([[-1.6930978e+00, -2.1413714e-01,  1.3983437e-03,  6.3103783e-01,\n",
              "         -1.7504888e+00, -9.7200102e-01, -2.0380533e+00,  3.5331714e-01,\n",
              "         -6.0991287e-01,  1.4555523e+00],\n",
              "        [-2.7021604e+00, -1.4161555e-01, -5.3286755e-01, -1.0774022e+00,\n",
              "          5.4129034e-01, -2.3191261e+00, -3.8826996e-01, -2.7216370e+00,\n",
              "         -1.2116522e+00,  9.0997450e-02],\n",
              "        [ 6.7862552e-01, -1.0210419e+00,  6.0677152e-02, -5.3432560e+00,\n",
              "         -3.5848203e+00,  1.2783705e+00, -1.2825352e+00,  1.4499124e+00,\n",
              "          7.7774858e-01,  1.3713007e+00],\n",
              "        [ 6.5354979e-01, -1.7965493e+00, -1.6787682e-01,  8.5929149e-01,\n",
              "         -9.2111760e-01, -1.8969876e+00,  8.0588037e-01, -3.0253856e+00,\n",
              "          5.1078802e-01, -3.5166150e-01],\n",
              "        [ 4.1244590e-01, -3.0016530e-01, -8.4024030e-01, -3.7553344e+00,\n",
              "          2.1229386e-01, -2.3705360e-01,  3.1422061e-01, -8.1643991e-02,\n",
              "         -1.1487700e+00,  3.6002705e-01],\n",
              "        [-1.9863338e+00, -5.1407462e-01, -3.9566532e-01, -1.6537309e+00,\n",
              "          4.9899140e-01,  7.1109408e-01, -1.9065428e+00, -1.1187623e+00,\n",
              "         -1.1415594e+00,  4.2206210e-01],\n",
              "        [ 1.4431112e+00, -5.0190762e-02, -3.0198088e-02, -3.2617571e+00,\n",
              "          1.0108171e+00,  8.8625938e-01, -1.1711479e-01, -1.0706906e+00,\n",
              "         -2.0840717e-02,  4.0398219e-01],\n",
              "        [-9.3553448e-01, -3.4878525e-01, -9.5074165e-01, -1.5614017e+00,\n",
              "          6.5413237e-01, -2.6240680e+00,  1.2829010e-01, -6.3179237e-01,\n",
              "          2.1910639e+00, -2.3682923e+00],\n",
              "        [-4.2855343e-01,  2.2783697e-02, -4.9259433e-01, -3.1450588e-01,\n",
              "         -2.6612049e-02,  7.8613019e-01,  8.4434845e-02, -7.1169811e-01,\n",
              "          2.3590340e-01,  1.5576923e+00],\n",
              "        [ 1.2576582e+00, -6.8650317e-01, -4.0252247e-01, -3.3601704e+00,\n",
              "          9.9430573e-01, -8.0602002e-01, -2.3237176e+00,  6.7914671e-01,\n",
              "         -1.7841291e+00, -1.2036819e+00]], dtype=float32),\n",
              " array([-2.2353213 , -0.8658485 , -0.48172146, -0.4677016 , -0.22531447,\n",
              "        -0.5152817 ,  2.730163  , -0.11402138, -4.4229894 ,  0.13591251],\n",
              "       dtype=float32),\n",
              " array([[ 7.01151669e-01, -1.03915907e-01, -1.87811625e+00,\n",
              "          1.40246807e-03,  4.47487086e-02, -3.12072068e-01,\n",
              "         -1.09343028e+00, -3.92282121e-02,  2.15633720e-01,\n",
              "         -1.11915909e-01],\n",
              "        [-2.82352325e-02, -3.01549584e-01,  5.71654558e-01,\n",
              "         -5.72120845e-01,  1.17239380e+00, -1.89249218e-01,\n",
              "         -1.78329512e-01, -6.08612411e-02,  6.94435775e-01,\n",
              "          5.75715303e-02],\n",
              "        [-2.76505500e-01,  1.85583532e-02, -6.21661663e-01,\n",
              "          1.70569345e-01, -6.35024393e-03, -1.10385470e-01,\n",
              "          9.63772461e-02, -2.70140588e-01,  2.06836909e-01,\n",
              "         -3.35319005e-02],\n",
              "        [-1.31179082e+00, -7.18659163e-03,  4.67722028e-01,\n",
              "          2.05115944e-01,  1.68482050e-01, -2.65393227e-01,\n",
              "         -9.80050921e-01, -6.31744683e-01, -8.01986933e-01,\n",
              "          1.75624311e+00],\n",
              "        [-2.72472054e-01, -3.18618745e-01,  2.60163814e-01,\n",
              "         -1.17214596e+00, -1.56228936e+00, -3.12525123e-01,\n",
              "         -1.47938442e+00, -2.30194852e-01, -1.57464087e+00,\n",
              "         -4.70491737e-01],\n",
              "        [ 5.84388196e-01,  8.24671984e-01, -3.75735283e-01,\n",
              "         -5.76591909e-01,  5.75553536e-01, -9.39221382e-02,\n",
              "          1.82998717e+00,  1.95128620e-01, -1.65699339e+00,\n",
              "          5.97188324e-02],\n",
              "        [-2.59296250e+00, -5.86751580e-01,  1.09233105e+00,\n",
              "         -5.81823587e-01,  6.95795119e-02, -1.35405347e-01,\n",
              "          2.34580517e-01, -9.52845693e-01,  1.08762316e-01,\n",
              "         -2.83043444e-01],\n",
              "        [ 4.84148324e-01, -4.56744164e-01, -6.18789673e-01,\n",
              "         -1.01247326e-01, -4.97393459e-01,  8.53693299e-03,\n",
              "         -3.22428137e-01, -6.82046950e-01, -1.27649820e+00,\n",
              "         -5.29736102e-01],\n",
              "        [-2.22411060e+00, -2.90682316e-01,  8.94871056e-02,\n",
              "         -5.90869248e-01, -7.78828442e-01, -1.40396664e-02,\n",
              "          1.11870158e+00, -1.05016458e+00,  1.00039768e+00,\n",
              "          1.51837015e+00],\n",
              "        [ 4.39479947e-01, -6.12654269e-01, -1.06326473e+00,\n",
              "         -3.01276743e-01, -3.98354262e-01, -1.23046316e-01,\n",
              "         -2.62428522e+00, -1.83759734e-01, -1.50718570e-01,\n",
              "         -1.30818129e+00]], dtype=float32),\n",
              " array([ 0.2139215 , -1.1232255 ,  0.90995663, -0.5867387 , -2.0039294 ,\n",
              "        -0.36156654, -0.62964326, -0.4858345 , -2.7672665 , -2.7150307 ],\n",
              "       dtype=float32),\n",
              " array([[-0.2996954 ],\n",
              "        [ 0.1374709 ],\n",
              "        [ 0.4048823 ],\n",
              "        [ 0.14773332],\n",
              "        [ 0.16087869],\n",
              "        [ 0.2357283 ],\n",
              "        [-0.03725468],\n",
              "        [ 0.03570998],\n",
              "        [ 0.2238433 ],\n",
              "        [ 0.17151731]], dtype=float32),\n",
              " array([-0.11071073], dtype=float32)]"
            ]
          },
          "metadata": {},
          "execution_count": 182
        }
      ]
    },
    {
      "cell_type": "code",
      "source": [
        "## save the file in .h5 file\n",
        "classifier.save('model.h5')"
      ],
      "metadata": {
        "id": "JR6UKnKQNe9V"
      },
      "execution_count": 183,
      "outputs": []
    },
    {
      "cell_type": "code",
      "source": [
        "## loading h5 file \n",
        "from tensorflow import keras\n",
        "classifier1 = keras.models.load_model('model.h5')"
      ],
      "metadata": {
        "id": "6-_GyiIiO55z"
      },
      "execution_count": 184,
      "outputs": []
    },
    {
      "cell_type": "code",
      "source": [
        "y_pred = classifier1.predict(x_test)"
      ],
      "metadata": {
        "colab": {
          "base_uri": "https://localhost:8080/"
        },
        "id": "8jadu1m1PwUH",
        "outputId": "37b930ed-f422-4150-91a3-4b3c8a754114"
      },
      "execution_count": 185,
      "outputs": [
        {
          "output_type": "stream",
          "name": "stdout",
          "text": [
            "79/79 [==============================] - 0s 1ms/step\n"
          ]
        },
        {
          "output_type": "execute_result",
          "data": {
            "text/plain": [
              "array([[0.26756677],\n",
              "       [0.39725763],\n",
              "       [0.20875196],\n",
              "       ...,\n",
              "       [0.3402801 ],\n",
              "       [0.03446741],\n",
              "       [0.12268431]], dtype=float32)"
            ]
          },
          "metadata": {},
          "execution_count": 185
        }
      ]
    },
    {
      "cell_type": "code",
      "source": [
        "print(accuracy_score(y_test,y_pred))"
      ],
      "metadata": {
        "colab": {
          "base_uri": "https://localhost:8080/"
        },
        "id": "wQHlH19Nh8SH",
        "outputId": "5791f858-a528-4758-9d3e-35cb1f7486f9"
      },
      "execution_count": 186,
      "outputs": [
        {
          "output_type": "stream",
          "name": "stdout",
          "text": [
            "0.8584\n"
          ]
        }
      ]
    },
    {
      "cell_type": "code",
      "source": [],
      "metadata": {
        "id": "4erTttZViuDF"
      },
      "execution_count": null,
      "outputs": []
    }
  ]
}