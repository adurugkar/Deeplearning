{
  "nbformat": 4,
  "nbformat_minor": 0,
  "metadata": {
    "colab": {
      "provenance": [],
      "collapsed_sections": [],
      "authorship_tag": "ABX9TyMpJjSELHTgPlwRNOke6Hy/",
      "include_colab_link": true
    },
    "kernelspec": {
      "name": "python3",
      "display_name": "Python 3"
    },
    "language_info": {
      "name": "python"
    },
    "accelerator": "GPU",
    "gpuClass": "standard"
  },
  "cells": [
    {
      "cell_type": "markdown",
      "metadata": {
        "id": "view-in-github",
        "colab_type": "text"
      },
      "source": [
        "<a href=\"https://colab.research.google.com/github/adurugkar/Deeplearning/blob/main/keras_tuner.ipynb\" target=\"_parent\"><img src=\"https://colab.research.google.com/assets/colab-badge.svg\" alt=\"Open In Colab\"/></a>"
      ]
    },
    {
      "cell_type": "markdown",
      "source": [
        "## California Housing Dataset\n"
      ],
      "metadata": {
        "id": "vxrIdPy1iBlb"
      }
    },
    {
      "cell_type": "markdown",
      "source": [
        "in this example, we are using the default dataset california Housing Dataset present in the Google Colab."
      ],
      "metadata": {
        "id": "o4KvFtThiKIb"
      }
    },
    {
      "cell_type": "code",
      "source": [
        "## importing libraries\n",
        "import math\n",
        "import pandas as pd\n",
        "import numpy as np\n",
        "import tensorflow as tf\n",
        "import matplotlib.pyplot as plt\n",
        "from tensorflow.keras import Model, Sequential\n",
        "from tensorflow.keras.optimizers import Adam\n",
        "from sklearn.preprocessing import StandardScaler\n",
        "from tensorflow.keras.layers import Dense, Dropout\n",
        "from sklearn.model_selection import train_test_split\n",
        "from tensorflow.keras.losses import MeanSquaredLogarithmicError\n",
        "import kerastuner as kt"
      ],
      "metadata": {
        "id": "TE8sj0BaiG10"
      },
      "execution_count": null,
      "outputs": []
    },
    {
      "cell_type": "markdown",
      "source": [
        "# Reading the files"
      ],
      "metadata": {
        "id": "LXBnsYJBkuyE"
      }
    },
    {
      "cell_type": "code",
      "source": [
        "#train file\n",
        "train_df = pd.read_csv('https://raw.githubusercontent.com/vtech20/keras_tuner_sample/main/california_housing_train.csv')\n",
        "\n",
        "#test file\n",
        "test_df = pd.read_csv('https://raw.githubusercontent.com/vtech20/keras_tuner_sample/main/california_housing_test.csv')"
      ],
      "metadata": {
        "id": "ZIbZzyOAkI91"
      },
      "execution_count": null,
      "outputs": []
    },
    {
      "cell_type": "markdown",
      "source": [
        "# Check the train data and test data"
      ],
      "metadata": {
        "id": "p-z84Y8Zl4L1"
      }
    },
    {
      "cell_type": "code",
      "source": [
        "train_df.head()"
      ],
      "metadata": {
        "colab": {
          "base_uri": "https://localhost:8080/",
          "height": 270
        },
        "id": "DuGs2i09l3B7",
        "outputId": "32fe4fc2-98fc-495e-d012-e2ea30659774"
      },
      "execution_count": null,
      "outputs": [
        {
          "output_type": "execute_result",
          "data": {
            "text/plain": [
              "   longitude  latitude  housing_median_age  total_rooms  total_bedrooms  \\\n",
              "0    -114.31     34.19                15.0       5612.0          1283.0   \n",
              "1    -114.47     34.40                19.0       7650.0          1901.0   \n",
              "2    -114.56     33.69                17.0        720.0           174.0   \n",
              "3    -114.57     33.64                14.0       1501.0           337.0   \n",
              "4    -114.57     33.57                20.0       1454.0           326.0   \n",
              "\n",
              "   population  households  median_income  median_house_value  \n",
              "0      1015.0       472.0         1.4936             66900.0  \n",
              "1      1129.0       463.0         1.8200             80100.0  \n",
              "2       333.0       117.0         1.6509             85700.0  \n",
              "3       515.0       226.0         3.1917             73400.0  \n",
              "4       624.0       262.0         1.9250             65500.0  "
            ],
            "text/html": [
              "\n",
              "  <div id=\"df-27866216-9eae-418e-8587-42cfee1e19e8\">\n",
              "    <div class=\"colab-df-container\">\n",
              "      <div>\n",
              "<style scoped>\n",
              "    .dataframe tbody tr th:only-of-type {\n",
              "        vertical-align: middle;\n",
              "    }\n",
              "\n",
              "    .dataframe tbody tr th {\n",
              "        vertical-align: top;\n",
              "    }\n",
              "\n",
              "    .dataframe thead th {\n",
              "        text-align: right;\n",
              "    }\n",
              "</style>\n",
              "<table border=\"1\" class=\"dataframe\">\n",
              "  <thead>\n",
              "    <tr style=\"text-align: right;\">\n",
              "      <th></th>\n",
              "      <th>longitude</th>\n",
              "      <th>latitude</th>\n",
              "      <th>housing_median_age</th>\n",
              "      <th>total_rooms</th>\n",
              "      <th>total_bedrooms</th>\n",
              "      <th>population</th>\n",
              "      <th>households</th>\n",
              "      <th>median_income</th>\n",
              "      <th>median_house_value</th>\n",
              "    </tr>\n",
              "  </thead>\n",
              "  <tbody>\n",
              "    <tr>\n",
              "      <th>0</th>\n",
              "      <td>-114.31</td>\n",
              "      <td>34.19</td>\n",
              "      <td>15.0</td>\n",
              "      <td>5612.0</td>\n",
              "      <td>1283.0</td>\n",
              "      <td>1015.0</td>\n",
              "      <td>472.0</td>\n",
              "      <td>1.4936</td>\n",
              "      <td>66900.0</td>\n",
              "    </tr>\n",
              "    <tr>\n",
              "      <th>1</th>\n",
              "      <td>-114.47</td>\n",
              "      <td>34.40</td>\n",
              "      <td>19.0</td>\n",
              "      <td>7650.0</td>\n",
              "      <td>1901.0</td>\n",
              "      <td>1129.0</td>\n",
              "      <td>463.0</td>\n",
              "      <td>1.8200</td>\n",
              "      <td>80100.0</td>\n",
              "    </tr>\n",
              "    <tr>\n",
              "      <th>2</th>\n",
              "      <td>-114.56</td>\n",
              "      <td>33.69</td>\n",
              "      <td>17.0</td>\n",
              "      <td>720.0</td>\n",
              "      <td>174.0</td>\n",
              "      <td>333.0</td>\n",
              "      <td>117.0</td>\n",
              "      <td>1.6509</td>\n",
              "      <td>85700.0</td>\n",
              "    </tr>\n",
              "    <tr>\n",
              "      <th>3</th>\n",
              "      <td>-114.57</td>\n",
              "      <td>33.64</td>\n",
              "      <td>14.0</td>\n",
              "      <td>1501.0</td>\n",
              "      <td>337.0</td>\n",
              "      <td>515.0</td>\n",
              "      <td>226.0</td>\n",
              "      <td>3.1917</td>\n",
              "      <td>73400.0</td>\n",
              "    </tr>\n",
              "    <tr>\n",
              "      <th>4</th>\n",
              "      <td>-114.57</td>\n",
              "      <td>33.57</td>\n",
              "      <td>20.0</td>\n",
              "      <td>1454.0</td>\n",
              "      <td>326.0</td>\n",
              "      <td>624.0</td>\n",
              "      <td>262.0</td>\n",
              "      <td>1.9250</td>\n",
              "      <td>65500.0</td>\n",
              "    </tr>\n",
              "  </tbody>\n",
              "</table>\n",
              "</div>\n",
              "      <button class=\"colab-df-convert\" onclick=\"convertToInteractive('df-27866216-9eae-418e-8587-42cfee1e19e8')\"\n",
              "              title=\"Convert this dataframe to an interactive table.\"\n",
              "              style=\"display:none;\">\n",
              "        \n",
              "  <svg xmlns=\"http://www.w3.org/2000/svg\" height=\"24px\"viewBox=\"0 0 24 24\"\n",
              "       width=\"24px\">\n",
              "    <path d=\"M0 0h24v24H0V0z\" fill=\"none\"/>\n",
              "    <path d=\"M18.56 5.44l.94 2.06.94-2.06 2.06-.94-2.06-.94-.94-2.06-.94 2.06-2.06.94zm-11 1L8.5 8.5l.94-2.06 2.06-.94-2.06-.94L8.5 2.5l-.94 2.06-2.06.94zm10 10l.94 2.06.94-2.06 2.06-.94-2.06-.94-.94-2.06-.94 2.06-2.06.94z\"/><path d=\"M17.41 7.96l-1.37-1.37c-.4-.4-.92-.59-1.43-.59-.52 0-1.04.2-1.43.59L10.3 9.45l-7.72 7.72c-.78.78-.78 2.05 0 2.83L4 21.41c.39.39.9.59 1.41.59.51 0 1.02-.2 1.41-.59l7.78-7.78 2.81-2.81c.8-.78.8-2.07 0-2.86zM5.41 20L4 18.59l7.72-7.72 1.47 1.35L5.41 20z\"/>\n",
              "  </svg>\n",
              "      </button>\n",
              "      \n",
              "  <style>\n",
              "    .colab-df-container {\n",
              "      display:flex;\n",
              "      flex-wrap:wrap;\n",
              "      gap: 12px;\n",
              "    }\n",
              "\n",
              "    .colab-df-convert {\n",
              "      background-color: #E8F0FE;\n",
              "      border: none;\n",
              "      border-radius: 50%;\n",
              "      cursor: pointer;\n",
              "      display: none;\n",
              "      fill: #1967D2;\n",
              "      height: 32px;\n",
              "      padding: 0 0 0 0;\n",
              "      width: 32px;\n",
              "    }\n",
              "\n",
              "    .colab-df-convert:hover {\n",
              "      background-color: #E2EBFA;\n",
              "      box-shadow: 0px 1px 2px rgba(60, 64, 67, 0.3), 0px 1px 3px 1px rgba(60, 64, 67, 0.15);\n",
              "      fill: #174EA6;\n",
              "    }\n",
              "\n",
              "    [theme=dark] .colab-df-convert {\n",
              "      background-color: #3B4455;\n",
              "      fill: #D2E3FC;\n",
              "    }\n",
              "\n",
              "    [theme=dark] .colab-df-convert:hover {\n",
              "      background-color: #434B5C;\n",
              "      box-shadow: 0px 1px 3px 1px rgba(0, 0, 0, 0.15);\n",
              "      filter: drop-shadow(0px 1px 2px rgba(0, 0, 0, 0.3));\n",
              "      fill: #FFFFFF;\n",
              "    }\n",
              "  </style>\n",
              "\n",
              "      <script>\n",
              "        const buttonEl =\n",
              "          document.querySelector('#df-27866216-9eae-418e-8587-42cfee1e19e8 button.colab-df-convert');\n",
              "        buttonEl.style.display =\n",
              "          google.colab.kernel.accessAllowed ? 'block' : 'none';\n",
              "\n",
              "        async function convertToInteractive(key) {\n",
              "          const element = document.querySelector('#df-27866216-9eae-418e-8587-42cfee1e19e8');\n",
              "          const dataTable =\n",
              "            await google.colab.kernel.invokeFunction('convertToInteractive',\n",
              "                                                     [key], {});\n",
              "          if (!dataTable) return;\n",
              "\n",
              "          const docLinkHtml = 'Like what you see? Visit the ' +\n",
              "            '<a target=\"_blank\" href=https://colab.research.google.com/notebooks/data_table.ipynb>data table notebook</a>'\n",
              "            + ' to learn more about interactive tables.';\n",
              "          element.innerHTML = '';\n",
              "          dataTable['output_type'] = 'display_data';\n",
              "          await google.colab.output.renderOutput(dataTable, element);\n",
              "          const docLink = document.createElement('div');\n",
              "          docLink.innerHTML = docLinkHtml;\n",
              "          element.appendChild(docLink);\n",
              "        }\n",
              "      </script>\n",
              "    </div>\n",
              "  </div>\n",
              "  "
            ]
          },
          "metadata": {},
          "execution_count": 63
        }
      ]
    },
    {
      "cell_type": "code",
      "source": [
        "test_df.head()"
      ],
      "metadata": {
        "colab": {
          "base_uri": "https://localhost:8080/",
          "height": 270
        },
        "id": "UtS-XdWBmTT_",
        "outputId": "09ae9d66-3240-4d22-f04b-83bc0faa9970"
      },
      "execution_count": null,
      "outputs": [
        {
          "output_type": "execute_result",
          "data": {
            "text/plain": [
              "   longitude  latitude  housing_median_age  total_rooms  total_bedrooms  \\\n",
              "0    -122.05     37.37                27.0       3885.0           661.0   \n",
              "1    -118.30     34.26                43.0       1510.0           310.0   \n",
              "2    -117.81     33.78                27.0       3589.0           507.0   \n",
              "3    -118.36     33.82                28.0         67.0            15.0   \n",
              "4    -119.67     36.33                19.0       1241.0           244.0   \n",
              "\n",
              "   population  households  median_income  median_house_value  \n",
              "0      1537.0       606.0         6.6085            344700.0  \n",
              "1       809.0       277.0         3.5990            176500.0  \n",
              "2      1484.0       495.0         5.7934            270500.0  \n",
              "3        49.0        11.0         6.1359            330000.0  \n",
              "4       850.0       237.0         2.9375             81700.0  "
            ],
            "text/html": [
              "\n",
              "  <div id=\"df-94860aa0-881e-409a-a604-fb2f0da63bcd\">\n",
              "    <div class=\"colab-df-container\">\n",
              "      <div>\n",
              "<style scoped>\n",
              "    .dataframe tbody tr th:only-of-type {\n",
              "        vertical-align: middle;\n",
              "    }\n",
              "\n",
              "    .dataframe tbody tr th {\n",
              "        vertical-align: top;\n",
              "    }\n",
              "\n",
              "    .dataframe thead th {\n",
              "        text-align: right;\n",
              "    }\n",
              "</style>\n",
              "<table border=\"1\" class=\"dataframe\">\n",
              "  <thead>\n",
              "    <tr style=\"text-align: right;\">\n",
              "      <th></th>\n",
              "      <th>longitude</th>\n",
              "      <th>latitude</th>\n",
              "      <th>housing_median_age</th>\n",
              "      <th>total_rooms</th>\n",
              "      <th>total_bedrooms</th>\n",
              "      <th>population</th>\n",
              "      <th>households</th>\n",
              "      <th>median_income</th>\n",
              "      <th>median_house_value</th>\n",
              "    </tr>\n",
              "  </thead>\n",
              "  <tbody>\n",
              "    <tr>\n",
              "      <th>0</th>\n",
              "      <td>-122.05</td>\n",
              "      <td>37.37</td>\n",
              "      <td>27.0</td>\n",
              "      <td>3885.0</td>\n",
              "      <td>661.0</td>\n",
              "      <td>1537.0</td>\n",
              "      <td>606.0</td>\n",
              "      <td>6.6085</td>\n",
              "      <td>344700.0</td>\n",
              "    </tr>\n",
              "    <tr>\n",
              "      <th>1</th>\n",
              "      <td>-118.30</td>\n",
              "      <td>34.26</td>\n",
              "      <td>43.0</td>\n",
              "      <td>1510.0</td>\n",
              "      <td>310.0</td>\n",
              "      <td>809.0</td>\n",
              "      <td>277.0</td>\n",
              "      <td>3.5990</td>\n",
              "      <td>176500.0</td>\n",
              "    </tr>\n",
              "    <tr>\n",
              "      <th>2</th>\n",
              "      <td>-117.81</td>\n",
              "      <td>33.78</td>\n",
              "      <td>27.0</td>\n",
              "      <td>3589.0</td>\n",
              "      <td>507.0</td>\n",
              "      <td>1484.0</td>\n",
              "      <td>495.0</td>\n",
              "      <td>5.7934</td>\n",
              "      <td>270500.0</td>\n",
              "    </tr>\n",
              "    <tr>\n",
              "      <th>3</th>\n",
              "      <td>-118.36</td>\n",
              "      <td>33.82</td>\n",
              "      <td>28.0</td>\n",
              "      <td>67.0</td>\n",
              "      <td>15.0</td>\n",
              "      <td>49.0</td>\n",
              "      <td>11.0</td>\n",
              "      <td>6.1359</td>\n",
              "      <td>330000.0</td>\n",
              "    </tr>\n",
              "    <tr>\n",
              "      <th>4</th>\n",
              "      <td>-119.67</td>\n",
              "      <td>36.33</td>\n",
              "      <td>19.0</td>\n",
              "      <td>1241.0</td>\n",
              "      <td>244.0</td>\n",
              "      <td>850.0</td>\n",
              "      <td>237.0</td>\n",
              "      <td>2.9375</td>\n",
              "      <td>81700.0</td>\n",
              "    </tr>\n",
              "  </tbody>\n",
              "</table>\n",
              "</div>\n",
              "      <button class=\"colab-df-convert\" onclick=\"convertToInteractive('df-94860aa0-881e-409a-a604-fb2f0da63bcd')\"\n",
              "              title=\"Convert this dataframe to an interactive table.\"\n",
              "              style=\"display:none;\">\n",
              "        \n",
              "  <svg xmlns=\"http://www.w3.org/2000/svg\" height=\"24px\"viewBox=\"0 0 24 24\"\n",
              "       width=\"24px\">\n",
              "    <path d=\"M0 0h24v24H0V0z\" fill=\"none\"/>\n",
              "    <path d=\"M18.56 5.44l.94 2.06.94-2.06 2.06-.94-2.06-.94-.94-2.06-.94 2.06-2.06.94zm-11 1L8.5 8.5l.94-2.06 2.06-.94-2.06-.94L8.5 2.5l-.94 2.06-2.06.94zm10 10l.94 2.06.94-2.06 2.06-.94-2.06-.94-.94-2.06-.94 2.06-2.06.94z\"/><path d=\"M17.41 7.96l-1.37-1.37c-.4-.4-.92-.59-1.43-.59-.52 0-1.04.2-1.43.59L10.3 9.45l-7.72 7.72c-.78.78-.78 2.05 0 2.83L4 21.41c.39.39.9.59 1.41.59.51 0 1.02-.2 1.41-.59l7.78-7.78 2.81-2.81c.8-.78.8-2.07 0-2.86zM5.41 20L4 18.59l7.72-7.72 1.47 1.35L5.41 20z\"/>\n",
              "  </svg>\n",
              "      </button>\n",
              "      \n",
              "  <style>\n",
              "    .colab-df-container {\n",
              "      display:flex;\n",
              "      flex-wrap:wrap;\n",
              "      gap: 12px;\n",
              "    }\n",
              "\n",
              "    .colab-df-convert {\n",
              "      background-color: #E8F0FE;\n",
              "      border: none;\n",
              "      border-radius: 50%;\n",
              "      cursor: pointer;\n",
              "      display: none;\n",
              "      fill: #1967D2;\n",
              "      height: 32px;\n",
              "      padding: 0 0 0 0;\n",
              "      width: 32px;\n",
              "    }\n",
              "\n",
              "    .colab-df-convert:hover {\n",
              "      background-color: #E2EBFA;\n",
              "      box-shadow: 0px 1px 2px rgba(60, 64, 67, 0.3), 0px 1px 3px 1px rgba(60, 64, 67, 0.15);\n",
              "      fill: #174EA6;\n",
              "    }\n",
              "\n",
              "    [theme=dark] .colab-df-convert {\n",
              "      background-color: #3B4455;\n",
              "      fill: #D2E3FC;\n",
              "    }\n",
              "\n",
              "    [theme=dark] .colab-df-convert:hover {\n",
              "      background-color: #434B5C;\n",
              "      box-shadow: 0px 1px 3px 1px rgba(0, 0, 0, 0.15);\n",
              "      filter: drop-shadow(0px 1px 2px rgba(0, 0, 0, 0.3));\n",
              "      fill: #FFFFFF;\n",
              "    }\n",
              "  </style>\n",
              "\n",
              "      <script>\n",
              "        const buttonEl =\n",
              "          document.querySelector('#df-94860aa0-881e-409a-a604-fb2f0da63bcd button.colab-df-convert');\n",
              "        buttonEl.style.display =\n",
              "          google.colab.kernel.accessAllowed ? 'block' : 'none';\n",
              "\n",
              "        async function convertToInteractive(key) {\n",
              "          const element = document.querySelector('#df-94860aa0-881e-409a-a604-fb2f0da63bcd');\n",
              "          const dataTable =\n",
              "            await google.colab.kernel.invokeFunction('convertToInteractive',\n",
              "                                                     [key], {});\n",
              "          if (!dataTable) return;\n",
              "\n",
              "          const docLinkHtml = 'Like what you see? Visit the ' +\n",
              "            '<a target=\"_blank\" href=https://colab.research.google.com/notebooks/data_table.ipynb>data table notebook</a>'\n",
              "            + ' to learn more about interactive tables.';\n",
              "          element.innerHTML = '';\n",
              "          dataTable['output_type'] = 'display_data';\n",
              "          await google.colab.output.renderOutput(dataTable, element);\n",
              "          const docLink = document.createElement('div');\n",
              "          docLink.innerHTML = docLinkHtml;\n",
              "          element.appendChild(docLink);\n",
              "        }\n",
              "      </script>\n",
              "    </div>\n",
              "  </div>\n",
              "  "
            ]
          },
          "metadata": {},
          "execution_count": 64
        }
      ]
    },
    {
      "cell_type": "code",
      "source": [
        "# shape of train and test\n",
        "print(train_df.shape)\n",
        "print(test_df.shape)"
      ],
      "metadata": {
        "colab": {
          "base_uri": "https://localhost:8080/"
        },
        "id": "yKwGCKV9mVfd",
        "outputId": "deeee0c8-49aa-418e-9c1b-3a092a09c2aa"
      },
      "execution_count": null,
      "outputs": [
        {
          "output_type": "stream",
          "name": "stdout",
          "text": [
            "(17000, 9)\n",
            "(3000, 9)\n"
          ]
        }
      ]
    },
    {
      "cell_type": "markdown",
      "source": [
        "# Dataset Description"
      ],
      "metadata": {
        "id": "8EUJvFbbml4c"
      }
    },
    {
      "cell_type": "code",
      "source": [
        "train_df.describe().T"
      ],
      "metadata": {
        "colab": {
          "base_uri": "https://localhost:8080/",
          "height": 396
        },
        "id": "Pa6XvBpKmkWn",
        "outputId": "2e9aa076-023e-4ee0-879c-3745412b7bc2"
      },
      "execution_count": null,
      "outputs": [
        {
          "output_type": "execute_result",
          "data": {
            "text/plain": [
              "                      count           mean            std         min  \\\n",
              "longitude           17000.0    -119.562108       2.005166   -124.3500   \n",
              "latitude            17000.0      35.625225       2.137340     32.5400   \n",
              "housing_median_age  17000.0      28.589353      12.586937      1.0000   \n",
              "total_rooms         17000.0    2643.664412    2179.947071      2.0000   \n",
              "total_bedrooms      17000.0     539.410824     421.499452      1.0000   \n",
              "population          17000.0    1429.573941    1147.852959      3.0000   \n",
              "households          17000.0     501.221941     384.520841      1.0000   \n",
              "median_income       17000.0       3.883578       1.908157      0.4999   \n",
              "median_house_value  17000.0  207300.912353  115983.764387  14999.0000   \n",
              "\n",
              "                              25%          50%         75%          max  \n",
              "longitude             -121.790000    -118.4900    -118.000    -114.3100  \n",
              "latitude                33.930000      34.2500      37.720      41.9500  \n",
              "housing_median_age      18.000000      29.0000      37.000      52.0000  \n",
              "total_rooms           1462.000000    2127.0000    3151.250   37937.0000  \n",
              "total_bedrooms         297.000000     434.0000     648.250    6445.0000  \n",
              "population             790.000000    1167.0000    1721.000   35682.0000  \n",
              "households             282.000000     409.0000     605.250    6082.0000  \n",
              "median_income            2.566375       3.5446       4.767      15.0001  \n",
              "median_house_value  119400.000000  180400.0000  265000.000  500001.0000  "
            ],
            "text/html": [
              "\n",
              "  <div id=\"df-deb5e699-712e-4e81-96e8-0d4f766f18a9\">\n",
              "    <div class=\"colab-df-container\">\n",
              "      <div>\n",
              "<style scoped>\n",
              "    .dataframe tbody tr th:only-of-type {\n",
              "        vertical-align: middle;\n",
              "    }\n",
              "\n",
              "    .dataframe tbody tr th {\n",
              "        vertical-align: top;\n",
              "    }\n",
              "\n",
              "    .dataframe thead th {\n",
              "        text-align: right;\n",
              "    }\n",
              "</style>\n",
              "<table border=\"1\" class=\"dataframe\">\n",
              "  <thead>\n",
              "    <tr style=\"text-align: right;\">\n",
              "      <th></th>\n",
              "      <th>count</th>\n",
              "      <th>mean</th>\n",
              "      <th>std</th>\n",
              "      <th>min</th>\n",
              "      <th>25%</th>\n",
              "      <th>50%</th>\n",
              "      <th>75%</th>\n",
              "      <th>max</th>\n",
              "    </tr>\n",
              "  </thead>\n",
              "  <tbody>\n",
              "    <tr>\n",
              "      <th>longitude</th>\n",
              "      <td>17000.0</td>\n",
              "      <td>-119.562108</td>\n",
              "      <td>2.005166</td>\n",
              "      <td>-124.3500</td>\n",
              "      <td>-121.790000</td>\n",
              "      <td>-118.4900</td>\n",
              "      <td>-118.000</td>\n",
              "      <td>-114.3100</td>\n",
              "    </tr>\n",
              "    <tr>\n",
              "      <th>latitude</th>\n",
              "      <td>17000.0</td>\n",
              "      <td>35.625225</td>\n",
              "      <td>2.137340</td>\n",
              "      <td>32.5400</td>\n",
              "      <td>33.930000</td>\n",
              "      <td>34.2500</td>\n",
              "      <td>37.720</td>\n",
              "      <td>41.9500</td>\n",
              "    </tr>\n",
              "    <tr>\n",
              "      <th>housing_median_age</th>\n",
              "      <td>17000.0</td>\n",
              "      <td>28.589353</td>\n",
              "      <td>12.586937</td>\n",
              "      <td>1.0000</td>\n",
              "      <td>18.000000</td>\n",
              "      <td>29.0000</td>\n",
              "      <td>37.000</td>\n",
              "      <td>52.0000</td>\n",
              "    </tr>\n",
              "    <tr>\n",
              "      <th>total_rooms</th>\n",
              "      <td>17000.0</td>\n",
              "      <td>2643.664412</td>\n",
              "      <td>2179.947071</td>\n",
              "      <td>2.0000</td>\n",
              "      <td>1462.000000</td>\n",
              "      <td>2127.0000</td>\n",
              "      <td>3151.250</td>\n",
              "      <td>37937.0000</td>\n",
              "    </tr>\n",
              "    <tr>\n",
              "      <th>total_bedrooms</th>\n",
              "      <td>17000.0</td>\n",
              "      <td>539.410824</td>\n",
              "      <td>421.499452</td>\n",
              "      <td>1.0000</td>\n",
              "      <td>297.000000</td>\n",
              "      <td>434.0000</td>\n",
              "      <td>648.250</td>\n",
              "      <td>6445.0000</td>\n",
              "    </tr>\n",
              "    <tr>\n",
              "      <th>population</th>\n",
              "      <td>17000.0</td>\n",
              "      <td>1429.573941</td>\n",
              "      <td>1147.852959</td>\n",
              "      <td>3.0000</td>\n",
              "      <td>790.000000</td>\n",
              "      <td>1167.0000</td>\n",
              "      <td>1721.000</td>\n",
              "      <td>35682.0000</td>\n",
              "    </tr>\n",
              "    <tr>\n",
              "      <th>households</th>\n",
              "      <td>17000.0</td>\n",
              "      <td>501.221941</td>\n",
              "      <td>384.520841</td>\n",
              "      <td>1.0000</td>\n",
              "      <td>282.000000</td>\n",
              "      <td>409.0000</td>\n",
              "      <td>605.250</td>\n",
              "      <td>6082.0000</td>\n",
              "    </tr>\n",
              "    <tr>\n",
              "      <th>median_income</th>\n",
              "      <td>17000.0</td>\n",
              "      <td>3.883578</td>\n",
              "      <td>1.908157</td>\n",
              "      <td>0.4999</td>\n",
              "      <td>2.566375</td>\n",
              "      <td>3.5446</td>\n",
              "      <td>4.767</td>\n",
              "      <td>15.0001</td>\n",
              "    </tr>\n",
              "    <tr>\n",
              "      <th>median_house_value</th>\n",
              "      <td>17000.0</td>\n",
              "      <td>207300.912353</td>\n",
              "      <td>115983.764387</td>\n",
              "      <td>14999.0000</td>\n",
              "      <td>119400.000000</td>\n",
              "      <td>180400.0000</td>\n",
              "      <td>265000.000</td>\n",
              "      <td>500001.0000</td>\n",
              "    </tr>\n",
              "  </tbody>\n",
              "</table>\n",
              "</div>\n",
              "      <button class=\"colab-df-convert\" onclick=\"convertToInteractive('df-deb5e699-712e-4e81-96e8-0d4f766f18a9')\"\n",
              "              title=\"Convert this dataframe to an interactive table.\"\n",
              "              style=\"display:none;\">\n",
              "        \n",
              "  <svg xmlns=\"http://www.w3.org/2000/svg\" height=\"24px\"viewBox=\"0 0 24 24\"\n",
              "       width=\"24px\">\n",
              "    <path d=\"M0 0h24v24H0V0z\" fill=\"none\"/>\n",
              "    <path d=\"M18.56 5.44l.94 2.06.94-2.06 2.06-.94-2.06-.94-.94-2.06-.94 2.06-2.06.94zm-11 1L8.5 8.5l.94-2.06 2.06-.94-2.06-.94L8.5 2.5l-.94 2.06-2.06.94zm10 10l.94 2.06.94-2.06 2.06-.94-2.06-.94-.94-2.06-.94 2.06-2.06.94z\"/><path d=\"M17.41 7.96l-1.37-1.37c-.4-.4-.92-.59-1.43-.59-.52 0-1.04.2-1.43.59L10.3 9.45l-7.72 7.72c-.78.78-.78 2.05 0 2.83L4 21.41c.39.39.9.59 1.41.59.51 0 1.02-.2 1.41-.59l7.78-7.78 2.81-2.81c.8-.78.8-2.07 0-2.86zM5.41 20L4 18.59l7.72-7.72 1.47 1.35L5.41 20z\"/>\n",
              "  </svg>\n",
              "      </button>\n",
              "      \n",
              "  <style>\n",
              "    .colab-df-container {\n",
              "      display:flex;\n",
              "      flex-wrap:wrap;\n",
              "      gap: 12px;\n",
              "    }\n",
              "\n",
              "    .colab-df-convert {\n",
              "      background-color: #E8F0FE;\n",
              "      border: none;\n",
              "      border-radius: 50%;\n",
              "      cursor: pointer;\n",
              "      display: none;\n",
              "      fill: #1967D2;\n",
              "      height: 32px;\n",
              "      padding: 0 0 0 0;\n",
              "      width: 32px;\n",
              "    }\n",
              "\n",
              "    .colab-df-convert:hover {\n",
              "      background-color: #E2EBFA;\n",
              "      box-shadow: 0px 1px 2px rgba(60, 64, 67, 0.3), 0px 1px 3px 1px rgba(60, 64, 67, 0.15);\n",
              "      fill: #174EA6;\n",
              "    }\n",
              "\n",
              "    [theme=dark] .colab-df-convert {\n",
              "      background-color: #3B4455;\n",
              "      fill: #D2E3FC;\n",
              "    }\n",
              "\n",
              "    [theme=dark] .colab-df-convert:hover {\n",
              "      background-color: #434B5C;\n",
              "      box-shadow: 0px 1px 3px 1px rgba(0, 0, 0, 0.15);\n",
              "      filter: drop-shadow(0px 1px 2px rgba(0, 0, 0, 0.3));\n",
              "      fill: #FFFFFF;\n",
              "    }\n",
              "  </style>\n",
              "\n",
              "      <script>\n",
              "        const buttonEl =\n",
              "          document.querySelector('#df-deb5e699-712e-4e81-96e8-0d4f766f18a9 button.colab-df-convert');\n",
              "        buttonEl.style.display =\n",
              "          google.colab.kernel.accessAllowed ? 'block' : 'none';\n",
              "\n",
              "        async function convertToInteractive(key) {\n",
              "          const element = document.querySelector('#df-deb5e699-712e-4e81-96e8-0d4f766f18a9');\n",
              "          const dataTable =\n",
              "            await google.colab.kernel.invokeFunction('convertToInteractive',\n",
              "                                                     [key], {});\n",
              "          if (!dataTable) return;\n",
              "\n",
              "          const docLinkHtml = 'Like what you see? Visit the ' +\n",
              "            '<a target=\"_blank\" href=https://colab.research.google.com/notebooks/data_table.ipynb>data table notebook</a>'\n",
              "            + ' to learn more about interactive tables.';\n",
              "          element.innerHTML = '';\n",
              "          dataTable['output_type'] = 'display_data';\n",
              "          await google.colab.output.renderOutput(dataTable, element);\n",
              "          const docLink = document.createElement('div');\n",
              "          docLink.innerHTML = docLinkHtml;\n",
              "          element.appendChild(docLink);\n",
              "        }\n",
              "      </script>\n",
              "    </div>\n",
              "  </div>\n",
              "  "
            ]
          },
          "metadata": {},
          "execution_count": 66
        }
      ]
    },
    {
      "cell_type": "code",
      "source": [
        "test_df.describe().T"
      ],
      "metadata": {
        "colab": {
          "base_uri": "https://localhost:8080/",
          "height": 396
        },
        "id": "R4gmY-Jmmiu1",
        "outputId": "1172735e-4bfb-465d-c84d-64782255771d"
      },
      "execution_count": null,
      "outputs": [
        {
          "output_type": "execute_result",
          "data": {
            "text/plain": [
              "                     count           mean            std         min  \\\n",
              "longitude           3000.0    -119.589200       1.994936   -124.1800   \n",
              "latitude            3000.0      35.635390       2.129670     32.5600   \n",
              "housing_median_age  3000.0      28.845333      12.555396      1.0000   \n",
              "total_rooms         3000.0    2599.578667    2155.593332      6.0000   \n",
              "total_bedrooms      3000.0     529.950667     415.654368      2.0000   \n",
              "population          3000.0    1402.798667    1030.543012      5.0000   \n",
              "households          3000.0     489.912000     365.422710      2.0000   \n",
              "median_income       3000.0       3.807272       1.854512      0.4999   \n",
              "median_house_value  3000.0  205846.275000  113119.687470  22500.0000   \n",
              "\n",
              "                           25%           50%            75%          max  \n",
              "longitude             -121.810    -118.48500    -118.020000    -114.4900  \n",
              "latitude                33.930      34.27000      37.690000      41.9200  \n",
              "housing_median_age      18.000      29.00000      37.000000      52.0000  \n",
              "total_rooms           1401.000    2106.00000    3129.000000   30450.0000  \n",
              "total_bedrooms         291.000     437.00000     636.000000    5419.0000  \n",
              "population             780.000    1155.00000    1742.750000   11935.0000  \n",
              "households             273.000     409.50000     597.250000    4930.0000  \n",
              "median_income            2.544       3.48715       4.656475      15.0001  \n",
              "median_house_value  121200.000  177650.00000  263975.000000  500001.0000  "
            ],
            "text/html": [
              "\n",
              "  <div id=\"df-720c00c8-1cc0-43b3-9176-f3db944fb152\">\n",
              "    <div class=\"colab-df-container\">\n",
              "      <div>\n",
              "<style scoped>\n",
              "    .dataframe tbody tr th:only-of-type {\n",
              "        vertical-align: middle;\n",
              "    }\n",
              "\n",
              "    .dataframe tbody tr th {\n",
              "        vertical-align: top;\n",
              "    }\n",
              "\n",
              "    .dataframe thead th {\n",
              "        text-align: right;\n",
              "    }\n",
              "</style>\n",
              "<table border=\"1\" class=\"dataframe\">\n",
              "  <thead>\n",
              "    <tr style=\"text-align: right;\">\n",
              "      <th></th>\n",
              "      <th>count</th>\n",
              "      <th>mean</th>\n",
              "      <th>std</th>\n",
              "      <th>min</th>\n",
              "      <th>25%</th>\n",
              "      <th>50%</th>\n",
              "      <th>75%</th>\n",
              "      <th>max</th>\n",
              "    </tr>\n",
              "  </thead>\n",
              "  <tbody>\n",
              "    <tr>\n",
              "      <th>longitude</th>\n",
              "      <td>3000.0</td>\n",
              "      <td>-119.589200</td>\n",
              "      <td>1.994936</td>\n",
              "      <td>-124.1800</td>\n",
              "      <td>-121.810</td>\n",
              "      <td>-118.48500</td>\n",
              "      <td>-118.020000</td>\n",
              "      <td>-114.4900</td>\n",
              "    </tr>\n",
              "    <tr>\n",
              "      <th>latitude</th>\n",
              "      <td>3000.0</td>\n",
              "      <td>35.635390</td>\n",
              "      <td>2.129670</td>\n",
              "      <td>32.5600</td>\n",
              "      <td>33.930</td>\n",
              "      <td>34.27000</td>\n",
              "      <td>37.690000</td>\n",
              "      <td>41.9200</td>\n",
              "    </tr>\n",
              "    <tr>\n",
              "      <th>housing_median_age</th>\n",
              "      <td>3000.0</td>\n",
              "      <td>28.845333</td>\n",
              "      <td>12.555396</td>\n",
              "      <td>1.0000</td>\n",
              "      <td>18.000</td>\n",
              "      <td>29.00000</td>\n",
              "      <td>37.000000</td>\n",
              "      <td>52.0000</td>\n",
              "    </tr>\n",
              "    <tr>\n",
              "      <th>total_rooms</th>\n",
              "      <td>3000.0</td>\n",
              "      <td>2599.578667</td>\n",
              "      <td>2155.593332</td>\n",
              "      <td>6.0000</td>\n",
              "      <td>1401.000</td>\n",
              "      <td>2106.00000</td>\n",
              "      <td>3129.000000</td>\n",
              "      <td>30450.0000</td>\n",
              "    </tr>\n",
              "    <tr>\n",
              "      <th>total_bedrooms</th>\n",
              "      <td>3000.0</td>\n",
              "      <td>529.950667</td>\n",
              "      <td>415.654368</td>\n",
              "      <td>2.0000</td>\n",
              "      <td>291.000</td>\n",
              "      <td>437.00000</td>\n",
              "      <td>636.000000</td>\n",
              "      <td>5419.0000</td>\n",
              "    </tr>\n",
              "    <tr>\n",
              "      <th>population</th>\n",
              "      <td>3000.0</td>\n",
              "      <td>1402.798667</td>\n",
              "      <td>1030.543012</td>\n",
              "      <td>5.0000</td>\n",
              "      <td>780.000</td>\n",
              "      <td>1155.00000</td>\n",
              "      <td>1742.750000</td>\n",
              "      <td>11935.0000</td>\n",
              "    </tr>\n",
              "    <tr>\n",
              "      <th>households</th>\n",
              "      <td>3000.0</td>\n",
              "      <td>489.912000</td>\n",
              "      <td>365.422710</td>\n",
              "      <td>2.0000</td>\n",
              "      <td>273.000</td>\n",
              "      <td>409.50000</td>\n",
              "      <td>597.250000</td>\n",
              "      <td>4930.0000</td>\n",
              "    </tr>\n",
              "    <tr>\n",
              "      <th>median_income</th>\n",
              "      <td>3000.0</td>\n",
              "      <td>3.807272</td>\n",
              "      <td>1.854512</td>\n",
              "      <td>0.4999</td>\n",
              "      <td>2.544</td>\n",
              "      <td>3.48715</td>\n",
              "      <td>4.656475</td>\n",
              "      <td>15.0001</td>\n",
              "    </tr>\n",
              "    <tr>\n",
              "      <th>median_house_value</th>\n",
              "      <td>3000.0</td>\n",
              "      <td>205846.275000</td>\n",
              "      <td>113119.687470</td>\n",
              "      <td>22500.0000</td>\n",
              "      <td>121200.000</td>\n",
              "      <td>177650.00000</td>\n",
              "      <td>263975.000000</td>\n",
              "      <td>500001.0000</td>\n",
              "    </tr>\n",
              "  </tbody>\n",
              "</table>\n",
              "</div>\n",
              "      <button class=\"colab-df-convert\" onclick=\"convertToInteractive('df-720c00c8-1cc0-43b3-9176-f3db944fb152')\"\n",
              "              title=\"Convert this dataframe to an interactive table.\"\n",
              "              style=\"display:none;\">\n",
              "        \n",
              "  <svg xmlns=\"http://www.w3.org/2000/svg\" height=\"24px\"viewBox=\"0 0 24 24\"\n",
              "       width=\"24px\">\n",
              "    <path d=\"M0 0h24v24H0V0z\" fill=\"none\"/>\n",
              "    <path d=\"M18.56 5.44l.94 2.06.94-2.06 2.06-.94-2.06-.94-.94-2.06-.94 2.06-2.06.94zm-11 1L8.5 8.5l.94-2.06 2.06-.94-2.06-.94L8.5 2.5l-.94 2.06-2.06.94zm10 10l.94 2.06.94-2.06 2.06-.94-2.06-.94-.94-2.06-.94 2.06-2.06.94z\"/><path d=\"M17.41 7.96l-1.37-1.37c-.4-.4-.92-.59-1.43-.59-.52 0-1.04.2-1.43.59L10.3 9.45l-7.72 7.72c-.78.78-.78 2.05 0 2.83L4 21.41c.39.39.9.59 1.41.59.51 0 1.02-.2 1.41-.59l7.78-7.78 2.81-2.81c.8-.78.8-2.07 0-2.86zM5.41 20L4 18.59l7.72-7.72 1.47 1.35L5.41 20z\"/>\n",
              "  </svg>\n",
              "      </button>\n",
              "      \n",
              "  <style>\n",
              "    .colab-df-container {\n",
              "      display:flex;\n",
              "      flex-wrap:wrap;\n",
              "      gap: 12px;\n",
              "    }\n",
              "\n",
              "    .colab-df-convert {\n",
              "      background-color: #E8F0FE;\n",
              "      border: none;\n",
              "      border-radius: 50%;\n",
              "      cursor: pointer;\n",
              "      display: none;\n",
              "      fill: #1967D2;\n",
              "      height: 32px;\n",
              "      padding: 0 0 0 0;\n",
              "      width: 32px;\n",
              "    }\n",
              "\n",
              "    .colab-df-convert:hover {\n",
              "      background-color: #E2EBFA;\n",
              "      box-shadow: 0px 1px 2px rgba(60, 64, 67, 0.3), 0px 1px 3px 1px rgba(60, 64, 67, 0.15);\n",
              "      fill: #174EA6;\n",
              "    }\n",
              "\n",
              "    [theme=dark] .colab-df-convert {\n",
              "      background-color: #3B4455;\n",
              "      fill: #D2E3FC;\n",
              "    }\n",
              "\n",
              "    [theme=dark] .colab-df-convert:hover {\n",
              "      background-color: #434B5C;\n",
              "      box-shadow: 0px 1px 3px 1px rgba(0, 0, 0, 0.15);\n",
              "      filter: drop-shadow(0px 1px 2px rgba(0, 0, 0, 0.3));\n",
              "      fill: #FFFFFF;\n",
              "    }\n",
              "  </style>\n",
              "\n",
              "      <script>\n",
              "        const buttonEl =\n",
              "          document.querySelector('#df-720c00c8-1cc0-43b3-9176-f3db944fb152 button.colab-df-convert');\n",
              "        buttonEl.style.display =\n",
              "          google.colab.kernel.accessAllowed ? 'block' : 'none';\n",
              "\n",
              "        async function convertToInteractive(key) {\n",
              "          const element = document.querySelector('#df-720c00c8-1cc0-43b3-9176-f3db944fb152');\n",
              "          const dataTable =\n",
              "            await google.colab.kernel.invokeFunction('convertToInteractive',\n",
              "                                                     [key], {});\n",
              "          if (!dataTable) return;\n",
              "\n",
              "          const docLinkHtml = 'Like what you see? Visit the ' +\n",
              "            '<a target=\"_blank\" href=https://colab.research.google.com/notebooks/data_table.ipynb>data table notebook</a>'\n",
              "            + ' to learn more about interactive tables.';\n",
              "          element.innerHTML = '';\n",
              "          dataTable['output_type'] = 'display_data';\n",
              "          await google.colab.output.renderOutput(dataTable, element);\n",
              "          const docLink = document.createElement('div');\n",
              "          docLink.innerHTML = docLinkHtml;\n",
              "          element.appendChild(docLink);\n",
              "        }\n",
              "      </script>\n",
              "    </div>\n",
              "  </div>\n",
              "  "
            ]
          },
          "metadata": {},
          "execution_count": 67
        }
      ]
    },
    {
      "cell_type": "markdown",
      "source": [
        "The distribution of the train and test are pretty same"
      ],
      "metadata": {
        "id": "bomnXOMAm3Q4"
      }
    },
    {
      "cell_type": "markdown",
      "source": [
        "## Null value check"
      ],
      "metadata": {
        "id": "pvcNS9w4nGXs"
      }
    },
    {
      "cell_type": "code",
      "source": [
        "train_df.isnull().sum()"
      ],
      "metadata": {
        "colab": {
          "base_uri": "https://localhost:8080/"
        },
        "id": "hl1E9pPGmg7i",
        "outputId": "ff94e4f0-4918-4bb6-87f5-e2354b8ad0f3"
      },
      "execution_count": null,
      "outputs": [
        {
          "output_type": "execute_result",
          "data": {
            "text/plain": [
              "longitude             0\n",
              "latitude              0\n",
              "housing_median_age    0\n",
              "total_rooms           0\n",
              "total_bedrooms        0\n",
              "population            0\n",
              "households            0\n",
              "median_income         0\n",
              "median_house_value    0\n",
              "dtype: int64"
            ]
          },
          "metadata": {},
          "execution_count": 68
        }
      ]
    },
    {
      "cell_type": "code",
      "source": [
        "test_df.isnull().sum()"
      ],
      "metadata": {
        "colab": {
          "base_uri": "https://localhost:8080/"
        },
        "id": "rLYg0LnGnLTj",
        "outputId": "28df786d-0c39-420d-de14-e56cd86b3b02"
      },
      "execution_count": null,
      "outputs": [
        {
          "output_type": "execute_result",
          "data": {
            "text/plain": [
              "longitude             0\n",
              "latitude              0\n",
              "housing_median_age    0\n",
              "total_rooms           0\n",
              "total_bedrooms        0\n",
              "population            0\n",
              "households            0\n",
              "median_income         0\n",
              "median_house_value    0\n",
              "dtype: int64"
            ]
          },
          "metadata": {},
          "execution_count": 69
        }
      ]
    },
    {
      "cell_type": "markdown",
      "source": [
        "No null value in train dataseta and test dataset"
      ],
      "metadata": {
        "id": "wKtf1CrwnQsH"
      }
    },
    {
      "cell_type": "markdown",
      "source": [
        "# split the data into dependent and independent features"
      ],
      "metadata": {
        "id": "s5_Ssy1tnYqg"
      }
    },
    {
      "cell_type": "code",
      "source": [
        "Target = 'median_house_value'"
      ],
      "metadata": {
        "id": "qvTQ0hUKnNoD"
      },
      "execution_count": null,
      "outputs": []
    },
    {
      "cell_type": "code",
      "source": [
        "x_train,y_train =train_df.drop(Target,axis=1), train_df[Target]\n",
        "x_test,y_test = test_df.drop(Target,axis=1), test_df[Target]"
      ],
      "metadata": {
        "id": "DED6HgeAni-1"
      },
      "execution_count": null,
      "outputs": []
    },
    {
      "cell_type": "markdown",
      "source": [
        "# feature Scalling"
      ],
      "metadata": {
        "id": "HR0-K2igoPkZ"
      }
    },
    {
      "cell_type": "code",
      "source": [
        "# feature scalling\n",
        "sc = StandardScaler()\n",
        "x_train = sc.fit_transform(x_train)\n",
        "x_test = sc.transform(x_test)"
      ],
      "metadata": {
        "id": "xmhZ3KMuoN-J"
      },
      "execution_count": null,
      "outputs": []
    },
    {
      "cell_type": "markdown",
      "source": [
        "Keras Tuner\n",
        "An open-source Python library called Keras Tuner was created specifically for adjusting the hyperparameters of artificial neural networks(ANN). Currently, the Keras tuner supports four different types of tuners or algorithms:<br>\n",
        "\n",
        "  - Bayesian Optimization\n",
        "  - Hyperband\n",
        "  - Sklearn\n",
        "  - Random Search <br>\n",
        "\n",
        "The Hyper model is the one you want to tune.\n",
        "\n",
        "- Using the model-building feature we can enable this tuning feature<br>\n",
        "\n",
        "We are going to build the ann with 4 layers\n",
        "\n",
        "1. Input layer\n",
        "2. Hidden layer 1\n",
        "3. Hidden layer 2\n",
        "4. Output Layer<br>\n",
        "\n",
        "unit1, unit2, unit3 will have the range between 25 to 512 with step 32\n",
        "\n",
        "These will be apply to input layer and hidden layers\n",
        "\n",
        "The learning rate will be picked up based on given inputs and hence we are use choice method to perform that action\n",
        "\n",
        "Since this is the regression problem, we are using 'linear' activation function in the output layer. on the hidden layers we are using 'relu'.\n",
        "\n",
        "For weight updation, we are using adam optimizers and the loss will be MSLE (Mean Squarred Log Error)"
      ],
      "metadata": {
        "id": "0cxqzduFo2EI"
      }
    },
    {
      "cell_type": "code",
      "source": [
        "msle = MeanSquaredLogarithmicError()\n",
        "\n",
        "\n",
        "def build_annmodel(hp):\n",
        "  model = tf.keras.Sequential()\n",
        "  \n",
        "  units1 = hp.Int('units1', min_value=25, max_value=512, step=32)\n",
        "  units2 = hp.Int('units2', min_value=25, max_value=512, step=32)\n",
        "  units3 = hp.Int('units3', min_value=25, max_value=512, step=32)\n",
        "  model.add(Dense(units=units1, activation='relu'))\n",
        "  model.add(tf.keras.layers.Dense(units=units2, activation='relu'))\n",
        "  model.add(tf.keras.layers.Dense(units=units3, activation='relu'))\n",
        "  model.add(Dense(1, kernel_initializer='normal', activation='linear'))\n",
        "\n",
        "  hp_learning_rate = hp.Choice('learning_rate', values=[1e-2, 1e-3, 1e-4])\n",
        "\n",
        "  model.compile(\n",
        "      optimizer=tf.keras.optimizers.Adam(learning_rate=hp_learning_rate),\n",
        "      loss=msle,\n",
        "      metrics=[msle]\n",
        "  )\n",
        "\n",
        "  return model"
      ],
      "metadata": {
        "id": "Xron9esMoruj"
      },
      "execution_count": null,
      "outputs": []
    },
    {
      "cell_type": "markdown",
      "source": [
        "in order to fet a high-performing model quickly, the Hyperband tuning algorithm makes use of adaptive resource allocation and early-stopping"
      ],
      "metadata": {
        "id": "hQzqY_7huS65"
      }
    },
    {
      "cell_type": "code",
      "source": [
        "# HyperBand algorithm from keras tuner\n",
        "tuner = kt.Hyperband(\n",
        "    build_annmodel,\n",
        "    objective='val_mean_squared_logarithmic_error',\n",
        "    max_epochs=10,\n",
        "    directory='keras_tuner_dir',\n",
        "    project_name='keras_tuner_demo'\n",
        ")"
      ],
      "metadata": {
        "id": "Iv-WygWdugR2"
      },
      "execution_count": null,
      "outputs": []
    },
    {
      "cell_type": "code",
      "source": [
        "tuner.search(x_train,y_train,epochs=10,validation_split=0.2)"
      ],
      "metadata": {
        "id": "ON-jh0y5vksD"
      },
      "execution_count": null,
      "outputs": []
    },
    {
      "cell_type": "markdown",
      "source": [
        "# The besthyper parameters are\n"
      ],
      "metadata": {
        "id": "7ZyRr2HDyGuI"
      }
    },
    {
      "cell_type": "code",
      "source": [
        "for p in ['units1','units2','units3','learning_rate']:\n",
        "  print(p,tuner.get_best_hyperparameters()[0].get(p))"
      ],
      "metadata": {
        "colab": {
          "base_uri": "https://localhost:8080/"
        },
        "id": "qmGMQBGtyGcS",
        "outputId": "476b1237-8959-49d6-dffb-5bb28bc610da"
      },
      "execution_count": null,
      "outputs": [
        {
          "output_type": "stream",
          "name": "stdout",
          "text": [
            "units1 57\n",
            "units2 473\n",
            "units3 281\n",
            "learning_rate 0.01\n"
          ]
        }
      ]
    },
    {
      "cell_type": "markdown",
      "source": [
        "# model Evaluation"
      ],
      "metadata": {
        "id": "nse4-4idyg7b"
      }
    },
    {
      "cell_type": "code",
      "source": [
        "best_hps = tuner.get_best_hyperparameters(num_trials=1)[0]\n",
        "best_hps"
      ],
      "metadata": {
        "colab": {
          "base_uri": "https://localhost:8080/"
        },
        "id": "juGZQer8xrw0",
        "outputId": "0a29f29d-3e99-4ce3-a12a-b21d32ddf7d3"
      },
      "execution_count": null,
      "outputs": [
        {
          "output_type": "execute_result",
          "data": {
            "text/plain": [
              "<keras_tuner.engine.hyperparameters.HyperParameters at 0x7f0d7c0ce690>"
            ]
          },
          "metadata": {},
          "execution_count": 77
        }
      ]
    },
    {
      "cell_type": "code",
      "source": [
        "model = tuner.hypermodel.build(best_hps)"
      ],
      "metadata": {
        "id": "HIuUxClHyudt"
      },
      "execution_count": null,
      "outputs": []
    },
    {
      "cell_type": "code",
      "source": [
        "history = model.fit(x_train,y_train, epochs =50, validation_split=0.2)"
      ],
      "metadata": {
        "colab": {
          "base_uri": "https://localhost:8080/"
        },
        "id": "Brq_73EvzD2v",
        "outputId": "72898d63-0f3c-430b-a0f8-a06cc2d5631f"
      },
      "execution_count": null,
      "outputs": [
        {
          "output_type": "stream",
          "name": "stdout",
          "text": [
            "Epoch 1/50\n",
            "425/425 [==============================] - 2s 3ms/step - loss: 3.2641 - mean_squared_logarithmic_error: 3.2641 - val_loss: 0.4362 - val_mean_squared_logarithmic_error: 0.4364\n",
            "Epoch 2/50\n",
            "425/425 [==============================] - 1s 3ms/step - loss: 0.1884 - mean_squared_logarithmic_error: 0.1884 - val_loss: 0.2434 - val_mean_squared_logarithmic_error: 0.2461\n",
            "Epoch 3/50\n",
            "425/425 [==============================] - 1s 3ms/step - loss: 0.1300 - mean_squared_logarithmic_error: 0.1300 - val_loss: 0.1525 - val_mean_squared_logarithmic_error: 0.1556\n",
            "Epoch 4/50\n",
            "425/425 [==============================] - 1s 3ms/step - loss: 0.1046 - mean_squared_logarithmic_error: 0.1046 - val_loss: 0.1249 - val_mean_squared_logarithmic_error: 0.1276\n",
            "Epoch 5/50\n",
            "425/425 [==============================] - 1s 3ms/step - loss: 0.0963 - mean_squared_logarithmic_error: 0.0963 - val_loss: 0.1237 - val_mean_squared_logarithmic_error: 0.1264\n",
            "Epoch 6/50\n",
            "425/425 [==============================] - 1s 3ms/step - loss: 0.0928 - mean_squared_logarithmic_error: 0.0928 - val_loss: 0.1169 - val_mean_squared_logarithmic_error: 0.1200\n",
            "Epoch 7/50\n",
            "425/425 [==============================] - 2s 4ms/step - loss: 0.0910 - mean_squared_logarithmic_error: 0.0910 - val_loss: 0.1108 - val_mean_squared_logarithmic_error: 0.1128\n",
            "Epoch 8/50\n",
            "425/425 [==============================] - 2s 5ms/step - loss: 0.0896 - mean_squared_logarithmic_error: 0.0896 - val_loss: 0.1079 - val_mean_squared_logarithmic_error: 0.1103\n",
            "Epoch 9/50\n",
            "425/425 [==============================] - 2s 5ms/step - loss: 0.0892 - mean_squared_logarithmic_error: 0.0892 - val_loss: 0.1103 - val_mean_squared_logarithmic_error: 0.1129\n",
            "Epoch 10/50\n",
            "425/425 [==============================] - 2s 5ms/step - loss: 0.0879 - mean_squared_logarithmic_error: 0.0879 - val_loss: 0.1072 - val_mean_squared_logarithmic_error: 0.1097\n",
            "Epoch 11/50\n",
            "425/425 [==============================] - 2s 5ms/step - loss: 0.0870 - mean_squared_logarithmic_error: 0.0870 - val_loss: 0.1125 - val_mean_squared_logarithmic_error: 0.1152\n",
            "Epoch 12/50\n",
            "425/425 [==============================] - 2s 5ms/step - loss: 0.0862 - mean_squared_logarithmic_error: 0.0862 - val_loss: 0.1026 - val_mean_squared_logarithmic_error: 0.1048\n",
            "Epoch 13/50\n",
            "425/425 [==============================] - 2s 4ms/step - loss: 0.0849 - mean_squared_logarithmic_error: 0.0849 - val_loss: 0.1037 - val_mean_squared_logarithmic_error: 0.1050\n",
            "Epoch 14/50\n",
            "425/425 [==============================] - 1s 3ms/step - loss: 0.0849 - mean_squared_logarithmic_error: 0.0849 - val_loss: 0.0985 - val_mean_squared_logarithmic_error: 0.0997\n",
            "Epoch 15/50\n",
            "425/425 [==============================] - 1s 3ms/step - loss: 0.0835 - mean_squared_logarithmic_error: 0.0835 - val_loss: 0.1075 - val_mean_squared_logarithmic_error: 0.1098\n",
            "Epoch 16/50\n",
            "425/425 [==============================] - 1s 3ms/step - loss: 0.0830 - mean_squared_logarithmic_error: 0.0830 - val_loss: 0.0968 - val_mean_squared_logarithmic_error: 0.0984\n",
            "Epoch 17/50\n",
            "425/425 [==============================] - 1s 3ms/step - loss: 0.0825 - mean_squared_logarithmic_error: 0.0825 - val_loss: 0.0948 - val_mean_squared_logarithmic_error: 0.0962\n",
            "Epoch 18/50\n",
            "425/425 [==============================] - 1s 3ms/step - loss: 0.0809 - mean_squared_logarithmic_error: 0.0809 - val_loss: 0.0916 - val_mean_squared_logarithmic_error: 0.0926\n",
            "Epoch 19/50\n",
            "425/425 [==============================] - 1s 3ms/step - loss: 0.0800 - mean_squared_logarithmic_error: 0.0800 - val_loss: 0.0909 - val_mean_squared_logarithmic_error: 0.0924\n",
            "Epoch 20/50\n",
            "425/425 [==============================] - 1s 3ms/step - loss: 0.0790 - mean_squared_logarithmic_error: 0.0790 - val_loss: 0.1080 - val_mean_squared_logarithmic_error: 0.1104\n",
            "Epoch 21/50\n",
            "425/425 [==============================] - 1s 3ms/step - loss: 0.0774 - mean_squared_logarithmic_error: 0.0774 - val_loss: 0.1008 - val_mean_squared_logarithmic_error: 0.1027\n",
            "Epoch 22/50\n",
            "425/425 [==============================] - 1s 3ms/step - loss: 0.0764 - mean_squared_logarithmic_error: 0.0764 - val_loss: 0.1181 - val_mean_squared_logarithmic_error: 0.1187\n",
            "Epoch 23/50\n",
            "425/425 [==============================] - 1s 3ms/step - loss: 0.0745 - mean_squared_logarithmic_error: 0.0745 - val_loss: 0.0994 - val_mean_squared_logarithmic_error: 0.1009\n",
            "Epoch 24/50\n",
            "425/425 [==============================] - 2s 5ms/step - loss: 0.0730 - mean_squared_logarithmic_error: 0.0730 - val_loss: 0.0980 - val_mean_squared_logarithmic_error: 0.0987\n",
            "Epoch 25/50\n",
            "425/425 [==============================] - 2s 5ms/step - loss: 0.0716 - mean_squared_logarithmic_error: 0.0716 - val_loss: 0.0970 - val_mean_squared_logarithmic_error: 0.0975\n",
            "Epoch 26/50\n",
            "425/425 [==============================] - 1s 3ms/step - loss: 0.0707 - mean_squared_logarithmic_error: 0.0707 - val_loss: 0.0887 - val_mean_squared_logarithmic_error: 0.0896\n",
            "Epoch 27/50\n",
            "425/425 [==============================] - 1s 3ms/step - loss: 0.0689 - mean_squared_logarithmic_error: 0.0689 - val_loss: 0.0997 - val_mean_squared_logarithmic_error: 0.1011\n",
            "Epoch 28/50\n",
            "425/425 [==============================] - 1s 3ms/step - loss: 0.0692 - mean_squared_logarithmic_error: 0.0692 - val_loss: 0.0948 - val_mean_squared_logarithmic_error: 0.0956\n",
            "Epoch 29/50\n",
            "425/425 [==============================] - 1s 3ms/step - loss: 0.0684 - mean_squared_logarithmic_error: 0.0684 - val_loss: 0.0969 - val_mean_squared_logarithmic_error: 0.0984\n",
            "Epoch 30/50\n",
            "425/425 [==============================] - 1s 3ms/step - loss: 0.0666 - mean_squared_logarithmic_error: 0.0666 - val_loss: 0.0914 - val_mean_squared_logarithmic_error: 0.0920\n",
            "Epoch 31/50\n",
            "425/425 [==============================] - 1s 3ms/step - loss: 0.0666 - mean_squared_logarithmic_error: 0.0666 - val_loss: 0.0988 - val_mean_squared_logarithmic_error: 0.0997\n",
            "Epoch 32/50\n",
            "425/425 [==============================] - 1s 3ms/step - loss: 0.0665 - mean_squared_logarithmic_error: 0.0665 - val_loss: 0.1063 - val_mean_squared_logarithmic_error: 0.1088\n",
            "Epoch 33/50\n",
            "425/425 [==============================] - 1s 3ms/step - loss: 0.0656 - mean_squared_logarithmic_error: 0.0656 - val_loss: 0.0952 - val_mean_squared_logarithmic_error: 0.0967\n",
            "Epoch 34/50\n",
            "425/425 [==============================] - 1s 3ms/step - loss: 0.0647 - mean_squared_logarithmic_error: 0.0647 - val_loss: 0.0943 - val_mean_squared_logarithmic_error: 0.0955\n",
            "Epoch 35/50\n",
            "425/425 [==============================] - 1s 3ms/step - loss: 0.0644 - mean_squared_logarithmic_error: 0.0644 - val_loss: 0.0914 - val_mean_squared_logarithmic_error: 0.0928\n",
            "Epoch 36/50\n",
            "425/425 [==============================] - 1s 3ms/step - loss: 0.0640 - mean_squared_logarithmic_error: 0.0640 - val_loss: 0.0996 - val_mean_squared_logarithmic_error: 0.0997\n",
            "Epoch 37/50\n",
            "425/425 [==============================] - 1s 3ms/step - loss: 0.0639 - mean_squared_logarithmic_error: 0.0639 - val_loss: 0.1021 - val_mean_squared_logarithmic_error: 0.1040\n",
            "Epoch 38/50\n",
            "425/425 [==============================] - 1s 3ms/step - loss: 0.0642 - mean_squared_logarithmic_error: 0.0642 - val_loss: 0.1311 - val_mean_squared_logarithmic_error: 0.1343\n",
            "Epoch 39/50\n",
            "425/425 [==============================] - 1s 3ms/step - loss: 0.0631 - mean_squared_logarithmic_error: 0.0631 - val_loss: 0.1041 - val_mean_squared_logarithmic_error: 0.1062\n",
            "Epoch 40/50\n",
            "425/425 [==============================] - 1s 3ms/step - loss: 0.0635 - mean_squared_logarithmic_error: 0.0635 - val_loss: 0.1015 - val_mean_squared_logarithmic_error: 0.1036\n",
            "Epoch 41/50\n",
            "425/425 [==============================] - 1s 3ms/step - loss: 0.0620 - mean_squared_logarithmic_error: 0.0620 - val_loss: 0.0942 - val_mean_squared_logarithmic_error: 0.0955\n",
            "Epoch 42/50\n",
            "425/425 [==============================] - 1s 3ms/step - loss: 0.0619 - mean_squared_logarithmic_error: 0.0619 - val_loss: 0.1035 - val_mean_squared_logarithmic_error: 0.1056\n",
            "Epoch 43/50\n",
            "425/425 [==============================] - 1s 3ms/step - loss: 0.0609 - mean_squared_logarithmic_error: 0.0609 - val_loss: 0.0921 - val_mean_squared_logarithmic_error: 0.0929\n",
            "Epoch 44/50\n",
            "425/425 [==============================] - 1s 3ms/step - loss: 0.0610 - mean_squared_logarithmic_error: 0.0610 - val_loss: 0.0967 - val_mean_squared_logarithmic_error: 0.0978\n",
            "Epoch 45/50\n",
            "425/425 [==============================] - 1s 3ms/step - loss: 0.0607 - mean_squared_logarithmic_error: 0.0607 - val_loss: 0.0891 - val_mean_squared_logarithmic_error: 0.0903\n",
            "Epoch 46/50\n",
            "425/425 [==============================] - 1s 3ms/step - loss: 0.0602 - mean_squared_logarithmic_error: 0.0602 - val_loss: 0.0934 - val_mean_squared_logarithmic_error: 0.0950\n",
            "Epoch 47/50\n",
            "425/425 [==============================] - 1s 3ms/step - loss: 0.0603 - mean_squared_logarithmic_error: 0.0603 - val_loss: 0.0904 - val_mean_squared_logarithmic_error: 0.0916\n",
            "Epoch 48/50\n",
            "425/425 [==============================] - 1s 3ms/step - loss: 0.0605 - mean_squared_logarithmic_error: 0.0605 - val_loss: 0.1010 - val_mean_squared_logarithmic_error: 0.1031\n",
            "Epoch 49/50\n",
            "425/425 [==============================] - 1s 3ms/step - loss: 0.0595 - mean_squared_logarithmic_error: 0.0595 - val_loss: 0.1085 - val_mean_squared_logarithmic_error: 0.1108\n",
            "Epoch 50/50\n",
            "425/425 [==============================] - 1s 3ms/step - loss: 0.0595 - mean_squared_logarithmic_error: 0.0595 - val_loss: 0.1160 - val_mean_squared_logarithmic_error: 0.1188\n"
          ]
        }
      ]
    },
    {
      "cell_type": "code",
      "source": [
        "eval_result = model.evaluate(x_test,y_test)\n",
        "print(eval_result)"
      ],
      "metadata": {
        "colab": {
          "base_uri": "https://localhost:8080/"
        },
        "id": "AAgLj7njzPdN",
        "outputId": "87aa234d-7853-4d6e-a8e7-b8c96b8c937c"
      },
      "execution_count": null,
      "outputs": [
        {
          "output_type": "stream",
          "name": "stdout",
          "text": [
            "94/94 [==============================] - 0s 2ms/step - loss: 0.0776 - mean_squared_logarithmic_error: 0.0776\n",
            "[0.07762549072504044, 0.07757676392793655]\n"
          ]
        }
      ]
    },
    {
      "cell_type": "code",
      "source": [
        "model.summary()"
      ],
      "metadata": {
        "colab": {
          "base_uri": "https://localhost:8080/"
        },
        "id": "HmIBfAnkzff_",
        "outputId": "fe114d3c-a9cd-4f83-cc2e-dd87aa6d4fdf"
      },
      "execution_count": null,
      "outputs": [
        {
          "output_type": "stream",
          "name": "stdout",
          "text": [
            "Model: \"sequential_3\"\n",
            "_________________________________________________________________\n",
            " Layer (type)                Output Shape              Param #   \n",
            "=================================================================\n",
            " dense_12 (Dense)            (None, 57)                513       \n",
            "                                                                 \n",
            " dense_13 (Dense)            (None, 473)               27434     \n",
            "                                                                 \n",
            " dense_14 (Dense)            (None, 281)               133194    \n",
            "                                                                 \n",
            " dense_15 (Dense)            (None, 1)                 282       \n",
            "                                                                 \n",
            "=================================================================\n",
            "Total params: 161,423\n",
            "Trainable params: 161,423\n",
            "Non-trainable params: 0\n",
            "_________________________________________________________________\n"
          ]
        }
      ]
    },
    {
      "cell_type": "code",
      "source": [],
      "metadata": {
        "id": "7AF8hhtuzhWN"
      },
      "execution_count": null,
      "outputs": []
    }
  ]
}