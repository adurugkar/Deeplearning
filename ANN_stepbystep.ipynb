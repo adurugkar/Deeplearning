{
  "nbformat": 4,
  "nbformat_minor": 0,
  "metadata": {
    "colab": {
      "provenance": [],
      "collapsed_sections": [],
      "include_colab_link": true
    },
    "kernelspec": {
      "name": "python3",
      "display_name": "Python 3"
    },
    "language_info": {
      "name": "python"
    },
    "accelerator": "GPU",
    "gpuClass": "standard"
  },
  "cells": [
    {
      "cell_type": "markdown",
      "metadata": {
        "id": "view-in-github",
        "colab_type": "text"
      },
      "source": [
        "<a href=\"https://colab.research.google.com/github/adurugkar/Deeplearning/blob/main/ANN_stepbystep.ipynb\" target=\"_parent\"><img src=\"https://colab.research.google.com/assets/colab-badge.svg\" alt=\"Open In Colab\"/></a>"
      ]
    },
    {
      "cell_type": "code",
      "execution_count": null,
      "metadata": {
        "id": "4lz1FXeGf6dR"
      },
      "outputs": [],
      "source": [
        "import tensorflow as tf"
      ]
    },
    {
      "cell_type": "code",
      "source": [
        "tf.__version__"
      ],
      "metadata": {
        "colab": {
          "base_uri": "https://localhost:8080/",
          "height": 36
        },
        "id": "wAARFZAh4NAu",
        "outputId": "9f612aff-8c6c-4756-e471-29aa882384d5"
      },
      "execution_count": null,
      "outputs": [
        {
          "output_type": "execute_result",
          "data": {
            "text/plain": [
              "'2.9.2'"
            ],
            "application/vnd.google.colaboratory.intrinsic+json": {
              "type": "string"
            }
          },
          "metadata": {},
          "execution_count": 97
        }
      ]
    },
    {
      "cell_type": "code",
      "source": [
        "import numpy as np\n",
        "import matplotlib.pyplot as plt\n",
        "import pandas as pd"
      ],
      "metadata": {
        "id": "9EKirfHq4O3f"
      },
      "execution_count": null,
      "outputs": []
    },
    {
      "cell_type": "code",
      "source": [
        "dataset = pd.read_csv('Churn_Modelling.csv')\n",
        "dataset.head(5)"
      ],
      "metadata": {
        "colab": {
          "base_uri": "https://localhost:8080/",
          "height": 270
        },
        "id": "mX7xPU5DA25O",
        "outputId": "49f01991-ab3f-47c2-973a-2d6d5e952588"
      },
      "execution_count": null,
      "outputs": [
        {
          "output_type": "execute_result",
          "data": {
            "text/plain": [
              "   RowNumber  CustomerId   Surname  CreditScore Geography  Gender  Age  \\\n",
              "0          1    15634602  Hargrave          619    France  Female   42   \n",
              "1          2    15647311      Hill          608     Spain  Female   41   \n",
              "2          3    15619304      Onio          502    France  Female   42   \n",
              "3          4    15701354      Boni          699    France  Female   39   \n",
              "4          5    15737888  Mitchell          850     Spain  Female   43   \n",
              "\n",
              "   Tenure    Balance  NumOfProducts  HasCrCard  IsActiveMember  \\\n",
              "0       2       0.00              1          1               1   \n",
              "1       1   83807.86              1          0               1   \n",
              "2       8  159660.80              3          1               0   \n",
              "3       1       0.00              2          0               0   \n",
              "4       2  125510.82              1          1               1   \n",
              "\n",
              "   EstimatedSalary  Exited  \n",
              "0        101348.88       1  \n",
              "1        112542.58       0  \n",
              "2        113931.57       1  \n",
              "3         93826.63       0  \n",
              "4         79084.10       0  "
            ],
            "text/html": [
              "\n",
              "  <div id=\"df-8d9e9b59-0fcd-47d8-b759-076c3fb261c1\">\n",
              "    <div class=\"colab-df-container\">\n",
              "      <div>\n",
              "<style scoped>\n",
              "    .dataframe tbody tr th:only-of-type {\n",
              "        vertical-align: middle;\n",
              "    }\n",
              "\n",
              "    .dataframe tbody tr th {\n",
              "        vertical-align: top;\n",
              "    }\n",
              "\n",
              "    .dataframe thead th {\n",
              "        text-align: right;\n",
              "    }\n",
              "</style>\n",
              "<table border=\"1\" class=\"dataframe\">\n",
              "  <thead>\n",
              "    <tr style=\"text-align: right;\">\n",
              "      <th></th>\n",
              "      <th>RowNumber</th>\n",
              "      <th>CustomerId</th>\n",
              "      <th>Surname</th>\n",
              "      <th>CreditScore</th>\n",
              "      <th>Geography</th>\n",
              "      <th>Gender</th>\n",
              "      <th>Age</th>\n",
              "      <th>Tenure</th>\n",
              "      <th>Balance</th>\n",
              "      <th>NumOfProducts</th>\n",
              "      <th>HasCrCard</th>\n",
              "      <th>IsActiveMember</th>\n",
              "      <th>EstimatedSalary</th>\n",
              "      <th>Exited</th>\n",
              "    </tr>\n",
              "  </thead>\n",
              "  <tbody>\n",
              "    <tr>\n",
              "      <th>0</th>\n",
              "      <td>1</td>\n",
              "      <td>15634602</td>\n",
              "      <td>Hargrave</td>\n",
              "      <td>619</td>\n",
              "      <td>France</td>\n",
              "      <td>Female</td>\n",
              "      <td>42</td>\n",
              "      <td>2</td>\n",
              "      <td>0.00</td>\n",
              "      <td>1</td>\n",
              "      <td>1</td>\n",
              "      <td>1</td>\n",
              "      <td>101348.88</td>\n",
              "      <td>1</td>\n",
              "    </tr>\n",
              "    <tr>\n",
              "      <th>1</th>\n",
              "      <td>2</td>\n",
              "      <td>15647311</td>\n",
              "      <td>Hill</td>\n",
              "      <td>608</td>\n",
              "      <td>Spain</td>\n",
              "      <td>Female</td>\n",
              "      <td>41</td>\n",
              "      <td>1</td>\n",
              "      <td>83807.86</td>\n",
              "      <td>1</td>\n",
              "      <td>0</td>\n",
              "      <td>1</td>\n",
              "      <td>112542.58</td>\n",
              "      <td>0</td>\n",
              "    </tr>\n",
              "    <tr>\n",
              "      <th>2</th>\n",
              "      <td>3</td>\n",
              "      <td>15619304</td>\n",
              "      <td>Onio</td>\n",
              "      <td>502</td>\n",
              "      <td>France</td>\n",
              "      <td>Female</td>\n",
              "      <td>42</td>\n",
              "      <td>8</td>\n",
              "      <td>159660.80</td>\n",
              "      <td>3</td>\n",
              "      <td>1</td>\n",
              "      <td>0</td>\n",
              "      <td>113931.57</td>\n",
              "      <td>1</td>\n",
              "    </tr>\n",
              "    <tr>\n",
              "      <th>3</th>\n",
              "      <td>4</td>\n",
              "      <td>15701354</td>\n",
              "      <td>Boni</td>\n",
              "      <td>699</td>\n",
              "      <td>France</td>\n",
              "      <td>Female</td>\n",
              "      <td>39</td>\n",
              "      <td>1</td>\n",
              "      <td>0.00</td>\n",
              "      <td>2</td>\n",
              "      <td>0</td>\n",
              "      <td>0</td>\n",
              "      <td>93826.63</td>\n",
              "      <td>0</td>\n",
              "    </tr>\n",
              "    <tr>\n",
              "      <th>4</th>\n",
              "      <td>5</td>\n",
              "      <td>15737888</td>\n",
              "      <td>Mitchell</td>\n",
              "      <td>850</td>\n",
              "      <td>Spain</td>\n",
              "      <td>Female</td>\n",
              "      <td>43</td>\n",
              "      <td>2</td>\n",
              "      <td>125510.82</td>\n",
              "      <td>1</td>\n",
              "      <td>1</td>\n",
              "      <td>1</td>\n",
              "      <td>79084.10</td>\n",
              "      <td>0</td>\n",
              "    </tr>\n",
              "  </tbody>\n",
              "</table>\n",
              "</div>\n",
              "      <button class=\"colab-df-convert\" onclick=\"convertToInteractive('df-8d9e9b59-0fcd-47d8-b759-076c3fb261c1')\"\n",
              "              title=\"Convert this dataframe to an interactive table.\"\n",
              "              style=\"display:none;\">\n",
              "        \n",
              "  <svg xmlns=\"http://www.w3.org/2000/svg\" height=\"24px\"viewBox=\"0 0 24 24\"\n",
              "       width=\"24px\">\n",
              "    <path d=\"M0 0h24v24H0V0z\" fill=\"none\"/>\n",
              "    <path d=\"M18.56 5.44l.94 2.06.94-2.06 2.06-.94-2.06-.94-.94-2.06-.94 2.06-2.06.94zm-11 1L8.5 8.5l.94-2.06 2.06-.94-2.06-.94L8.5 2.5l-.94 2.06-2.06.94zm10 10l.94 2.06.94-2.06 2.06-.94-2.06-.94-.94-2.06-.94 2.06-2.06.94z\"/><path d=\"M17.41 7.96l-1.37-1.37c-.4-.4-.92-.59-1.43-.59-.52 0-1.04.2-1.43.59L10.3 9.45l-7.72 7.72c-.78.78-.78 2.05 0 2.83L4 21.41c.39.39.9.59 1.41.59.51 0 1.02-.2 1.41-.59l7.78-7.78 2.81-2.81c.8-.78.8-2.07 0-2.86zM5.41 20L4 18.59l7.72-7.72 1.47 1.35L5.41 20z\"/>\n",
              "  </svg>\n",
              "      </button>\n",
              "      \n",
              "  <style>\n",
              "    .colab-df-container {\n",
              "      display:flex;\n",
              "      flex-wrap:wrap;\n",
              "      gap: 12px;\n",
              "    }\n",
              "\n",
              "    .colab-df-convert {\n",
              "      background-color: #E8F0FE;\n",
              "      border: none;\n",
              "      border-radius: 50%;\n",
              "      cursor: pointer;\n",
              "      display: none;\n",
              "      fill: #1967D2;\n",
              "      height: 32px;\n",
              "      padding: 0 0 0 0;\n",
              "      width: 32px;\n",
              "    }\n",
              "\n",
              "    .colab-df-convert:hover {\n",
              "      background-color: #E2EBFA;\n",
              "      box-shadow: 0px 1px 2px rgba(60, 64, 67, 0.3), 0px 1px 3px 1px rgba(60, 64, 67, 0.15);\n",
              "      fill: #174EA6;\n",
              "    }\n",
              "\n",
              "    [theme=dark] .colab-df-convert {\n",
              "      background-color: #3B4455;\n",
              "      fill: #D2E3FC;\n",
              "    }\n",
              "\n",
              "    [theme=dark] .colab-df-convert:hover {\n",
              "      background-color: #434B5C;\n",
              "      box-shadow: 0px 1px 3px 1px rgba(0, 0, 0, 0.15);\n",
              "      filter: drop-shadow(0px 1px 2px rgba(0, 0, 0, 0.3));\n",
              "      fill: #FFFFFF;\n",
              "    }\n",
              "  </style>\n",
              "\n",
              "      <script>\n",
              "        const buttonEl =\n",
              "          document.querySelector('#df-8d9e9b59-0fcd-47d8-b759-076c3fb261c1 button.colab-df-convert');\n",
              "        buttonEl.style.display =\n",
              "          google.colab.kernel.accessAllowed ? 'block' : 'none';\n",
              "\n",
              "        async function convertToInteractive(key) {\n",
              "          const element = document.querySelector('#df-8d9e9b59-0fcd-47d8-b759-076c3fb261c1');\n",
              "          const dataTable =\n",
              "            await google.colab.kernel.invokeFunction('convertToInteractive',\n",
              "                                                     [key], {});\n",
              "          if (!dataTable) return;\n",
              "\n",
              "          const docLinkHtml = 'Like what you see? Visit the ' +\n",
              "            '<a target=\"_blank\" href=https://colab.research.google.com/notebooks/data_table.ipynb>data table notebook</a>'\n",
              "            + ' to learn more about interactive tables.';\n",
              "          element.innerHTML = '';\n",
              "          dataTable['output_type'] = 'display_data';\n",
              "          await google.colab.output.renderOutput(dataTable, element);\n",
              "          const docLink = document.createElement('div');\n",
              "          docLink.innerHTML = docLinkHtml;\n",
              "          element.appendChild(docLink);\n",
              "        }\n",
              "      </script>\n",
              "    </div>\n",
              "  </div>\n",
              "  "
            ]
          },
          "metadata": {},
          "execution_count": 99
        }
      ]
    },
    {
      "cell_type": "markdown",
      "source": [
        "## Classification problem"
      ],
      "metadata": {
        "id": "F5ylZgf8VlmJ"
      }
    },
    {
      "cell_type": "code",
      "source": [
        "## Divie the dataset into independent and dependent features\n",
        "x=dataset.iloc[:,3:13]\n",
        "y =dataset.iloc[:,13]"
      ],
      "metadata": {
        "id": "xSM_ytliA-mj"
      },
      "execution_count": null,
      "outputs": []
    },
    {
      "cell_type": "code",
      "source": [
        "# ferature Engineering\n",
        "geography = pd.get_dummies(x['Geography'],drop_first=True)\n",
        "gender = pd.get_dummies(x['Gender'], drop_first=True)"
      ],
      "metadata": {
        "id": "gSf4XHJuBSCu"
      },
      "execution_count": null,
      "outputs": []
    },
    {
      "cell_type": "code",
      "source": [
        "##concatenate these variables with dataframe\n",
        "x = x.drop(['Geography','Gender'],axis=1)"
      ],
      "metadata": {
        "id": "jRQbCkuABSQJ"
      },
      "execution_count": null,
      "outputs": []
    },
    {
      "cell_type": "code",
      "source": [
        "## concat the geography , gender and x\n",
        "x = pd.concat([x,geography,gender],axis=1)"
      ],
      "metadata": {
        "id": "u5ZXIpnPDgih"
      },
      "execution_count": null,
      "outputs": []
    },
    {
      "cell_type": "code",
      "source": [
        "#spliting the dataset into training set and test set\n",
        "from sklearn.model_selection import train_test_split\n",
        "x_train,x_test,y_train,y_test = train_test_split(x,y,test_size=0.25,random_state=0)"
      ],
      "metadata": {
        "id": "hse9k-N9D1V6"
      },
      "execution_count": null,
      "outputs": []
    },
    {
      "cell_type": "code",
      "source": [
        "x_train.head(5)"
      ],
      "metadata": {
        "colab": {
          "base_uri": "https://localhost:8080/",
          "height": 270
        },
        "id": "lvoMVJC4ZzzI",
        "outputId": "3f52420b-5d25-4909-fd3f-0e66dc0e6ff0"
      },
      "execution_count": null,
      "outputs": [
        {
          "output_type": "execute_result",
          "data": {
            "text/plain": [
              "      CreditScore  Age  Tenure    Balance  NumOfProducts  HasCrCard  \\\n",
              "2967          579   39       5  117833.30              3          0   \n",
              "700           750   32       5       0.00              2          1   \n",
              "3481          729   34       9   53299.96              2          1   \n",
              "1621          689   38       5   75075.14              1          1   \n",
              "800           605   52       7       0.00              2          1   \n",
              "\n",
              "      IsActiveMember  EstimatedSalary  Germany  Spain  Male  \n",
              "2967               0          5831.00        1      0     0  \n",
              "700                0         95611.47        0      0     0  \n",
              "3481               1         42855.97        0      1     0  \n",
              "1621               1          8651.92        0      1     1  \n",
              "800                1        173952.50        0      0     1  "
            ],
            "text/html": [
              "\n",
              "  <div id=\"df-a0cc99a5-5304-4fe4-828e-6b16ce153598\">\n",
              "    <div class=\"colab-df-container\">\n",
              "      <div>\n",
              "<style scoped>\n",
              "    .dataframe tbody tr th:only-of-type {\n",
              "        vertical-align: middle;\n",
              "    }\n",
              "\n",
              "    .dataframe tbody tr th {\n",
              "        vertical-align: top;\n",
              "    }\n",
              "\n",
              "    .dataframe thead th {\n",
              "        text-align: right;\n",
              "    }\n",
              "</style>\n",
              "<table border=\"1\" class=\"dataframe\">\n",
              "  <thead>\n",
              "    <tr style=\"text-align: right;\">\n",
              "      <th></th>\n",
              "      <th>CreditScore</th>\n",
              "      <th>Age</th>\n",
              "      <th>Tenure</th>\n",
              "      <th>Balance</th>\n",
              "      <th>NumOfProducts</th>\n",
              "      <th>HasCrCard</th>\n",
              "      <th>IsActiveMember</th>\n",
              "      <th>EstimatedSalary</th>\n",
              "      <th>Germany</th>\n",
              "      <th>Spain</th>\n",
              "      <th>Male</th>\n",
              "    </tr>\n",
              "  </thead>\n",
              "  <tbody>\n",
              "    <tr>\n",
              "      <th>2967</th>\n",
              "      <td>579</td>\n",
              "      <td>39</td>\n",
              "      <td>5</td>\n",
              "      <td>117833.30</td>\n",
              "      <td>3</td>\n",
              "      <td>0</td>\n",
              "      <td>0</td>\n",
              "      <td>5831.00</td>\n",
              "      <td>1</td>\n",
              "      <td>0</td>\n",
              "      <td>0</td>\n",
              "    </tr>\n",
              "    <tr>\n",
              "      <th>700</th>\n",
              "      <td>750</td>\n",
              "      <td>32</td>\n",
              "      <td>5</td>\n",
              "      <td>0.00</td>\n",
              "      <td>2</td>\n",
              "      <td>1</td>\n",
              "      <td>0</td>\n",
              "      <td>95611.47</td>\n",
              "      <td>0</td>\n",
              "      <td>0</td>\n",
              "      <td>0</td>\n",
              "    </tr>\n",
              "    <tr>\n",
              "      <th>3481</th>\n",
              "      <td>729</td>\n",
              "      <td>34</td>\n",
              "      <td>9</td>\n",
              "      <td>53299.96</td>\n",
              "      <td>2</td>\n",
              "      <td>1</td>\n",
              "      <td>1</td>\n",
              "      <td>42855.97</td>\n",
              "      <td>0</td>\n",
              "      <td>1</td>\n",
              "      <td>0</td>\n",
              "    </tr>\n",
              "    <tr>\n",
              "      <th>1621</th>\n",
              "      <td>689</td>\n",
              "      <td>38</td>\n",
              "      <td>5</td>\n",
              "      <td>75075.14</td>\n",
              "      <td>1</td>\n",
              "      <td>1</td>\n",
              "      <td>1</td>\n",
              "      <td>8651.92</td>\n",
              "      <td>0</td>\n",
              "      <td>1</td>\n",
              "      <td>1</td>\n",
              "    </tr>\n",
              "    <tr>\n",
              "      <th>800</th>\n",
              "      <td>605</td>\n",
              "      <td>52</td>\n",
              "      <td>7</td>\n",
              "      <td>0.00</td>\n",
              "      <td>2</td>\n",
              "      <td>1</td>\n",
              "      <td>1</td>\n",
              "      <td>173952.50</td>\n",
              "      <td>0</td>\n",
              "      <td>0</td>\n",
              "      <td>1</td>\n",
              "    </tr>\n",
              "  </tbody>\n",
              "</table>\n",
              "</div>\n",
              "      <button class=\"colab-df-convert\" onclick=\"convertToInteractive('df-a0cc99a5-5304-4fe4-828e-6b16ce153598')\"\n",
              "              title=\"Convert this dataframe to an interactive table.\"\n",
              "              style=\"display:none;\">\n",
              "        \n",
              "  <svg xmlns=\"http://www.w3.org/2000/svg\" height=\"24px\"viewBox=\"0 0 24 24\"\n",
              "       width=\"24px\">\n",
              "    <path d=\"M0 0h24v24H0V0z\" fill=\"none\"/>\n",
              "    <path d=\"M18.56 5.44l.94 2.06.94-2.06 2.06-.94-2.06-.94-.94-2.06-.94 2.06-2.06.94zm-11 1L8.5 8.5l.94-2.06 2.06-.94-2.06-.94L8.5 2.5l-.94 2.06-2.06.94zm10 10l.94 2.06.94-2.06 2.06-.94-2.06-.94-.94-2.06-.94 2.06-2.06.94z\"/><path d=\"M17.41 7.96l-1.37-1.37c-.4-.4-.92-.59-1.43-.59-.52 0-1.04.2-1.43.59L10.3 9.45l-7.72 7.72c-.78.78-.78 2.05 0 2.83L4 21.41c.39.39.9.59 1.41.59.51 0 1.02-.2 1.41-.59l7.78-7.78 2.81-2.81c.8-.78.8-2.07 0-2.86zM5.41 20L4 18.59l7.72-7.72 1.47 1.35L5.41 20z\"/>\n",
              "  </svg>\n",
              "      </button>\n",
              "      \n",
              "  <style>\n",
              "    .colab-df-container {\n",
              "      display:flex;\n",
              "      flex-wrap:wrap;\n",
              "      gap: 12px;\n",
              "    }\n",
              "\n",
              "    .colab-df-convert {\n",
              "      background-color: #E8F0FE;\n",
              "      border: none;\n",
              "      border-radius: 50%;\n",
              "      cursor: pointer;\n",
              "      display: none;\n",
              "      fill: #1967D2;\n",
              "      height: 32px;\n",
              "      padding: 0 0 0 0;\n",
              "      width: 32px;\n",
              "    }\n",
              "\n",
              "    .colab-df-convert:hover {\n",
              "      background-color: #E2EBFA;\n",
              "      box-shadow: 0px 1px 2px rgba(60, 64, 67, 0.3), 0px 1px 3px 1px rgba(60, 64, 67, 0.15);\n",
              "      fill: #174EA6;\n",
              "    }\n",
              "\n",
              "    [theme=dark] .colab-df-convert {\n",
              "      background-color: #3B4455;\n",
              "      fill: #D2E3FC;\n",
              "    }\n",
              "\n",
              "    [theme=dark] .colab-df-convert:hover {\n",
              "      background-color: #434B5C;\n",
              "      box-shadow: 0px 1px 3px 1px rgba(0, 0, 0, 0.15);\n",
              "      filter: drop-shadow(0px 1px 2px rgba(0, 0, 0, 0.3));\n",
              "      fill: #FFFFFF;\n",
              "    }\n",
              "  </style>\n",
              "\n",
              "      <script>\n",
              "        const buttonEl =\n",
              "          document.querySelector('#df-a0cc99a5-5304-4fe4-828e-6b16ce153598 button.colab-df-convert');\n",
              "        buttonEl.style.display =\n",
              "          google.colab.kernel.accessAllowed ? 'block' : 'none';\n",
              "\n",
              "        async function convertToInteractive(key) {\n",
              "          const element = document.querySelector('#df-a0cc99a5-5304-4fe4-828e-6b16ce153598');\n",
              "          const dataTable =\n",
              "            await google.colab.kernel.invokeFunction('convertToInteractive',\n",
              "                                                     [key], {});\n",
              "          if (!dataTable) return;\n",
              "\n",
              "          const docLinkHtml = 'Like what you see? Visit the ' +\n",
              "            '<a target=\"_blank\" href=https://colab.research.google.com/notebooks/data_table.ipynb>data table notebook</a>'\n",
              "            + ' to learn more about interactive tables.';\n",
              "          element.innerHTML = '';\n",
              "          dataTable['output_type'] = 'display_data';\n",
              "          await google.colab.output.renderOutput(dataTable, element);\n",
              "          const docLink = document.createElement('div');\n",
              "          docLink.innerHTML = docLinkHtml;\n",
              "          element.appendChild(docLink);\n",
              "        }\n",
              "      </script>\n",
              "    </div>\n",
              "  </div>\n",
              "  "
            ]
          },
          "metadata": {},
          "execution_count": 105
        }
      ]
    },
    {
      "cell_type": "code",
      "source": [
        "# feature Scalling\n",
        "from sklearn.preprocessing import StandardScaler\n",
        "sc = StandardScaler()\n",
        "x_train = sc.fit_transform(x_train)\n",
        "x_test = sc.transform(x_test)"
      ],
      "metadata": {
        "id": "zTR8Het9EQCr"
      },
      "execution_count": null,
      "outputs": []
    },
    {
      "cell_type": "code",
      "source": [
        "## part 2 Now lets create the ANN\n",
        "from tensorflow.keras.models import Sequential\n",
        "from tensorflow.keras.layers import Dense, Dropout, LeakyReLU, PReLU, ELU, ReLU"
      ],
      "metadata": {
        "id": "XsUZJA9VEyBY"
      },
      "execution_count": null,
      "outputs": []
    },
    {
      "cell_type": "code",
      "source": [
        "# lets initialize the ANN\n",
        "classifier = Sequential()"
      ],
      "metadata": {
        "id": "-JTHXv7QGgGW"
      },
      "execution_count": null,
      "outputs": []
    },
    {
      "cell_type": "code",
      "source": [
        "## Adding the input layer and first hidden layer\n",
        "classifier.add(Dense(10, input_shape=(11,),activation='relu'))"
      ],
      "metadata": {
        "id": "4_ZMfgN9Gn51"
      },
      "execution_count": null,
      "outputs": []
    },
    {
      "cell_type": "code",
      "source": [
        "## adding the second hidden layer\n",
        "classifier.add(Dense(units=10, activation='relu'))\n",
        "# classifier.add(Dropout(0.3)) # only use it when our model is overfitted\n"
      ],
      "metadata": {
        "id": "5SrBrx9dGyRk"
      },
      "execution_count": null,
      "outputs": []
    },
    {
      "cell_type": "code",
      "source": [
        "from google.colab import drive\n",
        "drive.mount('/content/drive')"
      ],
      "metadata": {
        "id": "cekB1oG3ilEs"
      },
      "execution_count": null,
      "outputs": []
    },
    {
      "cell_type": "code",
      "source": [
        "## adding Therd hidden layer\n",
        "classifier.add(Dense(units=10, activation='relu'))\n",
        "# classifier.add(Dropout(0.2))"
      ],
      "metadata": {
        "id": "dHqQ3N2aXou6"
      },
      "execution_count": null,
      "outputs": []
    },
    {
      "cell_type": "code",
      "source": [
        "## adding the output layer\n",
        "classifier.add(Dense(1,activation='sigmoid'))"
      ],
      "metadata": {
        "id": "HXS6HoAPX4kb"
      },
      "execution_count": null,
      "outputs": []
    },
    {
      "cell_type": "code",
      "source": [
        "classifier.summary()"
      ],
      "metadata": {
        "id": "kIqV0B0HYg0N",
        "colab": {
          "base_uri": "https://localhost:8080/"
        },
        "outputId": "7521f3f0-28c7-4056-ae8b-72e461e005c0"
      },
      "execution_count": null,
      "outputs": [
        {
          "output_type": "stream",
          "name": "stdout",
          "text": [
            "Model: \"sequential_5\"\n",
            "_________________________________________________________________\n",
            " Layer (type)                Output Shape              Param #   \n",
            "=================================================================\n",
            " dense_20 (Dense)            (None, 10)                120       \n",
            "                                                                 \n",
            " dense_21 (Dense)            (None, 10)                110       \n",
            "                                                                 \n",
            " dense_22 (Dense)            (None, 10)                110       \n",
            "                                                                 \n",
            " dense_23 (Dense)            (None, 1)                 11        \n",
            "                                                                 \n",
            "=================================================================\n",
            "Total params: 351\n",
            "Trainable params: 351\n",
            "Non-trainable params: 0\n",
            "_________________________________________________________________\n"
          ]
        }
      ]
    },
    {
      "cell_type": "markdown",
      "source": [
        "total param mean total number of weight and bias"
      ],
      "metadata": {
        "id": "Px1c8G-1ZGAw"
      }
    },
    {
      "cell_type": "code",
      "source": [
        "import tensorflow\n",
        "opt = tensorflow.keras.optimizers.Adam(learning_rate=0.01)# this optimizers is resposible for training"
      ],
      "metadata": {
        "id": "7lCxOvSvaCBi"
      },
      "execution_count": null,
      "outputs": []
    },
    {
      "cell_type": "code",
      "source": [
        "classifier.compile(optimizer=opt,loss='binary_crossentropy',metrics=['accuracy'])"
      ],
      "metadata": {
        "id": "mUKEv9C7YMoR"
      },
      "execution_count": null,
      "outputs": []
    },
    {
      "cell_type": "code",
      "source": [
        "## early stopping\n",
        "import tensorflow as tf\n",
        "early_stopping = tf.keras.callbacks.EarlyStopping(\n",
        "    monitor = 'val_loss',\n",
        "    min_delta=0.0001,\n",
        "    patience = 20,\n",
        "    verbose = 1,\n",
        "    mode ='auto',\n",
        "    baseline = None,\n",
        "    restore_best_weights=False,\n",
        ")"
      ],
      "metadata": {
        "id": "boOWUiYZaAhP"
      },
      "execution_count": null,
      "outputs": []
    },
    {
      "cell_type": "code",
      "source": [
        "model_history = classifier.fit(x_train,y_train, validation_data =(x_test,y_test),validation_split=0.33, batch_size=10, epochs=1000, callbacks=early_stopping)"
      ],
      "metadata": {
        "colab": {
          "base_uri": "https://localhost:8080/"
        },
        "id": "YYD4xCYLa2VO",
        "outputId": "cac51a8a-bdf5-4c6f-dbec-1439e3122889"
      },
      "execution_count": null,
      "outputs": [
        {
          "metadata": {
            "tags": null
          },
          "name": "stdout",
          "output_type": "stream",
          "text": [
            "Epoch 1/1000\n",
            "750/750 [==============================] - 3s 3ms/step - loss: 0.4103 - accuracy: 0.8283 - val_loss: 0.3602 - val_accuracy: 0.8524\n",
            "Epoch 2/1000\n",
            "750/750 [==============================] - 2s 3ms/step - loss: 0.3570 - accuracy: 0.8516 - val_loss: 0.3439 - val_accuracy: 0.8572\n",
            "Epoch 3/1000\n",
            "750/750 [==============================] - 2s 3ms/step - loss: 0.3530 - accuracy: 0.8581 - val_loss: 0.3459 - val_accuracy: 0.8604\n",
            "Epoch 4/1000\n",
            "750/750 [==============================] - 2s 3ms/step - loss: 0.3489 - accuracy: 0.8560 - val_loss: 0.3444 - val_accuracy: 0.8616\n",
            "Epoch 5/1000\n",
            "750/750 [==============================] - 2s 3ms/step - loss: 0.3488 - accuracy: 0.8549 - val_loss: 0.3446 - val_accuracy: 0.8548\n",
            "Epoch 6/1000\n",
            "750/750 [==============================] - 2s 3ms/step - loss: 0.3498 - accuracy: 0.8571 - val_loss: 0.3410 - val_accuracy: 0.8588\n",
            "Epoch 7/1000\n",
            "750/750 [==============================] - 2s 3ms/step - loss: 0.3461 - accuracy: 0.8596 - val_loss: 0.3568 - val_accuracy: 0.8596\n",
            "Epoch 8/1000\n",
            "750/750 [==============================] - 2s 3ms/step - loss: 0.3467 - accuracy: 0.8583 - val_loss: 0.3499 - val_accuracy: 0.8580\n",
            "Epoch 9/1000\n",
            "750/750 [==============================] - 2s 3ms/step - loss: 0.3460 - accuracy: 0.8588 - val_loss: 0.3469 - val_accuracy: 0.8628\n",
            "Epoch 10/1000\n",
            "750/750 [==============================] - 2s 3ms/step - loss: 0.3419 - accuracy: 0.8612 - val_loss: 0.3462 - val_accuracy: 0.8608\n",
            "Epoch 11/1000\n",
            "750/750 [==============================] - 2s 3ms/step - loss: 0.3430 - accuracy: 0.8573 - val_loss: 0.3362 - val_accuracy: 0.8632\n",
            "Epoch 12/1000\n",
            "750/750 [==============================] - 3s 4ms/step - loss: 0.3435 - accuracy: 0.8604 - val_loss: 0.3456 - val_accuracy: 0.8584\n",
            "Epoch 13/1000\n",
            "750/750 [==============================] - 2s 3ms/step - loss: 0.3421 - accuracy: 0.8595 - val_loss: 0.3396 - val_accuracy: 0.8648\n",
            "Epoch 14/1000\n",
            "750/750 [==============================] - 2s 3ms/step - loss: 0.3412 - accuracy: 0.8601 - val_loss: 0.3432 - val_accuracy: 0.8596\n",
            "Epoch 15/1000\n",
            "750/750 [==============================] - 2s 3ms/step - loss: 0.3372 - accuracy: 0.8608 - val_loss: 0.3497 - val_accuracy: 0.8620\n",
            "Epoch 16/1000\n",
            "750/750 [==============================] - 2s 3ms/step - loss: 0.3410 - accuracy: 0.8605 - val_loss: 0.3458 - val_accuracy: 0.8588\n",
            "Epoch 17/1000\n",
            "750/750 [==============================] - 2s 3ms/step - loss: 0.3398 - accuracy: 0.8636 - val_loss: 0.3438 - val_accuracy: 0.8552\n",
            "Epoch 18/1000\n",
            "750/750 [==============================] - 2s 3ms/step - loss: 0.3381 - accuracy: 0.8635 - val_loss: 0.3451 - val_accuracy: 0.8596\n",
            "Epoch 19/1000\n",
            "750/750 [==============================] - 2s 3ms/step - loss: 0.3396 - accuracy: 0.8637 - val_loss: 0.3358 - val_accuracy: 0.8648\n",
            "Epoch 20/1000\n",
            "750/750 [==============================] - 2s 3ms/step - loss: 0.3371 - accuracy: 0.8647 - val_loss: 0.3369 - val_accuracy: 0.8616\n",
            "Epoch 21/1000\n",
            "750/750 [==============================] - 2s 3ms/step - loss: 0.3358 - accuracy: 0.8621 - val_loss: 0.3396 - val_accuracy: 0.8644\n",
            "Epoch 22/1000\n",
            "750/750 [==============================] - 2s 3ms/step - loss: 0.3376 - accuracy: 0.8625 - val_loss: 0.3368 - val_accuracy: 0.8632\n",
            "Epoch 23/1000\n",
            "750/750 [==============================] - 2s 3ms/step - loss: 0.3341 - accuracy: 0.8620 - val_loss: 0.3396 - val_accuracy: 0.8636\n",
            "Epoch 24/1000\n",
            "750/750 [==============================] - 2s 3ms/step - loss: 0.3340 - accuracy: 0.8599 - val_loss: 0.3472 - val_accuracy: 0.8632\n",
            "Epoch 25/1000\n",
            "750/750 [==============================] - 2s 3ms/step - loss: 0.3359 - accuracy: 0.8635 - val_loss: 0.3326 - val_accuracy: 0.8608\n",
            "Epoch 26/1000\n",
            "750/750 [==============================] - 2s 3ms/step - loss: 0.3332 - accuracy: 0.8640 - val_loss: 0.3375 - val_accuracy: 0.8684\n",
            "Epoch 27/1000\n",
            "750/750 [==============================] - 2s 3ms/step - loss: 0.3348 - accuracy: 0.8633 - val_loss: 0.3342 - val_accuracy: 0.8596\n",
            "Epoch 28/1000\n",
            "750/750 [==============================] - 2s 3ms/step - loss: 0.3330 - accuracy: 0.8613 - val_loss: 0.3347 - val_accuracy: 0.8624\n",
            "Epoch 29/1000\n",
            "750/750 [==============================] - 2s 3ms/step - loss: 0.3332 - accuracy: 0.8632 - val_loss: 0.3500 - val_accuracy: 0.8632\n",
            "Epoch 30/1000\n",
            "750/750 [==============================] - 2s 3ms/step - loss: 0.3324 - accuracy: 0.8643 - val_loss: 0.3407 - val_accuracy: 0.8624\n",
            "Epoch 31/1000\n",
            "750/750 [==============================] - 2s 3ms/step - loss: 0.3330 - accuracy: 0.8633 - val_loss: 0.3428 - val_accuracy: 0.8612\n",
            "Epoch 32/1000\n",
            "750/750 [==============================] - 2s 3ms/step - loss: 0.3316 - accuracy: 0.8652 - val_loss: 0.3370 - val_accuracy: 0.8656\n",
            "Epoch 33/1000\n",
            "750/750 [==============================] - 2s 3ms/step - loss: 0.3329 - accuracy: 0.8644 - val_loss: 0.3444 - val_accuracy: 0.8600\n",
            "Epoch 34/1000\n",
            "750/750 [==============================] - 2s 3ms/step - loss: 0.3343 - accuracy: 0.8612 - val_loss: 0.3440 - val_accuracy: 0.8624\n",
            "Epoch 35/1000\n",
            "750/750 [==============================] - 2s 3ms/step - loss: 0.3305 - accuracy: 0.8623 - val_loss: 0.3369 - val_accuracy: 0.8632\n",
            "Epoch 36/1000\n",
            "750/750 [==============================] - 2s 3ms/step - loss: 0.3325 - accuracy: 0.8648 - val_loss: 0.3440 - val_accuracy: 0.8620\n",
            "Epoch 37/1000\n",
            "750/750 [==============================] - 2s 3ms/step - loss: 0.3311 - accuracy: 0.8656 - val_loss: 0.3332 - val_accuracy: 0.8636\n",
            "Epoch 38/1000\n",
            "750/750 [==============================] - 2s 3ms/step - loss: 0.3297 - accuracy: 0.8677 - val_loss: 0.3430 - val_accuracy: 0.8576\n",
            "Epoch 39/1000\n",
            "750/750 [==============================] - 2s 3ms/step - loss: 0.3320 - accuracy: 0.8640 - val_loss: 0.3429 - val_accuracy: 0.8628\n",
            "Epoch 40/1000\n",
            "750/750 [==============================] - 2s 3ms/step - loss: 0.3295 - accuracy: 0.8648 - val_loss: 0.3403 - val_accuracy: 0.8620\n",
            "Epoch 41/1000\n",
            "750/750 [==============================] - 2s 3ms/step - loss: 0.3299 - accuracy: 0.8647 - val_loss: 0.3429 - val_accuracy: 0.8628\n",
            "Epoch 42/1000\n",
            "750/750 [==============================] - 2s 3ms/step - loss: 0.3289 - accuracy: 0.8640 - val_loss: 0.3372 - val_accuracy: 0.8584\n",
            "Epoch 43/1000\n",
            "750/750 [==============================] - 2s 3ms/step - loss: 0.3281 - accuracy: 0.8651 - val_loss: 0.3538 - val_accuracy: 0.8636\n",
            "Epoch 44/1000\n",
            "750/750 [==============================] - 2s 3ms/step - loss: 0.3283 - accuracy: 0.8663 - val_loss: 0.3431 - val_accuracy: 0.8644\n",
            "Epoch 45/1000\n",
            "750/750 [==============================] - 2s 3ms/step - loss: 0.3266 - accuracy: 0.8669 - val_loss: 0.3423 - val_accuracy: 0.8540\n",
            "Epoch 45: early stopping\n"
          ]
        }
      ]
    },
    {
      "cell_type": "code",
      "source": [
        "model_history.history.keys()"
      ],
      "metadata": {
        "id": "8LKSPw_6qj1G",
        "colab": {
          "base_uri": "https://localhost:8080/"
        },
        "outputId": "a45b08ef-cf85-4e7b-83ba-f234f5e2154d"
      },
      "execution_count": null,
      "outputs": [
        {
          "data": {
            "text/plain": [
              "dict_keys(['loss', 'accuracy', 'val_loss', 'val_accuracy'])"
            ]
          },
          "execution_count": 118,
          "metadata": {},
          "output_type": "execute_result"
        }
      ]
    },
    {
      "cell_type": "code",
      "source": [
        "## summarize history for accuracy\n",
        "plt.plot(model_history.history['accuracy'])\n",
        "plt.plot(model_history.history['val_accuracy'])\n",
        "plt.title('model accutacy')\n",
        "plt.ylabel('accuracy')\n",
        "plt.xlabel('epoch')\n",
        "plt.legend(['train','test'],loc='upper left')\n",
        "plt.show()"
      ],
      "metadata": {
        "colab": {
          "base_uri": "https://localhost:8080/",
          "height": 295
        },
        "id": "oBeKxkRFJ1t2",
        "outputId": "2272df06-c21d-484b-edc8-fea6cc9195d2"
      },
      "execution_count": null,
      "outputs": [
        {
          "data": {
            "image/png": "[encoded data removed]",
            "text/plain": [
              "<Figure size 432x288 with 1 Axes>"
            ]
          },
          "metadata": {},
          "output_type": "display_data"
        }
      ]
    },
    {
      "cell_type": "code",
      "source": [
        "# summarize history for loss\n",
        "plt.plot(model_history.history['loss'])\n",
        "plt.plot(model_history.history['val_loss'])\n",
        "plt.title('model loss')\n",
        "plt.ylabel('loss')\n",
        "plt.xlabel('epoch')\n",
        "plt.legend(['train','test'],loc = 'upper left')"
      ],
      "metadata": {
        "colab": {
          "base_uri": "https://localhost:8080/",
          "height": 312
        },
        "id": "Oz8ykaCBLr0H",
        "outputId": "beeaf4a4-6245-4b48-f837-cc222e10610d"
      },
      "execution_count": null,
      "outputs": [
        {
          "data": {
            "text/plain": [
              "<matplotlib.legend.Legend at 0x7f330a0e3050>"
            ]
          },
          "execution_count": 120,
          "metadata": {},
          "output_type": "execute_result"
        },
        {
          "data": {
            "image/png": "[encoded data removed]",
            "text/plain": [
              "<Figure size 432x288 with 1 Axes>"
            ]
          },
          "metadata": {},
          "output_type": "display_data"
        }
      ]
    },
    {
      "cell_type": "code",
      "source": [
        "## making the predication and evaluating the model\n",
        "# predicting the test set result\n",
        "y_pred = classifier.predict(x_test)\n",
        "y_pred = (y_pred>=0.5)# here you can check the threshold using ROC and AUC curve"
      ],
      "metadata": {
        "id": "MJGQy1FrMjfr",
        "colab": {
          "base_uri": "https://localhost:8080/"
        },
        "outputId": "0e866851-6b70-49ca-f131-e00fa39d1fe2"
      },
      "execution_count": null,
      "outputs": [
        {
          "metadata": {
            "tags": null
          },
          "name": "stdout",
          "output_type": "stream",
          "text": [
            "79/79 [==============================] - 0s 2ms/step\n"
          ]
        }
      ]
    },
    {
      "cell_type": "code",
      "source": [
        "## make the confusion matrix\n",
        "from sklearn.metrics import confusion_matrix\n",
        "cm = confusion_matrix(y_test,y_pred)\n",
        "cm"
      ],
      "metadata": {
        "id": "q9EyY9UUKYS_",
        "colab": {
          "base_uri": "https://localhost:8080/"
        },
        "outputId": "75c00758-bc7d-4200-aa98-e00a68e05d9a"
      },
      "execution_count": null,
      "outputs": [
        {
          "data": {
            "text/plain": [
              "array([[1867,  124],\n",
              "       [ 241,  268]])"
            ]
          },
          "execution_count": 122,
          "metadata": {},
          "output_type": "execute_result"
        }
      ]
    },
    {
      "cell_type": "code",
      "source": [
        "## calcuate the accuracy\n",
        "from sklearn.metrics import accuracy_score\n",
        "score = accuracy_score(y_pred,y_test)"
      ],
      "metadata": {
        "id": "mfgkqfj7M4Td"
      },
      "execution_count": null,
      "outputs": []
    },
    {
      "cell_type": "code",
      "source": [
        "score"
      ],
      "metadata": {
        "colab": {
          "base_uri": "https://localhost:8080/"
        },
        "id": "6PAZgdleNWHt",
        "outputId": "7e29d009-5ca9-4042-8520-1dc505f47713"
      },
      "execution_count": null,
      "outputs": [
        {
          "data": {
            "text/plain": [
              "0.854"
            ]
          },
          "execution_count": 124,
          "metadata": {},
          "output_type": "execute_result"
        }
      ]
    },
    {
      "cell_type": "code",
      "source": [
        "## get the weights\n",
        "classifier.get_weights()"
      ],
      "metadata": {
        "colab": {
          "base_uri": "https://localhost:8080/"
        },
        "id": "MOf7NaqsNYyx",
        "outputId": "8ddf3074-0b02-43c9-da1e-5b1e6fbe1c2c"
      },
      "execution_count": null,
      "outputs": [
        {
          "data": {
            "text/plain": [
              "[array([[ 8.4198129e-01, -5.3739244e-01,  4.6992093e-02, -1.4828686e-02,\n",
              "         -1.1301863e+00, -5.0229585e-01, -1.5178747e+00,  6.9219369e-01,\n",
              "         -4.5215654e-01,  2.2543456e-01],\n",
              "        [-1.9804720e+00, -1.9692508e+00,  9.4657582e-01,  5.6474173e-01,\n",
              "          2.1807013e-01,  4.5786619e+00, -1.6617379e+00,  1.6969732e+00,\n",
              "          3.0643120e+00, -2.0732892e+00],\n",
              "        [ 2.6192409e-01, -5.0466221e-02,  1.9099261e-01,  1.5772133e-01,\n",
              "          5.2587849e-01, -3.9164335e-01, -1.9739319e+00,  5.8242422e-01,\n",
              "          4.5296481e-01,  1.0520546e+00],\n",
              "        [-1.5234028e+00, -3.1334929e+00,  7.6944470e-01, -3.4503741e+00,\n",
              "         -9.3817306e-01,  7.1355742e-01, -1.2147259e+00, -2.0166898e+00,\n",
              "         -9.3269676e-01, -1.6082374e+00],\n",
              "        [-2.1057265e-01,  7.4988681e-01,  3.7613819e+00, -4.0916510e+00,\n",
              "          7.4244314e-01, -1.5614187e+00, -4.2346844e-01, -8.0659610e-01,\n",
              "         -4.9104881e-02,  5.4953396e-01],\n",
              "        [ 1.2346400e+00, -1.2504460e-01, -2.9419109e-01, -7.7089027e-02,\n",
              "         -7.0139575e-01,  1.2589218e-01,  1.1433926e+00, -1.3563820e+00,\n",
              "          3.1664947e-01, -1.7642372e+00],\n",
              "        [ 1.2650031e+00,  1.2462236e+00, -2.4539998e-01, -8.1268854e-02,\n",
              "          2.2205144e-01, -6.7499280e-01,  1.5822490e+00, -5.6006062e-01,\n",
              "          2.7246363e+00, -7.5256002e-01],\n",
              "        [-3.1469768e-01,  6.1607265e-01, -1.6913402e-01, -4.7921967e-03,\n",
              "          1.6979392e+00, -2.2072716e-01, -9.0778571e-01, -6.7087752e-01,\n",
              "         -3.5297221e-01, -1.0282000e+00],\n",
              "        [-1.0329057e+00,  1.6082642e+00, -7.0219016e-01,  2.0504198e+00,\n",
              "         -8.8781911e-01,  3.0307207e-01, -6.6727591e-01, -1.6569045e+00,\n",
              "          1.6548324e-02, -1.8183435e+00],\n",
              "        [-1.1307815e+00,  1.2434651e+00,  5.6350106e-01,  1.8810442e-01,\n",
              "         -1.0878295e+00, -5.3549689e-01,  1.7705898e-01,  9.7355765e-01,\n",
              "         -1.2448316e-02, -1.2030010e+00],\n",
              "        [ 2.1640337e+00,  9.6935493e-01,  1.8267037e-01, -3.8765729e-03,\n",
              "         -1.6787090e+00, -1.5375687e-01,  2.4240216e-02,  8.8776283e-02,\n",
              "          4.1351539e-01,  4.7286147e-01]], dtype=float32),\n",
              " array([-1.997605  , -1.15621   , -4.6280017 , -1.6190119 , -5.335951  ,\n",
              "        -0.63399243, -3.5541906 , -2.6452286 , -3.6373818 ,  0.341052  ],\n",
              "       dtype=float32),\n",
              " array([[ 9.5108652e-01,  1.5299630e+00, -1.0903950e+00,  2.6301119e-01,\n",
              "          9.3525195e-01,  3.8282192e-01, -1.8571761e-01, -1.1343752e+00,\n",
              "         -1.1607883e+00,  5.7110143e-01],\n",
              "        [-8.0298311e-01, -8.5122190e-02, -9.7028095e-01,  4.9984270e-01,\n",
              "          9.1025186e-01, -3.3365979e+00, -1.3303362e+00,  8.1455427e-01,\n",
              "         -9.9116606e-01,  5.3836763e-01],\n",
              "        [ 1.1843055e+00, -1.7710880e+00,  3.0790257e+00, -3.2913709e+00,\n",
              "         -1.7914107e+00,  1.5480698e+00, -1.2330452e+00, -7.3346987e-02,\n",
              "          3.8665827e-02, -1.5709889e+00],\n",
              "        [ 4.3160820e-01, -2.2818871e+00,  5.2935398e-01, -5.2129173e+00,\n",
              "          5.0807774e-01, -2.0877790e+00, -1.1729903e+00, -1.3718170e+00,\n",
              "         -1.1033973e-01, -1.9806260e+00],\n",
              "        [ 1.1921278e+00, -1.6218971e+00,  2.8810749e+00,  1.7488836e+00,\n",
              "          4.6150926e-01,  1.4960479e+00,  1.5399026e+00,  2.4221199e+00,\n",
              "         -6.3974977e-02, -9.2442292e-01],\n",
              "        [ 7.9335439e-01, -3.6796299e-01,  5.2253288e-01, -2.1153047e+00,\n",
              "         -2.7791340e+00, -2.8761023e-01, -3.3619709e+00, -1.3342865e+00,\n",
              "         -1.3731924e+00, -7.1057808e-01],\n",
              "        [ 1.6395599e-01, -4.9410825e+00,  5.7515073e-01, -5.3805029e-01,\n",
              "         -2.2030334e+00,  1.5506124e+00,  1.5133281e+00, -5.2405655e-01,\n",
              "          1.3671310e-01,  3.6378914e-01],\n",
              "        [ 4.9138370e-01,  9.4557154e-01,  1.0801499e+00, -8.5738420e-01,\n",
              "         -4.4956672e-01, -1.5225229e+00, -1.2465377e+00, -3.2816248e+00,\n",
              "         -5.5731732e-01,  4.1043684e-01],\n",
              "        [-5.4103639e-02,  1.5324391e+00, -3.1184738e+00,  9.4187564e-01,\n",
              "         -3.1920987e-01, -5.3071821e-01,  1.2799532e+00,  8.4682477e-01,\n",
              "          3.0238314e-02, -1.1122844e+00],\n",
              "        [-5.7797527e-01, -1.5989206e+00, -8.4265292e-01, -4.4300151e-03,\n",
              "         -1.3835220e+00,  2.3374273e-01, -8.8387996e-01, -1.0509530e+00,\n",
              "         -8.6195236e-01,  5.5877304e-01]], dtype=float32),\n",
              " array([-3.0640748 ,  1.0507674 , -1.0750612 ,  1.0710098 , -2.6171484 ,\n",
              "        -2.1181765 , -0.02124204, -1.6239461 , -0.8508016 ,  2.9223657 ],\n",
              "       dtype=float32),\n",
              " array([[-1.5312269e-01,  7.1196586e-01, -1.0006461e+00,  9.8418367e-01,\n",
              "         -1.7376800e+00, -9.7136211e-01, -2.2117078e-01, -7.5923419e-01,\n",
              "         -3.1256518e-01, -4.9818289e-01],\n",
              "        [-4.0558167e-02, -1.5486771e+00, -2.6843983e-01, -1.8172242e-01,\n",
              "         -3.0508369e-01, -4.4096893e-01, -4.3113208e-01, -1.2356535e-01,\n",
              "          8.0861114e-02,  6.3693017e-01],\n",
              "        [-1.1941092e+00,  4.3492800e-01, -1.9783942e+00, -7.6212776e-01,\n",
              "         -1.9428769e-01, -8.8324970e-01, -5.0430012e-01, -3.7239742e-01,\n",
              "         -1.0729157e+00, -8.6986667e-01],\n",
              "        [-5.4922485e-01, -1.8045914e+00, -7.3515290e-01,  9.6997780e-01,\n",
              "         -1.9440222e-01,  8.2551487e-02, -1.0504243e-01, -3.6749920e-01,\n",
              "         -3.4571639e-01,  4.9017951e-01],\n",
              "        [ 4.7413479e-03, -1.5404311e+00, -2.5593415e-03,  5.9513175e-01,\n",
              "          3.5847526e-02, -4.6124575e-01, -5.2018380e-01, -2.6526310e-02,\n",
              "         -5.3054929e-01,  9.1381425e-01],\n",
              "        [-1.4356783e-03,  1.8201236e+00, -3.5180259e-02, -8.4878528e-01,\n",
              "         -6.5745312e-01, -9.2511612e-01, -2.1028450e-01, -2.0786181e-01,\n",
              "         -7.2206832e-02,  6.4091152e-01],\n",
              "        [-6.2982136e-01, -1.8110511e+00,  1.9149108e-01,  8.1454647e-01,\n",
              "         -5.0287447e-03, -7.1606070e-02, -7.0547521e-02, -7.5725920e-02,\n",
              "          4.3502533e-01,  9.6003282e-01],\n",
              "        [-4.6079916e-01,  2.0435331e+00, -3.7334183e-01,  1.2008513e+00,\n",
              "          3.7456825e-01, -4.0397242e-01, -3.9043730e-01, -1.8117557e-01,\n",
              "         -8.0801897e-02,  8.4848475e-01],\n",
              "        [-3.6586463e-01, -7.6222134e-01, -3.6875820e-01,  3.6962684e-02,\n",
              "         -1.4329669e-01, -3.4105140e-01, -4.1628546e-01, -5.5295354e-01,\n",
              "          1.3636275e-01, -1.0354289e-01],\n",
              "        [ 2.6529640e-02, -6.2459922e-01, -3.9833978e-01, -3.4636992e-01,\n",
              "         -8.3579725e-01, -7.4230683e-01, -4.7311026e-01, -5.6407440e-01,\n",
              "         -7.7064139e-01,  7.5567687e-01]], dtype=float32),\n",
              " array([-1.1953268 ,  0.01070743, -1.3610276 , -5.3324885 , -1.0598773 ,\n",
              "        -0.7410659 ,  0.        , -0.77366656, -1.6106181 ,  0.87521905],\n",
              "       dtype=float32),\n",
              " array([[ 0.03201666],\n",
              "        [ 0.42027816],\n",
              "        [ 0.11606105],\n",
              "        [-0.4955355 ],\n",
              "        [ 0.07011709],\n",
              "        [-0.002365  ],\n",
              "        [ 0.33771282],\n",
              "        [-0.30877444],\n",
              "        [ 0.22916624],\n",
              "        [-0.3496018 ]], dtype=float32),\n",
              " array([-0.7421633], dtype=float32)]"
            ]
          },
          "execution_count": 125,
          "metadata": {},
          "output_type": "execute_result"
        }
      ]
    },
    {
      "cell_type": "code",
      "source": [
        "## save the file in .h5 file\n",
        "classifier.save('model.h5')"
      ],
      "metadata": {
        "id": "JR6UKnKQNe9V"
      },
      "execution_count": null,
      "outputs": []
    },
    {
      "cell_type": "code",
      "source": [
        "## loading h5 file \n",
        "from tensorflow import keras\n",
        "classifier1 = keras.models.load_model('model.h5')"
      ],
      "metadata": {
        "id": "6-_GyiIiO55z"
      },
      "execution_count": null,
      "outputs": []
    },
    {
      "cell_type": "code",
      "source": [
        "classifier1.predict(x_test)"
      ],
      "metadata": {
        "colab": {
          "base_uri": "https://localhost:8080/"
        },
        "id": "8jadu1m1PwUH",
        "outputId": "aa27e12d-2aa4-4629-c8bd-7f00492ca649"
      },
      "execution_count": null,
      "outputs": [
        {
          "metadata": {
            "tags": null
          },
          "name": "stdout",
          "output_type": "stream",
          "text": [
            "79/79 [==============================] - 0s 2ms/step\n"
          ]
        },
        {
          "data": {
            "text/plain": [
              "array([[0.28202236],\n",
              "       [0.30957535],\n",
              "       [0.16385204],\n",
              "       ...,\n",
              "       [0.17253208],\n",
              "       [0.09641553],\n",
              "       [0.05365394]], dtype=float32)"
            ]
          },
          "execution_count": 128,
          "metadata": {},
          "output_type": "execute_result"
        }
      ]
    },
    {
      "cell_type": "markdown",
      "source": [
        "## Regression problem"
      ],
      "metadata": {
        "id": "NDp6PCxBVuwP"
      }
    },
    {
      "cell_type": "code",
      "source": [
        "dataset.head(5)"
      ],
      "metadata": {
        "colab": {
          "base_uri": "https://localhost:8080/",
          "height": 270
        },
        "id": "Pg2t0STQT2JS",
        "outputId": "dbdeb0a0-cf95-4b50-ed45-fa72958da3f5"
      },
      "execution_count": null,
      "outputs": [
        {
          "data": {
            "text/html": [
              "\n",
              "  <div id=\"df-08dd9309-4ab6-4163-978e-760426b5c97b\">\n",
              "    <div class=\"colab-df-container\">\n",
              "      <div>\n",
              "<style scoped>\n",
              "    .dataframe tbody tr th:only-of-type {\n",
              "        vertical-align: middle;\n",
              "    }\n",
              "\n",
              "    .dataframe tbody tr th {\n",
              "        vertical-align: top;\n",
              "    }\n",
              "\n",
              "    .dataframe thead th {\n",
              "        text-align: right;\n",
              "    }\n",
              "</style>\n",
              "<table border=\"1\" class=\"dataframe\">\n",
              "  <thead>\n",
              "    <tr style=\"text-align: right;\">\n",
              "      <th></th>\n",
              "      <th>RowNumber</th>\n",
              "      <th>CustomerId</th>\n",
              "      <th>Surname</th>\n",
              "      <th>CreditScore</th>\n",
              "      <th>Geography</th>\n",
              "      <th>Gender</th>\n",
              "      <th>Age</th>\n",
              "      <th>Tenure</th>\n",
              "      <th>Balance</th>\n",
              "      <th>NumOfProducts</th>\n",
              "      <th>HasCrCard</th>\n",
              "      <th>IsActiveMember</th>\n",
              "      <th>EstimatedSalary</th>\n",
              "      <th>Exited</th>\n",
              "    </tr>\n",
              "  </thead>\n",
              "  <tbody>\n",
              "    <tr>\n",
              "      <th>0</th>\n",
              "      <td>1</td>\n",
              "      <td>15634602</td>\n",
              "      <td>Hargrave</td>\n",
              "      <td>619</td>\n",
              "      <td>France</td>\n",
              "      <td>Female</td>\n",
              "      <td>42</td>\n",
              "      <td>2</td>\n",
              "      <td>0.00</td>\n",
              "      <td>1</td>\n",
              "      <td>1</td>\n",
              "      <td>1</td>\n",
              "      <td>101348.88</td>\n",
              "      <td>1</td>\n",
              "    </tr>\n",
              "    <tr>\n",
              "      <th>1</th>\n",
              "      <td>2</td>\n",
              "      <td>15647311</td>\n",
              "      <td>Hill</td>\n",
              "      <td>608</td>\n",
              "      <td>Spain</td>\n",
              "      <td>Female</td>\n",
              "      <td>41</td>\n",
              "      <td>1</td>\n",
              "      <td>83807.86</td>\n",
              "      <td>1</td>\n",
              "      <td>0</td>\n",
              "      <td>1</td>\n",
              "      <td>112542.58</td>\n",
              "      <td>0</td>\n",
              "    </tr>\n",
              "    <tr>\n",
              "      <th>2</th>\n",
              "      <td>3</td>\n",
              "      <td>15619304</td>\n",
              "      <td>Onio</td>\n",
              "      <td>502</td>\n",
              "      <td>France</td>\n",
              "      <td>Female</td>\n",
              "      <td>42</td>\n",
              "      <td>8</td>\n",
              "      <td>159660.80</td>\n",
              "      <td>3</td>\n",
              "      <td>1</td>\n",
              "      <td>0</td>\n",
              "      <td>113931.57</td>\n",
              "      <td>1</td>\n",
              "    </tr>\n",
              "    <tr>\n",
              "      <th>3</th>\n",
              "      <td>4</td>\n",
              "      <td>15701354</td>\n",
              "      <td>Boni</td>\n",
              "      <td>699</td>\n",
              "      <td>France</td>\n",
              "      <td>Female</td>\n",
              "      <td>39</td>\n",
              "      <td>1</td>\n",
              "      <td>0.00</td>\n",
              "      <td>2</td>\n",
              "      <td>0</td>\n",
              "      <td>0</td>\n",
              "      <td>93826.63</td>\n",
              "      <td>0</td>\n",
              "    </tr>\n",
              "    <tr>\n",
              "      <th>4</th>\n",
              "      <td>5</td>\n",
              "      <td>15737888</td>\n",
              "      <td>Mitchell</td>\n",
              "      <td>850</td>\n",
              "      <td>Spain</td>\n",
              "      <td>Female</td>\n",
              "      <td>43</td>\n",
              "      <td>2</td>\n",
              "      <td>125510.82</td>\n",
              "      <td>1</td>\n",
              "      <td>1</td>\n",
              "      <td>1</td>\n",
              "      <td>79084.10</td>\n",
              "      <td>0</td>\n",
              "    </tr>\n",
              "  </tbody>\n",
              "</table>\n",
              "</div>\n",
              "      <button class=\"colab-df-convert\" onclick=\"convertToInteractive('df-08dd9309-4ab6-4163-978e-760426b5c97b')\"\n",
              "              title=\"Convert this dataframe to an interactive table.\"\n",
              "              style=\"display:none;\">\n",
              "        \n",
              "  <svg xmlns=\"http://www.w3.org/2000/svg\" height=\"24px\"viewBox=\"0 0 24 24\"\n",
              "       width=\"24px\">\n",
              "    <path d=\"M0 0h24v24H0V0z\" fill=\"none\"/>\n",
              "    <path d=\"M18.56 5.44l.94 2.06.94-2.06 2.06-.94-2.06-.94-.94-2.06-.94 2.06-2.06.94zm-11 1L8.5 8.5l.94-2.06 2.06-.94-2.06-.94L8.5 2.5l-.94 2.06-2.06.94zm10 10l.94 2.06.94-2.06 2.06-.94-2.06-.94-.94-2.06-.94 2.06-2.06.94z\"/><path d=\"M17.41 7.96l-1.37-1.37c-.4-.4-.92-.59-1.43-.59-.52 0-1.04.2-1.43.59L10.3 9.45l-7.72 7.72c-.78.78-.78 2.05 0 2.83L4 21.41c.39.39.9.59 1.41.59.51 0 1.02-.2 1.41-.59l7.78-7.78 2.81-2.81c.8-.78.8-2.07 0-2.86zM5.41 20L4 18.59l7.72-7.72 1.47 1.35L5.41 20z\"/>\n",
              "  </svg>\n",
              "      </button>\n",
              "      \n",
              "  <style>\n",
              "    .colab-df-container {\n",
              "      display:flex;\n",
              "      flex-wrap:wrap;\n",
              "      gap: 12px;\n",
              "    }\n",
              "\n",
              "    .colab-df-convert {\n",
              "      background-color: #E8F0FE;\n",
              "      border: none;\n",
              "      border-radius: 50%;\n",
              "      cursor: pointer;\n",
              "      display: none;\n",
              "      fill: #1967D2;\n",
              "      height: 32px;\n",
              "      padding: 0 0 0 0;\n",
              "      width: 32px;\n",
              "    }\n",
              "\n",
              "    .colab-df-convert:hover {\n",
              "      background-color: #E2EBFA;\n",
              "      box-shadow: 0px 1px 2px rgba(60, 64, 67, 0.3), 0px 1px 3px 1px rgba(60, 64, 67, 0.15);\n",
              "      fill: #174EA6;\n",
              "    }\n",
              "\n",
              "    [theme=dark] .colab-df-convert {\n",
              "      background-color: #3B4455;\n",
              "      fill: #D2E3FC;\n",
              "    }\n",
              "\n",
              "    [theme=dark] .colab-df-convert:hover {\n",
              "      background-color: #434B5C;\n",
              "      box-shadow: 0px 1px 3px 1px rgba(0, 0, 0, 0.15);\n",
              "      filter: drop-shadow(0px 1px 2px rgba(0, 0, 0, 0.3));\n",
              "      fill: #FFFFFF;\n",
              "    }\n",
              "  </style>\n",
              "\n",
              "      <script>\n",
              "        const buttonEl =\n",
              "          document.querySelector('#df-08dd9309-4ab6-4163-978e-760426b5c97b button.colab-df-convert');\n",
              "        buttonEl.style.display =\n",
              "          google.colab.kernel.accessAllowed ? 'block' : 'none';\n",
              "\n",
              "        async function convertToInteractive(key) {\n",
              "          const element = document.querySelector('#df-08dd9309-4ab6-4163-978e-760426b5c97b');\n",
              "          const dataTable =\n",
              "            await google.colab.kernel.invokeFunction('convertToInteractive',\n",
              "                                                     [key], {});\n",
              "          if (!dataTable) return;\n",
              "\n",
              "          const docLinkHtml = 'Like what you see? Visit the ' +\n",
              "            '<a target=\"_blank\" href=https://colab.research.google.com/notebooks/data_table.ipynb>data table notebook</a>'\n",
              "            + ' to learn more about interactive tables.';\n",
              "          element.innerHTML = '';\n",
              "          dataTable['output_type'] = 'display_data';\n",
              "          await google.colab.output.renderOutput(dataTable, element);\n",
              "          const docLink = document.createElement('div');\n",
              "          docLink.innerHTML = docLinkHtml;\n",
              "          element.appendChild(docLink);\n",
              "        }\n",
              "      </script>\n",
              "    </div>\n",
              "  </div>\n",
              "  "
            ],
            "text/plain": [
              "   RowNumber  CustomerId   Surname  CreditScore Geography  Gender  Age  \\\n",
              "0          1    15634602  Hargrave          619    France  Female   42   \n",
              "1          2    15647311      Hill          608     Spain  Female   41   \n",
              "2          3    15619304      Onio          502    France  Female   42   \n",
              "3          4    15701354      Boni          699    France  Female   39   \n",
              "4          5    15737888  Mitchell          850     Spain  Female   43   \n",
              "\n",
              "   Tenure    Balance  NumOfProducts  HasCrCard  IsActiveMember  \\\n",
              "0       2       0.00              1          1               1   \n",
              "1       1   83807.86              1          0               1   \n",
              "2       8  159660.80              3          1               0   \n",
              "3       1       0.00              2          0               0   \n",
              "4       2  125510.82              1          1               1   \n",
              "\n",
              "   EstimatedSalary  Exited  \n",
              "0        101348.88       1  \n",
              "1        112542.58       0  \n",
              "2        113931.57       1  \n",
              "3         93826.63       0  \n",
              "4         79084.10       0  "
            ]
          },
          "execution_count": 129,
          "metadata": {},
          "output_type": "execute_result"
        }
      ]
    },
    {
      "cell_type": "code",
      "source": [
        "dataset.columns"
      ],
      "metadata": {
        "colab": {
          "base_uri": "https://localhost:8080/"
        },
        "id": "arxr5HtfWAee",
        "outputId": "fcfb50d0-b6ef-4fd2-a55d-b8254815d3ef"
      },
      "execution_count": null,
      "outputs": [
        {
          "data": {
            "text/plain": [
              "Index(['RowNumber', 'CustomerId', 'Surname', 'CreditScore', 'Geography',\n",
              "       'Gender', 'Age', 'Tenure', 'Balance', 'NumOfProducts', 'HasCrCard',\n",
              "       'IsActiveMember', 'EstimatedSalary', 'Exited'],\n",
              "      dtype='object')"
            ]
          },
          "execution_count": 130,
          "metadata": {},
          "output_type": "execute_result"
        }
      ]
    },
    {
      "cell_type": "code",
      "source": [
        "x=dataset[['RowNumber',  'CreditScore', 'Geography',\n",
        "       'Gender', 'Age', 'Tenure', 'Balance', 'NumOfProducts', 'HasCrCard',\n",
        "       'IsActiveMember', 'Exited']]\n",
        "y = dataset['EstimatedSalary' ]"
      ],
      "metadata": {
        "id": "ulnbVjViV51I"
      },
      "execution_count": null,
      "outputs": []
    },
    {
      "cell_type": "code",
      "source": [
        "# ferature Engineering\n",
        "geography = pd.get_dummies(x['Geography'],drop_first=True)\n",
        "gender = pd.get_dummies(x['Gender'], drop_first=True)"
      ],
      "metadata": {
        "id": "At6mvuKHWn_y"
      },
      "execution_count": null,
      "outputs": []
    },
    {
      "cell_type": "code",
      "source": [
        "##concatenate these variables with dataframe\n",
        "x = x.drop(['Geography','Gender'],axis=1)"
      ],
      "metadata": {
        "id": "yu39uZXGYMHH"
      },
      "execution_count": null,
      "outputs": []
    },
    {
      "cell_type": "code",
      "source": [
        "## concat the geography , gender and x\n",
        "x = pd.concat([x,geography,gender],axis=1)"
      ],
      "metadata": {
        "id": "mkwN3DaJW8fq"
      },
      "execution_count": null,
      "outputs": []
    },
    {
      "cell_type": "code",
      "source": [
        "#spliting the dataset into training set and test set\n",
        "from sklearn.model_selection import train_test_split\n",
        "x_train,x_test,y_train,y_test = train_test_split(x,y,test_size=0.25,random_state=0)"
      ],
      "metadata": {
        "id": "yl2RJ3ALYyx5"
      },
      "execution_count": null,
      "outputs": []
    },
    {
      "cell_type": "code",
      "source": [
        "x_train.head()"
      ],
      "metadata": {
        "colab": {
          "base_uri": "https://localhost:8080/",
          "height": 270
        },
        "id": "bCyR4vLAZk9k",
        "outputId": "caa68d32-9be4-4420-add7-f26fd8798c31"
      },
      "execution_count": null,
      "outputs": [
        {
          "data": {
            "text/html": [
              "\n",
              "  <div id=\"df-ea6ad6e2-a21d-4087-828a-9acb3b3b37bb\">\n",
              "    <div class=\"colab-df-container\">\n",
              "      <div>\n",
              "<style scoped>\n",
              "    .dataframe tbody tr th:only-of-type {\n",
              "        vertical-align: middle;\n",
              "    }\n",
              "\n",
              "    .dataframe tbody tr th {\n",
              "        vertical-align: top;\n",
              "    }\n",
              "\n",
              "    .dataframe thead th {\n",
              "        text-align: right;\n",
              "    }\n",
              "</style>\n",
              "<table border=\"1\" class=\"dataframe\">\n",
              "  <thead>\n",
              "    <tr style=\"text-align: right;\">\n",
              "      <th></th>\n",
              "      <th>RowNumber</th>\n",
              "      <th>CreditScore</th>\n",
              "      <th>Age</th>\n",
              "      <th>Tenure</th>\n",
              "      <th>Balance</th>\n",
              "      <th>NumOfProducts</th>\n",
              "      <th>HasCrCard</th>\n",
              "      <th>IsActiveMember</th>\n",
              "      <th>Exited</th>\n",
              "      <th>Germany</th>\n",
              "      <th>Spain</th>\n",
              "      <th>Male</th>\n",
              "    </tr>\n",
              "  </thead>\n",
              "  <tbody>\n",
              "    <tr>\n",
              "      <th>2967</th>\n",
              "      <td>2968</td>\n",
              "      <td>579</td>\n",
              "      <td>39</td>\n",
              "      <td>5</td>\n",
              "      <td>117833.30</td>\n",
              "      <td>3</td>\n",
              "      <td>0</td>\n",
              "      <td>0</td>\n",
              "      <td>1</td>\n",
              "      <td>1</td>\n",
              "      <td>0</td>\n",
              "      <td>0</td>\n",
              "    </tr>\n",
              "    <tr>\n",
              "      <th>700</th>\n",
              "      <td>701</td>\n",
              "      <td>750</td>\n",
              "      <td>32</td>\n",
              "      <td>5</td>\n",
              "      <td>0.00</td>\n",
              "      <td>2</td>\n",
              "      <td>1</td>\n",
              "      <td>0</td>\n",
              "      <td>0</td>\n",
              "      <td>0</td>\n",
              "      <td>0</td>\n",
              "      <td>0</td>\n",
              "    </tr>\n",
              "    <tr>\n",
              "      <th>3481</th>\n",
              "      <td>3482</td>\n",
              "      <td>729</td>\n",
              "      <td>34</td>\n",
              "      <td>9</td>\n",
              "      <td>53299.96</td>\n",
              "      <td>2</td>\n",
              "      <td>1</td>\n",
              "      <td>1</td>\n",
              "      <td>0</td>\n",
              "      <td>0</td>\n",
              "      <td>1</td>\n",
              "      <td>0</td>\n",
              "    </tr>\n",
              "    <tr>\n",
              "      <th>1621</th>\n",
              "      <td>1622</td>\n",
              "      <td>689</td>\n",
              "      <td>38</td>\n",
              "      <td>5</td>\n",
              "      <td>75075.14</td>\n",
              "      <td>1</td>\n",
              "      <td>1</td>\n",
              "      <td>1</td>\n",
              "      <td>1</td>\n",
              "      <td>0</td>\n",
              "      <td>1</td>\n",
              "      <td>1</td>\n",
              "    </tr>\n",
              "    <tr>\n",
              "      <th>800</th>\n",
              "      <td>801</td>\n",
              "      <td>605</td>\n",
              "      <td>52</td>\n",
              "      <td>7</td>\n",
              "      <td>0.00</td>\n",
              "      <td>2</td>\n",
              "      <td>1</td>\n",
              "      <td>1</td>\n",
              "      <td>0</td>\n",
              "      <td>0</td>\n",
              "      <td>0</td>\n",
              "      <td>1</td>\n",
              "    </tr>\n",
              "  </tbody>\n",
              "</table>\n",
              "</div>\n",
              "      <button class=\"colab-df-convert\" onclick=\"convertToInteractive('df-ea6ad6e2-a21d-4087-828a-9acb3b3b37bb')\"\n",
              "              title=\"Convert this dataframe to an interactive table.\"\n",
              "              style=\"display:none;\">\n",
              "        \n",
              "  <svg xmlns=\"http://www.w3.org/2000/svg\" height=\"24px\"viewBox=\"0 0 24 24\"\n",
              "       width=\"24px\">\n",
              "    <path d=\"M0 0h24v24H0V0z\" fill=\"none\"/>\n",
              "    <path d=\"M18.56 5.44l.94 2.06.94-2.06 2.06-.94-2.06-.94-.94-2.06-.94 2.06-2.06.94zm-11 1L8.5 8.5l.94-2.06 2.06-.94-2.06-.94L8.5 2.5l-.94 2.06-2.06.94zm10 10l.94 2.06.94-2.06 2.06-.94-2.06-.94-.94-2.06-.94 2.06-2.06.94z\"/><path d=\"M17.41 7.96l-1.37-1.37c-.4-.4-.92-.59-1.43-.59-.52 0-1.04.2-1.43.59L10.3 9.45l-7.72 7.72c-.78.78-.78 2.05 0 2.83L4 21.41c.39.39.9.59 1.41.59.51 0 1.02-.2 1.41-.59l7.78-7.78 2.81-2.81c.8-.78.8-2.07 0-2.86zM5.41 20L4 18.59l7.72-7.72 1.47 1.35L5.41 20z\"/>\n",
              "  </svg>\n",
              "      </button>\n",
              "      \n",
              "  <style>\n",
              "    .colab-df-container {\n",
              "      display:flex;\n",
              "      flex-wrap:wrap;\n",
              "      gap: 12px;\n",
              "    }\n",
              "\n",
              "    .colab-df-convert {\n",
              "      background-color: #E8F0FE;\n",
              "      border: none;\n",
              "      border-radius: 50%;\n",
              "      cursor: pointer;\n",
              "      display: none;\n",
              "      fill: #1967D2;\n",
              "      height: 32px;\n",
              "      padding: 0 0 0 0;\n",
              "      width: 32px;\n",
              "    }\n",
              "\n",
              "    .colab-df-convert:hover {\n",
              "      background-color: #E2EBFA;\n",
              "      box-shadow: 0px 1px 2px rgba(60, 64, 67, 0.3), 0px 1px 3px 1px rgba(60, 64, 67, 0.15);\n",
              "      fill: #174EA6;\n",
              "    }\n",
              "\n",
              "    [theme=dark] .colab-df-convert {\n",
              "      background-color: #3B4455;\n",
              "      fill: #D2E3FC;\n",
              "    }\n",
              "\n",
              "    [theme=dark] .colab-df-convert:hover {\n",
              "      background-color: #434B5C;\n",
              "      box-shadow: 0px 1px 3px 1px rgba(0, 0, 0, 0.15);\n",
              "      filter: drop-shadow(0px 1px 2px rgba(0, 0, 0, 0.3));\n",
              "      fill: #FFFFFF;\n",
              "    }\n",
              "  </style>\n",
              "\n",
              "      <script>\n",
              "        const buttonEl =\n",
              "          document.querySelector('#df-ea6ad6e2-a21d-4087-828a-9acb3b3b37bb button.colab-df-convert');\n",
              "        buttonEl.style.display =\n",
              "          google.colab.kernel.accessAllowed ? 'block' : 'none';\n",
              "\n",
              "        async function convertToInteractive(key) {\n",
              "          const element = document.querySelector('#df-ea6ad6e2-a21d-4087-828a-9acb3b3b37bb');\n",
              "          const dataTable =\n",
              "            await google.colab.kernel.invokeFunction('convertToInteractive',\n",
              "                                                     [key], {});\n",
              "          if (!dataTable) return;\n",
              "\n",
              "          const docLinkHtml = 'Like what you see? Visit the ' +\n",
              "            '<a target=\"_blank\" href=https://colab.research.google.com/notebooks/data_table.ipynb>data table notebook</a>'\n",
              "            + ' to learn more about interactive tables.';\n",
              "          element.innerHTML = '';\n",
              "          dataTable['output_type'] = 'display_data';\n",
              "          await google.colab.output.renderOutput(dataTable, element);\n",
              "          const docLink = document.createElement('div');\n",
              "          docLink.innerHTML = docLinkHtml;\n",
              "          element.appendChild(docLink);\n",
              "        }\n",
              "      </script>\n",
              "    </div>\n",
              "  </div>\n",
              "  "
            ],
            "text/plain": [
              "      RowNumber  CreditScore  Age  Tenure    Balance  NumOfProducts  \\\n",
              "2967       2968          579   39       5  117833.30              3   \n",
              "700         701          750   32       5       0.00              2   \n",
              "3481       3482          729   34       9   53299.96              2   \n",
              "1621       1622          689   38       5   75075.14              1   \n",
              "800         801          605   52       7       0.00              2   \n",
              "\n",
              "      HasCrCard  IsActiveMember  Exited  Germany  Spain  Male  \n",
              "2967          0               0       1        1      0     0  \n",
              "700           1               0       0        0      0     0  \n",
              "3481          1               1       0        0      1     0  \n",
              "1621          1               1       1        0      1     1  \n",
              "800           1               1       0        0      0     1  "
            ]
          },
          "execution_count": 136,
          "metadata": {},
          "output_type": "execute_result"
        }
      ]
    },
    {
      "cell_type": "code",
      "source": [
        "# feature Scalling\n",
        "from sklearn.preprocessing import StandardScaler\n",
        "sc = StandardScaler()\n",
        "x_train = sc.fit_transform(x_train)\n",
        "x_test = sc.transform(x_test)"
      ],
      "metadata": {
        "id": "5-kkGLh9ZWGq"
      },
      "execution_count": null,
      "outputs": []
    },
    {
      "cell_type": "code",
      "source": [
        "\n",
        "## part 2 Now lets create the ANN\n",
        "from tensorflow.keras.models import Sequential\n",
        "from tensorflow.keras.layers import Dense, Dropout, LeakyReLU, PReLU, ELU, ReLU\n",
        "\n",
        "# lets initialize the ANN\n",
        "regressor = Sequential()\n",
        "\n",
        "## Adding the input layer and first hidden layer\n",
        "regressor.add(Dense(10, input_shape=(12,),activation='relu'))\n",
        "\n",
        "## adding the second hidden layer\n",
        "regressor.add(Dense(units=10, activation='relu'))\n",
        "\n",
        "## adding Therd hidden layer\n",
        "regressor.add(Dense(units=10, activation='relu'))\n",
        "\n",
        "## adding the output layer\n",
        "regressor.add(Dense(1, activation='linear'))\n",
        "\n",
        "regressor.summary()"
      ],
      "metadata": {
        "colab": {
          "base_uri": "https://localhost:8080/"
        },
        "id": "qd8MLjeJYNFT",
        "outputId": "900fd610-1f67-4f4d-9673-a2f01925bed3"
      },
      "execution_count": null,
      "outputs": [
        {
          "output_type": "stream",
          "name": "stdout",
          "text": [
            "Model: \"sequential_8\"\n",
            "_________________________________________________________________\n",
            " Layer (type)                Output Shape              Param #   \n",
            "=================================================================\n",
            " dense_32 (Dense)            (None, 10)                130       \n",
            "                                                                 \n",
            " dense_33 (Dense)            (None, 10)                110       \n",
            "                                                                 \n",
            " dense_34 (Dense)            (None, 10)                110       \n",
            "                                                                 \n",
            " dense_35 (Dense)            (None, 1)                 11        \n",
            "                                                                 \n",
            "=================================================================\n",
            "Total params: 361\n",
            "Trainable params: 361\n",
            "Non-trainable params: 0\n",
            "_________________________________________________________________\n"
          ]
        }
      ]
    },
    {
      "cell_type": "code",
      "source": [
        "import tensorflow\n",
        "mse = tensorflow.keras.losses.MeanSquaredError(name = 'mean_squared_error')\n",
        "metrics = tensorflow.keras.metrics.MeanSquaredError(name = 'mean_sqared_error', dtype = None)"
      ],
      "metadata": {
        "id": "UsZfrmNwb29B"
      },
      "execution_count": null,
      "outputs": []
    },
    {
      "cell_type": "code",
      "source": [
        "regressor.compile(optimizer=opt,loss=mse,metrics=['mae'])"
      ],
      "metadata": {
        "id": "nlGZJK0UbjoU"
      },
      "execution_count": null,
      "outputs": []
    },
    {
      "cell_type": "code",
      "source": [
        "## Early stopping\n",
        "import tensorflow as tf\n",
        "early_stopping = tf.keras.callbacks.EarlyStopping(\n",
        "    monitor = 'val_mean_squared_error',\n",
        "    patience = 5\n",
        ")"
      ],
      "metadata": {
        "id": "LU7p05AHcjgm"
      },
      "execution_count": null,
      "outputs": []
    },
    {
      "cell_type": "code",
      "source": [
        "model_history = regressor.fit(x_train,y_train, validation_data =(x_test,y_test),validation_split=0.33, batch_size=10, epochs=100, callbacks=early_stopping)"
      ],
      "metadata": {
        "colab": {
          "base_uri": "https://localhost:8080/"
        },
        "id": "I9pvmHceq7-6",
        "outputId": "08286ab4-974a-4c47-c878-34d29ffe5876"
      },
      "execution_count": null,
      "outputs": [
        {
          "output_type": "stream",
          "name": "stdout",
          "text": [
            "Epoch 1/100\n",
            "739/750 [============================>.] - ETA: 0s - loss: 3980886528.0000 - mae: 52843.3789"
          ]
        },
        {
          "output_type": "stream",
          "name": "stderr",
          "text": [
            "WARNING:tensorflow:Early stopping conditioned on metric `val_mean_squared_error` which is not available. Available metrics are: loss,mae,val_loss,val_mae\n"
          ]
        },
        {
          "output_type": "stream",
          "name": "stdout",
          "text": [
            "\b\b\b\b\b\b\b\b\b\b\b\b\b\b\b\b\b\b\b\b\b\b\b\b\b\b\b\b\b\b\b\b\b\b\b\b\b\b\b\b\b\b\b\b\b\b\b\b\b\b\b\b\b\b\b\b\b\b\b\b\b\b\b\b\b\b\b\b\b\b\b\b\b\b\b\b\b\b\b\b\b\b\b\b\b\b\b\b\b\b\b\b\r750/750 [==============================] - 3s 3ms/step - loss: 3971972096.0000 - mae: 52815.0430 - val_loss: 3391403520.0000 - val_mae: 50186.1211\n",
            "Epoch 2/100\n",
            "731/750 [============================>.] - ETA: 0s - loss: 3363706368.0000 - mae: 49920.4062"
          ]
        },
        {
          "output_type": "stream",
          "name": "stderr",
          "text": [
            "WARNING:tensorflow:Early stopping conditioned on metric `val_mean_squared_error` which is not available. Available metrics are: loss,mae,val_loss,val_mae\n"
          ]
        },
        {
          "output_type": "stream",
          "name": "stdout",
          "text": [
            "\b\b\b\b\b\b\b\b\b\b\b\b\b\b\b\b\b\b\b\b\b\b\b\b\b\b\b\b\b\b\b\b\b\b\b\b\b\b\b\b\b\b\b\b\b\b\b\b\b\b\b\b\b\b\b\b\b\b\b\b\b\b\b\b\b\b\b\b\b\b\b\b\b\b\b\b\b\b\b\b\b\b\b\b\b\b\b\b\b\b\b\b\r750/750 [==============================] - 2s 3ms/step - loss: 3351097600.0000 - mae: 49807.3359 - val_loss: 3420848128.0000 - val_mae: 50257.6836\n",
            "Epoch 3/100\n",
            "732/750 [============================>.] - ETA: 0s - loss: 3345965056.0000 - mae: 49832.6172"
          ]
        },
        {
          "output_type": "stream",
          "name": "stderr",
          "text": [
            "WARNING:tensorflow:Early stopping conditioned on metric `val_mean_squared_error` which is not available. Available metrics are: loss,mae,val_loss,val_mae\n"
          ]
        },
        {
          "output_type": "stream",
          "name": "stdout",
          "text": [
            "\b\b\b\b\b\b\b\b\b\b\b\b\b\b\b\b\b\b\b\b\b\b\b\b\b\b\b\b\b\b\b\b\b\b\b\b\b\b\b\b\b\b\b\b\b\b\b\b\b\b\b\b\b\b\b\b\b\b\b\b\b\b\b\b\b\b\b\b\b\b\b\b\b\b\b\b\b\b\b\b\b\b\b\b\b\b\b\b\b\b\b\b\r750/750 [==============================] - 2s 3ms/step - loss: 3340735744.0000 - mae: 49787.6875 - val_loss: 3353790464.0000 - val_mae: 49752.3789\n",
            "Epoch 4/100\n",
            "735/750 [============================>.] - ETA: 0s - loss: 3323484416.0000 - mae: 49718.6289"
          ]
        },
        {
          "output_type": "stream",
          "name": "stderr",
          "text": [
            "WARNING:tensorflow:Early stopping conditioned on metric `val_mean_squared_error` which is not available. Available metrics are: loss,mae,val_loss,val_mae\n"
          ]
        },
        {
          "output_type": "stream",
          "name": "stdout",
          "text": [
            "\b\b\b\b\b\b\b\b\b\b\b\b\b\b\b\b\b\b\b\b\b\b\b\b\b\b\b\b\b\b\b\b\b\b\b\b\b\b\b\b\b\b\b\b\b\b\b\b\b\b\b\b\b\b\b\b\b\b\b\b\b\b\b\b\b\b\b\b\b\b\b\b\b\b\b\b\b\b\b\b\b\b\b\b\b\b\b\b\b\b\b\b\r750/750 [==============================] - 2s 3ms/step - loss: 3329259008.0000 - mae: 49768.1680 - val_loss: 3368051712.0000 - val_mae: 50028.9141\n",
            "Epoch 5/100\n",
            "735/750 [============================>.] - ETA: 0s - loss: 3319006976.0000 - mae: 49653.9062"
          ]
        },
        {
          "output_type": "stream",
          "name": "stderr",
          "text": [
            "WARNING:tensorflow:Early stopping conditioned on metric `val_mean_squared_error` which is not available. Available metrics are: loss,mae,val_loss,val_mae\n"
          ]
        },
        {
          "output_type": "stream",
          "name": "stdout",
          "text": [
            "\b\b\b\b\b\b\b\b\b\b\b\b\b\b\b\b\b\b\b\b\b\b\b\b\b\b\b\b\b\b\b\b\b\b\b\b\b\b\b\b\b\b\b\b\b\b\b\b\b\b\b\b\b\b\b\b\b\b\b\b\b\b\b\b\b\b\b\b\b\b\b\b\b\b\b\b\b\b\b\b\b\b\b\b\b\b\b\b\b\b\b\b\r750/750 [==============================] - 2s 3ms/step - loss: 3321138944.0000 - mae: 49674.4883 - val_loss: 3335538176.0000 - val_mae: 49773.4062\n",
            "Epoch 6/100\n",
            "740/750 [============================>.] - ETA: 0s - loss: 3312451328.0000 - mae: 49613.1211"
          ]
        },
        {
          "output_type": "stream",
          "name": "stderr",
          "text": [
            "WARNING:tensorflow:Early stopping conditioned on metric `val_mean_squared_error` which is not available. Available metrics are: loss,mae,val_loss,val_mae\n"
          ]
        },
        {
          "output_type": "stream",
          "name": "stdout",
          "text": [
            "\b\b\b\b\b\b\b\b\b\b\b\b\b\b\b\b\b\b\b\b\b\b\b\b\b\b\b\b\b\b\b\b\b\b\b\b\b\b\b\b\b\b\b\b\b\b\b\b\b\b\b\b\b\b\b\b\b\b\b\b\b\b\b\b\b\b\b\b\b\b\b\b\b\b\b\b\b\b\b\b\b\b\b\b\b\b\b\b\b\b\b\b\r750/750 [==============================] - 2s 3ms/step - loss: 3315249152.0000 - mae: 49637.1406 - val_loss: 3362505728.0000 - val_mae: 49963.6367\n",
            "Epoch 7/100\n",
            "732/750 [============================>.] - ETA: 0s - loss: 3308404736.0000 - mae: 49578.1680"
          ]
        },
        {
          "output_type": "stream",
          "name": "stderr",
          "text": [
            "WARNING:tensorflow:Early stopping conditioned on metric `val_mean_squared_error` which is not available. Available metrics are: loss,mae,val_loss,val_mae\n"
          ]
        },
        {
          "output_type": "stream",
          "name": "stdout",
          "text": [
            "\b\b\b\b\b\b\b\b\b\b\b\b\b\b\b\b\b\b\b\b\b\b\b\b\b\b\b\b\b\b\b\b\b\b\b\b\b\b\b\b\b\b\b\b\b\b\b\b\b\b\b\b\b\b\b\b\b\b\b\b\b\b\b\b\b\b\b\b\b\b\b\b\b\b\b\b\b\b\b\b\b\b\b\b\b\b\b\b\b\b\b\b\r750/750 [==============================] - 2s 3ms/step - loss: 3308790784.0000 - mae: 49592.5391 - val_loss: 3397001216.0000 - val_mae: 50127.2344\n",
            "Epoch 8/100\n",
            "735/750 [============================>.] - ETA: 0s - loss: 3314922240.0000 - mae: 49609.8125"
          ]
        },
        {
          "output_type": "stream",
          "name": "stderr",
          "text": [
            "WARNING:tensorflow:Early stopping conditioned on metric `val_mean_squared_error` which is not available. Available metrics are: loss,mae,val_loss,val_mae\n"
          ]
        },
        {
          "output_type": "stream",
          "name": "stdout",
          "text": [
            "\b\b\b\b\b\b\b\b\b\b\b\b\b\b\b\b\b\b\b\b\b\b\b\b\b\b\b\b\b\b\b\b\b\b\b\b\b\b\b\b\b\b\b\b\b\b\b\b\b\b\b\b\b\b\b\b\b\b\b\b\b\b\b\b\b\b\b\b\b\b\b\b\b\b\b\b\b\b\b\b\b\b\b\b\b\b\b\b\b\b\b\b\r750/750 [==============================] - 2s 3ms/step - loss: 3314972416.0000 - mae: 49628.9102 - val_loss: 3339540736.0000 - val_mae: 49762.5391\n",
            "Epoch 9/100\n",
            "738/750 [============================>.] - ETA: 0s - loss: 3307418624.0000 - mae: 49577.4414"
          ]
        },
        {
          "output_type": "stream",
          "name": "stderr",
          "text": [
            "WARNING:tensorflow:Early stopping conditioned on metric `val_mean_squared_error` which is not available. Available metrics are: loss,mae,val_loss,val_mae\n"
          ]
        },
        {
          "output_type": "stream",
          "name": "stdout",
          "text": [
            "\b\b\b\b\b\b\b\b\b\b\b\b\b\b\b\b\b\b\b\b\b\b\b\b\b\b\b\b\b\b\b\b\b\b\b\b\b\b\b\b\b\b\b\b\b\b\b\b\b\b\b\b\b\b\b\b\b\b\b\b\b\b\b\b\b\b\b\b\b\b\b\b\b\b\b\b\b\b\b\b\b\b\b\b\b\b\b\b\b\b\b\b\r750/750 [==============================] - 2s 3ms/step - loss: 3310304768.0000 - mae: 49600.6016 - val_loss: 3359649024.0000 - val_mae: 49975.5586\n",
            "Epoch 10/100\n",
            "733/750 [============================>.] - ETA: 0s - loss: 3314092800.0000 - mae: 49565.5547"
          ]
        },
        {
          "output_type": "stream",
          "name": "stderr",
          "text": [
            "WARNING:tensorflow:Early stopping conditioned on metric `val_mean_squared_error` which is not available. Available metrics are: loss,mae,val_loss,val_mae\n"
          ]
        },
        {
          "output_type": "stream",
          "name": "stdout",
          "text": [
            "\b\b\b\b\b\b\b\b\b\b\b\b\b\b\b\b\b\b\b\b\b\b\b\b\b\b\b\b\b\b\b\b\b\b\b\b\b\b\b\b\b\b\b\b\b\b\b\b\b\b\b\b\b\b\b\b\b\b\b\b\b\b\b\b\b\b\b\b\b\b\b\b\b\b\b\b\b\b\b\b\b\b\b\b\b\b\b\b\b\b\b\b\r750/750 [==============================] - 2s 3ms/step - loss: 3311580672.0000 - mae: 49554.1016 - val_loss: 3339635456.0000 - val_mae: 49804.5391\n",
            "Epoch 11/100\n",
            "735/750 [============================>.] - ETA: 0s - loss: 3311827968.0000 - mae: 49629.4922"
          ]
        },
        {
          "output_type": "stream",
          "name": "stderr",
          "text": [
            "WARNING:tensorflow:Early stopping conditioned on metric `val_mean_squared_error` which is not available. Available metrics are: loss,mae,val_loss,val_mae\n"
          ]
        },
        {
          "output_type": "stream",
          "name": "stdout",
          "text": [
            "\b\b\b\b\b\b\b\b\b\b\b\b\b\b\b\b\b\b\b\b\b\b\b\b\b\b\b\b\b\b\b\b\b\b\b\b\b\b\b\b\b\b\b\b\b\b\b\b\b\b\b\b\b\b\b\b\b\b\b\b\b\b\b\b\b\b\b\b\b\b\b\b\b\b\b\b\b\b\b\b\b\b\b\b\b\b\b\b\b\b\b\b\r750/750 [==============================] - 2s 3ms/step - loss: 3312695808.0000 - mae: 49631.5664 - val_loss: 3342737408.0000 - val_mae: 49829.5430\n",
            "Epoch 12/100\n",
            "743/750 [============================>.] - ETA: 0s - loss: 3309014016.0000 - mae: 49572.7109"
          ]
        },
        {
          "output_type": "stream",
          "name": "stderr",
          "text": [
            "WARNING:tensorflow:Early stopping conditioned on metric `val_mean_squared_error` which is not available. Available metrics are: loss,mae,val_loss,val_mae\n"
          ]
        },
        {
          "output_type": "stream",
          "name": "stdout",
          "text": [
            "\b\b\b\b\b\b\b\b\b\b\b\b\b\b\b\b\b\b\b\b\b\b\b\b\b\b\b\b\b\b\b\b\b\b\b\b\b\b\b\b\b\b\b\b\b\b\b\b\b\b\b\b\b\b\b\b\b\b\b\b\b\b\b\b\b\b\b\b\b\b\b\b\b\b\b\b\b\b\b\b\b\b\b\b\b\b\b\b\b\b\b\b\r750/750 [==============================] - 3s 4ms/step - loss: 3308791552.0000 - mae: 49572.2383 - val_loss: 3357517824.0000 - val_mae: 49911.4375\n",
            "Epoch 13/100\n",
            "734/750 [============================>.] - ETA: 0s - loss: 3299178496.0000 - mae: 49457.8945"
          ]
        },
        {
          "output_type": "stream",
          "name": "stderr",
          "text": [
            "WARNING:tensorflow:Early stopping conditioned on metric `val_mean_squared_error` which is not available. Available metrics are: loss,mae,val_loss,val_mae\n"
          ]
        },
        {
          "output_type": "stream",
          "name": "stdout",
          "text": [
            "\b\b\b\b\b\b\b\b\b\b\b\b\b\b\b\b\b\b\b\b\b\b\b\b\b\b\b\b\b\b\b\b\b\b\b\b\b\b\b\b\b\b\b\b\b\b\b\b\b\b\b\b\b\b\b\b\b\b\b\b\b\b\b\b\b\b\b\b\b\b\b\b\b\b\b\b\b\b\b\b\b\b\b\b\b\b\b\b\b\b\b\b\r750/750 [==============================] - 2s 3ms/step - loss: 3307401984.0000 - mae: 49532.1094 - val_loss: 3352793344.0000 - val_mae: 49877.4258\n",
            "Epoch 14/100\n",
            "747/750 [============================>.] - ETA: 0s - loss: 3310600192.0000 - mae: 49595.2422"
          ]
        },
        {
          "output_type": "stream",
          "name": "stderr",
          "text": [
            "WARNING:tensorflow:Early stopping conditioned on metric `val_mean_squared_error` which is not available. Available metrics are: loss,mae,val_loss,val_mae\n"
          ]
        },
        {
          "output_type": "stream",
          "name": "stdout",
          "text": [
            "\b\b\b\b\b\b\b\b\b\b\b\b\b\b\b\b\b\b\b\b\b\b\b\b\b\b\b\b\b\b\b\b\b\b\b\b\b\b\b\b\b\b\b\b\b\b\b\b\b\b\b\b\b\b\b\b\b\b\b\b\b\b\b\b\b\b\b\b\b\b\b\b\b\b\b\b\b\b\b\b\b\b\b\b\b\b\b\b\b\b\b\b\r750/750 [==============================] - 2s 3ms/step - loss: 3308616704.0000 - mae: 49574.6172 - val_loss: 3338666496.0000 - val_mae: 49800.2188\n",
            "Epoch 15/100\n",
            "740/750 [============================>.] - ETA: 0s - loss: 3311207936.0000 - mae: 49573.0859"
          ]
        },
        {
          "output_type": "stream",
          "name": "stderr",
          "text": [
            "WARNING:tensorflow:Early stopping conditioned on metric `val_mean_squared_error` which is not available. Available metrics are: loss,mae,val_loss,val_mae\n"
          ]
        },
        {
          "output_type": "stream",
          "name": "stdout",
          "text": [
            "\b\b\b\b\b\b\b\b\b\b\b\b\b\b\b\b\b\b\b\b\b\b\b\b\b\b\b\b\b\b\b\b\b\b\b\b\b\b\b\b\b\b\b\b\b\b\b\b\b\b\b\b\b\b\b\b\b\b\b\b\b\b\b\b\b\b\b\b\b\b\b\b\b\b\b\b\b\b\b\b\b\b\b\b\b\b\b\b\b\b\b\b\r750/750 [==============================] - 2s 3ms/step - loss: 3306385152.0000 - mae: 49531.8281 - val_loss: 3368172544.0000 - val_mae: 49958.6953\n",
            "Epoch 16/100\n",
            "738/750 [============================>.] - ETA: 0s - loss: 3306214912.0000 - mae: 49586.5078"
          ]
        },
        {
          "output_type": "stream",
          "name": "stderr",
          "text": [
            "WARNING:tensorflow:Early stopping conditioned on metric `val_mean_squared_error` which is not available. Available metrics are: loss,mae,val_loss,val_mae\n"
          ]
        },
        {
          "output_type": "stream",
          "name": "stdout",
          "text": [
            "\b\b\b\b\b\b\b\b\b\b\b\b\b\b\b\b\b\b\b\b\b\b\b\b\b\b\b\b\b\b\b\b\b\b\b\b\b\b\b\b\b\b\b\b\b\b\b\b\b\b\b\b\b\b\b\b\b\b\b\b\b\b\b\b\b\b\b\b\b\b\b\b\b\b\b\b\b\b\b\b\b\b\b\b\b\b\b\b\b\b\b\b\r750/750 [==============================] - 2s 3ms/step - loss: 3306201344.0000 - mae: 49596.3359 - val_loss: 3340830976.0000 - val_mae: 49811.9883\n",
            "Epoch 17/100\n",
            "736/750 [============================>.] - ETA: 0s - loss: 3301540864.0000 - mae: 49550.2461"
          ]
        },
        {
          "output_type": "stream",
          "name": "stderr",
          "text": [
            "WARNING:tensorflow:Early stopping conditioned on metric `val_mean_squared_error` which is not available. Available metrics are: loss,mae,val_loss,val_mae\n"
          ]
        },
        {
          "output_type": "stream",
          "name": "stdout",
          "text": [
            "\b\b\b\b\b\b\b\b\b\b\b\b\b\b\b\b\b\b\b\b\b\b\b\b\b\b\b\b\b\b\b\b\b\b\b\b\b\b\b\b\b\b\b\b\b\b\b\b\b\b\b\b\b\b\b\b\b\b\b\b\b\b\b\b\b\b\b\b\b\b\b\b\b\b\b\b\b\b\b\b\b\b\b\b\b\b\b\b\b\b\b\b\r750/750 [==============================] - 2s 3ms/step - loss: 3304015104.0000 - mae: 49564.5312 - val_loss: 3357906432.0000 - val_mae: 49884.8008\n",
            "Epoch 18/100\n",
            "731/750 [============================>.] - ETA: 0s - loss: 3305830400.0000 - mae: 49573.8828"
          ]
        },
        {
          "output_type": "stream",
          "name": "stderr",
          "text": [
            "WARNING:tensorflow:Early stopping conditioned on metric `val_mean_squared_error` which is not available. Available metrics are: loss,mae,val_loss,val_mae\n"
          ]
        },
        {
          "output_type": "stream",
          "name": "stdout",
          "text": [
            "\b\b\b\b\b\b\b\b\b\b\b\b\b\b\b\b\b\b\b\b\b\b\b\b\b\b\b\b\b\b\b\b\b\b\b\b\b\b\b\b\b\b\b\b\b\b\b\b\b\b\b\b\b\b\b\b\b\b\b\b\b\b\b\b\b\b\b\b\b\b\b\b\b\b\b\b\b\b\b\b\b\b\b\b\b\b\b\b\b\b\b\b\r750/750 [==============================] - 2s 3ms/step - loss: 3302196480.0000 - mae: 49532.3594 - val_loss: 3332869120.0000 - val_mae: 49736.6797\n",
            "Epoch 19/100\n",
            "730/750 [============================>.] - ETA: 0s - loss: 3301324800.0000 - mae: 49506.2852"
          ]
        },
        {
          "output_type": "stream",
          "name": "stderr",
          "text": [
            "WARNING:tensorflow:Early stopping conditioned on metric `val_mean_squared_error` which is not available. Available metrics are: loss,mae,val_loss,val_mae\n"
          ]
        },
        {
          "output_type": "stream",
          "name": "stdout",
          "text": [
            "\b\b\b\b\b\b\b\b\b\b\b\b\b\b\b\b\b\b\b\b\b\b\b\b\b\b\b\b\b\b\b\b\b\b\b\b\b\b\b\b\b\b\b\b\b\b\b\b\b\b\b\b\b\b\b\b\b\b\b\b\b\b\b\b\b\b\b\b\b\b\b\b\b\b\b\b\b\b\b\b\b\b\b\b\b\b\b\b\b\b\b\b\r750/750 [==============================] - 2s 3ms/step - loss: 3303521536.0000 - mae: 49524.9883 - val_loss: 3351365120.0000 - val_mae: 49907.7617\n",
            "Epoch 20/100\n",
            "747/750 [============================>.] - ETA: 0s - loss: 3304073472.0000 - mae: 49568.3125"
          ]
        },
        {
          "output_type": "stream",
          "name": "stderr",
          "text": [
            "WARNING:tensorflow:Early stopping conditioned on metric `val_mean_squared_error` which is not available. Available metrics are: loss,mae,val_loss,val_mae\n"
          ]
        },
        {
          "output_type": "stream",
          "name": "stdout",
          "text": [
            "\b\b\b\b\b\b\b\b\b\b\b\b\b\b\b\b\b\b\b\b\b\b\b\b\b\b\b\b\b\b\b\b\b\b\b\b\b\b\b\b\b\b\b\b\b\b\b\b\b\b\b\b\b\b\b\b\b\b\b\b\b\b\b\b\b\b\b\b\b\b\b\b\b\b\b\b\b\b\b\b\b\b\b\b\b\b\b\b\b\b\b\b\r750/750 [==============================] - 2s 3ms/step - loss: 3304607232.0000 - mae: 49568.9180 - val_loss: 3347254272.0000 - val_mae: 49853.8438\n",
            "Epoch 21/100\n",
            "745/750 [============================>.] - ETA: 0s - loss: 3298505984.0000 - mae: 49470.3516"
          ]
        },
        {
          "output_type": "stream",
          "name": "stderr",
          "text": [
            "WARNING:tensorflow:Early stopping conditioned on metric `val_mean_squared_error` which is not available. Available metrics are: loss,mae,val_loss,val_mae\n"
          ]
        },
        {
          "output_type": "stream",
          "name": "stdout",
          "text": [
            "\b\b\b\b\b\b\b\b\b\b\b\b\b\b\b\b\b\b\b\b\b\b\b\b\b\b\b\b\b\b\b\b\b\b\b\b\b\b\b\b\b\b\b\b\b\b\b\b\b\b\b\b\b\b\b\b\b\b\b\b\b\b\b\b\b\b\b\b\b\b\b\b\b\b\b\b\b\b\b\b\b\b\b\b\b\b\b\b\b\b\b\b\r750/750 [==============================] - 2s 3ms/step - loss: 3297519872.0000 - mae: 49463.1055 - val_loss: 3345017344.0000 - val_mae: 49845.1367\n",
            "Epoch 22/100\n",
            "750/750 [==============================] - ETA: 0s - loss: 3292235264.0000 - mae: 49500.8711"
          ]
        },
        {
          "output_type": "stream",
          "name": "stderr",
          "text": [
            "WARNING:tensorflow:Early stopping conditioned on metric `val_mean_squared_error` which is not available. Available metrics are: loss,mae,val_loss,val_mae\n"
          ]
        },
        {
          "output_type": "stream",
          "name": "stdout",
          "text": [
            "\b\b\b\b\b\b\b\b\b\b\b\b\b\b\b\b\b\b\b\b\b\b\b\b\b\b\b\b\b\b\b\b\b\b\b\b\b\b\b\b\b\b\b\b\b\b\b\b\b\b\b\b\b\b\b\b\b\b\b\b\b\b\b\b\b\b\b\b\b\b\b\b\b\b\b\b\b\b\b\b\b\b\b\b\b\b\b\b\b\b\b\b\r750/750 [==============================] - 2s 3ms/step - loss: 3292235264.0000 - mae: 49500.8711 - val_loss: 3347576576.0000 - val_mae: 49823.2578\n",
            "Epoch 23/100\n",
            "743/750 [============================>.] - ETA: 0s - loss: 3304979456.0000 - mae: 49545.3984"
          ]
        },
        {
          "output_type": "stream",
          "name": "stderr",
          "text": [
            "WARNING:tensorflow:Early stopping conditioned on metric `val_mean_squared_error` which is not available. Available metrics are: loss,mae,val_loss,val_mae\n"
          ]
        },
        {
          "output_type": "stream",
          "name": "stdout",
          "text": [
            "\b\b\b\b\b\b\b\b\b\b\b\b\b\b\b\b\b\b\b\b\b\b\b\b\b\b\b\b\b\b\b\b\b\b\b\b\b\b\b\b\b\b\b\b\b\b\b\b\b\b\b\b\b\b\b\b\b\b\b\b\b\b\b\b\b\b\b\b\b\b\b\b\b\b\b\b\b\b\b\b\b\b\b\b\b\b\b\b\b\b\b\b\r750/750 [==============================] - 2s 3ms/step - loss: 3300854528.0000 - mae: 49506.1602 - val_loss: 3348483840.0000 - val_mae: 49859.0000\n",
            "Epoch 24/100\n",
            "743/750 [============================>.] - ETA: 0s - loss: 3308638720.0000 - mae: 49582.7539"
          ]
        },
        {
          "output_type": "stream",
          "name": "stderr",
          "text": [
            "WARNING:tensorflow:Early stopping conditioned on metric `val_mean_squared_error` which is not available. Available metrics are: loss,mae,val_loss,val_mae\n"
          ]
        },
        {
          "output_type": "stream",
          "name": "stdout",
          "text": [
            "\b\b\b\b\b\b\b\b\b\b\b\b\b\b\b\b\b\b\b\b\b\b\b\b\b\b\b\b\b\b\b\b\b\b\b\b\b\b\b\b\b\b\b\b\b\b\b\b\b\b\b\b\b\b\b\b\b\b\b\b\b\b\b\b\b\b\b\b\b\b\b\b\b\b\b\b\b\b\b\b\b\b\b\b\b\b\b\b\b\b\b\b\r750/750 [==============================] - 2s 3ms/step - loss: 3299735808.0000 - mae: 49499.2109 - val_loss: 3353387264.0000 - val_mae: 49909.5977\n",
            "Epoch 25/100\n",
            "737/750 [============================>.] - ETA: 0s - loss: 3293181696.0000 - mae: 49425.3906"
          ]
        },
        {
          "output_type": "stream",
          "name": "stderr",
          "text": [
            "WARNING:tensorflow:Early stopping conditioned on metric `val_mean_squared_error` which is not available. Available metrics are: loss,mae,val_loss,val_mae\n"
          ]
        },
        {
          "output_type": "stream",
          "name": "stdout",
          "text": [
            "\b\b\b\b\b\b\b\b\b\b\b\b\b\b\b\b\b\b\b\b\b\b\b\b\b\b\b\b\b\b\b\b\b\b\b\b\b\b\b\b\b\b\b\b\b\b\b\b\b\b\b\b\b\b\b\b\b\b\b\b\b\b\b\b\b\b\b\b\b\b\b\b\b\b\b\b\b\b\b\b\b\b\b\b\b\b\b\b\b\b\b\b\r750/750 [==============================] - 2s 3ms/step - loss: 3298826496.0000 - mae: 49492.3125 - val_loss: 3337403904.0000 - val_mae: 49772.9297\n",
            "Epoch 26/100\n",
            "750/750 [==============================] - ETA: 0s - loss: 3290415360.0000 - mae: 49429.1211"
          ]
        },
        {
          "output_type": "stream",
          "name": "stderr",
          "text": [
            "WARNING:tensorflow:Early stopping conditioned on metric `val_mean_squared_error` which is not available. Available metrics are: loss,mae,val_loss,val_mae\n"
          ]
        },
        {
          "output_type": "stream",
          "name": "stdout",
          "text": [
            "\b\b\b\b\b\b\b\b\b\b\b\b\b\b\b\b\b\b\b\b\b\b\b\b\b\b\b\b\b\b\b\b\b\b\b\b\b\b\b\b\b\b\b\b\b\b\b\b\b\b\b\b\b\b\b\b\b\b\b\b\b\b\b\b\b\b\b\b\b\b\b\b\b\b\b\b\b\b\b\b\b\b\b\b\b\b\b\b\b\b\b\b\r750/750 [==============================] - 2s 3ms/step - loss: 3290415360.0000 - mae: 49429.1211 - val_loss: 3374657536.0000 - val_mae: 50026.0234\n",
            "Epoch 27/100\n",
            "744/750 [============================>.] - ETA: 0s - loss: 3293712896.0000 - mae: 49390.2305"
          ]
        },
        {
          "output_type": "stream",
          "name": "stderr",
          "text": [
            "WARNING:tensorflow:Early stopping conditioned on metric `val_mean_squared_error` which is not available. Available metrics are: loss,mae,val_loss,val_mae\n"
          ]
        },
        {
          "output_type": "stream",
          "name": "stdout",
          "text": [
            "\b\b\b\b\b\b\b\b\b\b\b\b\b\b\b\b\b\b\b\b\b\b\b\b\b\b\b\b\b\b\b\b\b\b\b\b\b\b\b\b\b\b\b\b\b\b\b\b\b\b\b\b\b\b\b\b\b\b\b\b\b\b\b\b\b\b\b\b\b\b\b\b\b\b\b\b\b\b\b\b\b\b\b\b\b\b\b\b\b\b\b\b\r750/750 [==============================] - 2s 3ms/step - loss: 3297916672.0000 - mae: 49446.3906 - val_loss: 3344672768.0000 - val_mae: 49752.2695\n",
            "Epoch 28/100\n",
            "729/750 [============================>.] - ETA: 0s - loss: 3307406080.0000 - mae: 49588.5156"
          ]
        },
        {
          "output_type": "stream",
          "name": "stderr",
          "text": [
            "WARNING:tensorflow:Early stopping conditioned on metric `val_mean_squared_error` which is not available. Available metrics are: loss,mae,val_loss,val_mae\n"
          ]
        },
        {
          "output_type": "stream",
          "name": "stdout",
          "text": [
            "\b\b\b\b\b\b\b\b\b\b\b\b\b\b\b\b\b\b\b\b\b\b\b\b\b\b\b\b\b\b\b\b\b\b\b\b\b\b\b\b\b\b\b\b\b\b\b\b\b\b\b\b\b\b\b\b\b\b\b\b\b\b\b\b\b\b\b\b\b\b\b\b\b\b\b\b\b\b\b\b\b\b\b\b\b\b\b\b\b\b\b\b\r750/750 [==============================] - 2s 3ms/step - loss: 3300595200.0000 - mae: 49515.3828 - val_loss: 3342624768.0000 - val_mae: 49802.8398\n",
            "Epoch 29/100\n",
            "742/750 [============================>.] - ETA: 0s - loss: 3290761216.0000 - mae: 49425.1484"
          ]
        },
        {
          "output_type": "stream",
          "name": "stderr",
          "text": [
            "WARNING:tensorflow:Early stopping conditioned on metric `val_mean_squared_error` which is not available. Available metrics are: loss,mae,val_loss,val_mae\n"
          ]
        },
        {
          "output_type": "stream",
          "name": "stdout",
          "text": [
            "\b\b\b\b\b\b\b\b\b\b\b\b\b\b\b\b\b\b\b\b\b\b\b\b\b\b\b\b\b\b\b\b\b\b\b\b\b\b\b\b\b\b\b\b\b\b\b\b\b\b\b\b\b\b\b\b\b\b\b\b\b\b\b\b\b\b\b\b\b\b\b\b\b\b\b\b\b\b\b\b\b\b\b\b\b\b\b\b\b\b\b\b\r750/750 [==============================] - 2s 3ms/step - loss: 3292981504.0000 - mae: 49452.1055 - val_loss: 3375526912.0000 - val_mae: 49991.2344\n",
            "Epoch 30/100\n",
            "730/750 [============================>.] - ETA: 0s - loss: 3298161408.0000 - mae: 49500.2617"
          ]
        },
        {
          "output_type": "stream",
          "name": "stderr",
          "text": [
            "WARNING:tensorflow:Early stopping conditioned on metric `val_mean_squared_error` which is not available. Available metrics are: loss,mae,val_loss,val_mae\n"
          ]
        },
        {
          "output_type": "stream",
          "name": "stdout",
          "text": [
            "\b\b\b\b\b\b\b\b\b\b\b\b\b\b\b\b\b\b\b\b\b\b\b\b\b\b\b\b\b\b\b\b\b\b\b\b\b\b\b\b\b\b\b\b\b\b\b\b\b\b\b\b\b\b\b\b\b\b\b\b\b\b\b\b\b\b\b\b\b\b\b\b\b\b\b\b\b\b\b\b\b\b\b\b\b\b\b\b\b\b\b\b\r750/750 [==============================] - 3s 3ms/step - loss: 3300763648.0000 - mae: 49521.5117 - val_loss: 3431539712.0000 - val_mae: 50281.2344\n",
            "Epoch 31/100\n",
            "740/750 [============================>.] - ETA: 0s - loss: 3289627136.0000 - mae: 49421.2695"
          ]
        },
        {
          "output_type": "stream",
          "name": "stderr",
          "text": [
            "WARNING:tensorflow:Early stopping conditioned on metric `val_mean_squared_error` which is not available. Available metrics are: loss,mae,val_loss,val_mae\n"
          ]
        },
        {
          "output_type": "stream",
          "name": "stdout",
          "text": [
            "\b\b\b\b\b\b\b\b\b\b\b\b\b\b\b\b\b\b\b\b\b\b\b\b\b\b\b\b\b\b\b\b\b\b\b\b\b\b\b\b\b\b\b\b\b\b\b\b\b\b\b\b\b\b\b\b\b\b\b\b\b\b\b\b\b\b\b\b\b\b\b\b\b\b\b\b\b\b\b\b\b\b\b\b\b\b\b\b\b\b\b\b\r750/750 [==============================] - 2s 3ms/step - loss: 3294382080.0000 - mae: 49463.3516 - val_loss: 3365421824.0000 - val_mae: 49920.8789\n",
            "Epoch 32/100\n",
            "748/750 [============================>.] - ETA: 0s - loss: 3297869056.0000 - mae: 49467.8047"
          ]
        },
        {
          "output_type": "stream",
          "name": "stderr",
          "text": [
            "WARNING:tensorflow:Early stopping conditioned on metric `val_mean_squared_error` which is not available. Available metrics are: loss,mae,val_loss,val_mae\n"
          ]
        },
        {
          "output_type": "stream",
          "name": "stdout",
          "text": [
            "\b\b\b\b\b\b\b\b\b\b\b\b\b\b\b\b\b\b\b\b\b\b\b\b\b\b\b\b\b\b\b\b\b\b\b\b\b\b\b\b\b\b\b\b\b\b\b\b\b\b\b\b\b\b\b\b\b\b\b\b\b\b\b\b\b\b\b\b\b\b\b\b\b\b\b\b\b\b\b\b\b\b\b\b\b\b\b\b\b\b\b\b\r750/750 [==============================] - 2s 3ms/step - loss: 3299036160.0000 - mae: 49464.8164 - val_loss: 3351617280.0000 - val_mae: 49869.3633\n",
            "Epoch 33/100\n",
            "741/750 [============================>.] - ETA: 0s - loss: 3287142912.0000 - mae: 49335.8281"
          ]
        },
        {
          "output_type": "stream",
          "name": "stderr",
          "text": [
            "WARNING:tensorflow:Early stopping conditioned on metric `val_mean_squared_error` which is not available. Available metrics are: loss,mae,val_loss,val_mae\n"
          ]
        },
        {
          "output_type": "stream",
          "name": "stdout",
          "text": [
            "\b\b\b\b\b\b\b\b\b\b\b\b\b\b\b\b\b\b\b\b\b\b\b\b\b\b\b\b\b\b\b\b\b\b\b\b\b\b\b\b\b\b\b\b\b\b\b\b\b\b\b\b\b\b\b\b\b\b\b\b\b\b\b\b\b\b\b\b\b\b\b\b\b\b\b\b\b\b\b\b\b\b\b\b\b\b\b\b\b\b\b\b\r750/750 [==============================] - 2s 3ms/step - loss: 3292065792.0000 - mae: 49390.9062 - val_loss: 3334469632.0000 - val_mae: 49756.9023\n",
            "Epoch 34/100\n",
            "734/750 [============================>.] - ETA: 0s - loss: 3297487360.0000 - mae: 49495.8594"
          ]
        },
        {
          "output_type": "stream",
          "name": "stderr",
          "text": [
            "WARNING:tensorflow:Early stopping conditioned on metric `val_mean_squared_error` which is not available. Available metrics are: loss,mae,val_loss,val_mae\n"
          ]
        },
        {
          "output_type": "stream",
          "name": "stdout",
          "text": [
            "\b\b\b\b\b\b\b\b\b\b\b\b\b\b\b\b\b\b\b\b\b\b\b\b\b\b\b\b\b\b\b\b\b\b\b\b\b\b\b\b\b\b\b\b\b\b\b\b\b\b\b\b\b\b\b\b\b\b\b\b\b\b\b\b\b\b\b\b\b\b\b\b\b\b\b\b\b\b\b\b\b\b\b\b\b\b\b\b\b\b\b\b\r750/750 [==============================] - 2s 3ms/step - loss: 3294088192.0000 - mae: 49436.9453 - val_loss: 3379749120.0000 - val_mae: 49972.8281\n",
            "Epoch 35/100\n",
            "735/750 [============================>.] - ETA: 0s - loss: 3294406656.0000 - mae: 49453.7695"
          ]
        },
        {
          "output_type": "stream",
          "name": "stderr",
          "text": [
            "WARNING:tensorflow:Early stopping conditioned on metric `val_mean_squared_error` which is not available. Available metrics are: loss,mae,val_loss,val_mae\n"
          ]
        },
        {
          "output_type": "stream",
          "name": "stdout",
          "text": [
            "\b\b\b\b\b\b\b\b\b\b\b\b\b\b\b\b\b\b\b\b\b\b\b\b\b\b\b\b\b\b\b\b\b\b\b\b\b\b\b\b\b\b\b\b\b\b\b\b\b\b\b\b\b\b\b\b\b\b\b\b\b\b\b\b\b\b\b\b\b\b\b\b\b\b\b\b\b\b\b\b\b\b\b\b\b\b\b\b\b\b\b\b\r750/750 [==============================] - 2s 3ms/step - loss: 3296759296.0000 - mae: 49479.0234 - val_loss: 3336594944.0000 - val_mae: 49771.3008\n",
            "Epoch 36/100\n",
            "745/750 [============================>.] - ETA: 0s - loss: 3296321792.0000 - mae: 49439.6680"
          ]
        },
        {
          "output_type": "stream",
          "name": "stderr",
          "text": [
            "WARNING:tensorflow:Early stopping conditioned on metric `val_mean_squared_error` which is not available. Available metrics are: loss,mae,val_loss,val_mae\n"
          ]
        },
        {
          "output_type": "stream",
          "name": "stdout",
          "text": [
            "\b\b\b\b\b\b\b\b\b\b\b\b\b\b\b\b\b\b\b\b\b\b\b\b\b\b\b\b\b\b\b\b\b\b\b\b\b\b\b\b\b\b\b\b\b\b\b\b\b\b\b\b\b\b\b\b\b\b\b\b\b\b\b\b\b\b\b\b\b\b\b\b\b\b\b\b\b\b\b\b\b\b\b\b\b\b\b\b\b\b\b\b\r750/750 [==============================] - 2s 3ms/step - loss: 3299795456.0000 - mae: 49483.7500 - val_loss: 3338973696.0000 - val_mae: 49783.4609\n",
            "Epoch 37/100\n",
            "729/750 [============================>.] - ETA: 0s - loss: 3288162304.0000 - mae: 49431.0156"
          ]
        },
        {
          "output_type": "stream",
          "name": "stderr",
          "text": [
            "WARNING:tensorflow:Early stopping conditioned on metric `val_mean_squared_error` which is not available. Available metrics are: loss,mae,val_loss,val_mae\n"
          ]
        },
        {
          "output_type": "stream",
          "name": "stdout",
          "text": [
            "\b\b\b\b\b\b\b\b\b\b\b\b\b\b\b\b\b\b\b\b\b\b\b\b\b\b\b\b\b\b\b\b\b\b\b\b\b\b\b\b\b\b\b\b\b\b\b\b\b\b\b\b\b\b\b\b\b\b\b\b\b\b\b\b\b\b\b\b\b\b\b\b\b\b\b\b\b\b\b\b\b\b\b\b\b\b\b\b\b\b\b\b\r750/750 [==============================] - 2s 3ms/step - loss: 3292576768.0000 - mae: 49458.4570 - val_loss: 3343659264.0000 - val_mae: 49792.9062\n",
            "Epoch 38/100\n",
            "744/750 [============================>.] - ETA: 0s - loss: 3287420160.0000 - mae: 49374.3359"
          ]
        },
        {
          "output_type": "stream",
          "name": "stderr",
          "text": [
            "WARNING:tensorflow:Early stopping conditioned on metric `val_mean_squared_error` which is not available. Available metrics are: loss,mae,val_loss,val_mae\n"
          ]
        },
        {
          "output_type": "stream",
          "name": "stdout",
          "text": [
            "\b\b\b\b\b\b\b\b\b\b\b\b\b\b\b\b\b\b\b\b\b\b\b\b\b\b\b\b\b\b\b\b\b\b\b\b\b\b\b\b\b\b\b\b\b\b\b\b\b\b\b\b\b\b\b\b\b\b\b\b\b\b\b\b\b\b\b\b\b\b\b\b\b\b\b\b\b\b\b\b\b\b\b\b\b\b\b\b\b\b\b\b\r750/750 [==============================] - 2s 3ms/step - loss: 3295630592.0000 - mae: 49458.4219 - val_loss: 3355644672.0000 - val_mae: 49862.0156\n",
            "Epoch 39/100\n",
            "748/750 [============================>.] - ETA: 0s - loss: 3293785856.0000 - mae: 49435.1602"
          ]
        },
        {
          "output_type": "stream",
          "name": "stderr",
          "text": [
            "WARNING:tensorflow:Early stopping conditioned on metric `val_mean_squared_error` which is not available. Available metrics are: loss,mae,val_loss,val_mae\n"
          ]
        },
        {
          "output_type": "stream",
          "name": "stdout",
          "text": [
            "\b\b\b\b\b\b\b\b\b\b\b\b\b\b\b\b\b\b\b\b\b\b\b\b\b\b\b\b\b\b\b\b\b\b\b\b\b\b\b\b\b\b\b\b\b\b\b\b\b\b\b\b\b\b\b\b\b\b\b\b\b\b\b\b\b\b\b\b\b\b\b\b\b\b\b\b\b\b\b\b\b\b\b\b\b\b\b\b\b\b\b\b\r750/750 [==============================] - 3s 4ms/step - loss: 3295560192.0000 - mae: 49442.3047 - val_loss: 3343615488.0000 - val_mae: 49820.4609\n",
            "Epoch 40/100\n",
            "740/750 [============================>.] - ETA: 0s - loss: 3297437952.0000 - mae: 49469.4102"
          ]
        },
        {
          "output_type": "stream",
          "name": "stderr",
          "text": [
            "WARNING:tensorflow:Early stopping conditioned on metric `val_mean_squared_error` which is not available. Available metrics are: loss,mae,val_loss,val_mae\n"
          ]
        },
        {
          "output_type": "stream",
          "name": "stdout",
          "text": [
            "\b\b\b\b\b\b\b\b\b\b\b\b\b\b\b\b\b\b\b\b\b\b\b\b\b\b\b\b\b\b\b\b\b\b\b\b\b\b\b\b\b\b\b\b\b\b\b\b\b\b\b\b\b\b\b\b\b\b\b\b\b\b\b\b\b\b\b\b\b\b\b\b\b\b\b\b\b\b\b\b\b\b\b\b\b\b\b\b\b\b\b\b\r750/750 [==============================] - 2s 3ms/step - loss: 3297010688.0000 - mae: 49464.2266 - val_loss: 3342101504.0000 - val_mae: 49820.2461\n",
            "Epoch 41/100\n",
            "742/750 [============================>.] - ETA: 0s - loss: 3285533440.0000 - mae: 49413.0742"
          ]
        },
        {
          "output_type": "stream",
          "name": "stderr",
          "text": [
            "WARNING:tensorflow:Early stopping conditioned on metric `val_mean_squared_error` which is not available. Available metrics are: loss,mae,val_loss,val_mae\n"
          ]
        },
        {
          "output_type": "stream",
          "name": "stdout",
          "text": [
            "\b\b\b\b\b\b\b\b\b\b\b\b\b\b\b\b\b\b\b\b\b\b\b\b\b\b\b\b\b\b\b\b\b\b\b\b\b\b\b\b\b\b\b\b\b\b\b\b\b\b\b\b\b\b\b\b\b\b\b\b\b\b\b\b\b\b\b\b\b\b\b\b\b\b\b\b\b\b\b\b\b\b\b\b\b\b\b\b\b\b\b\b\r750/750 [==============================] - 2s 3ms/step - loss: 3292205568.0000 - mae: 49466.0508 - val_loss: 3340077312.0000 - val_mae: 49803.6367\n",
            "Epoch 42/100\n",
            "734/750 [============================>.] - ETA: 0s - loss: 3297824768.0000 - mae: 49463.1680"
          ]
        },
        {
          "output_type": "stream",
          "name": "stderr",
          "text": [
            "WARNING:tensorflow:Early stopping conditioned on metric `val_mean_squared_error` which is not available. Available metrics are: loss,mae,val_loss,val_mae\n"
          ]
        },
        {
          "output_type": "stream",
          "name": "stdout",
          "text": [
            "\b\b\b\b\b\b\b\b\b\b\b\b\b\b\b\b\b\b\b\b\b\b\b\b\b\b\b\b\b\b\b\b\b\b\b\b\b\b\b\b\b\b\b\b\b\b\b\b\b\b\b\b\b\b\b\b\b\b\b\b\b\b\b\b\b\b\b\b\b\b\b\b\b\b\b\b\b\b\b\b\b\b\b\b\b\b\b\b\b\b\b\b\r750/750 [==============================] - 2s 3ms/step - loss: 3292147712.0000 - mae: 49417.3516 - val_loss: 3344676864.0000 - val_mae: 49844.7188\n",
            "Epoch 43/100\n",
            "745/750 [============================>.] - ETA: 0s - loss: 3294384384.0000 - mae: 49481.4453"
          ]
        },
        {
          "output_type": "stream",
          "name": "stderr",
          "text": [
            "WARNING:tensorflow:Early stopping conditioned on metric `val_mean_squared_error` which is not available. Available metrics are: loss,mae,val_loss,val_mae\n"
          ]
        },
        {
          "output_type": "stream",
          "name": "stdout",
          "text": [
            "\b\b\b\b\b\b\b\b\b\b\b\b\b\b\b\b\b\b\b\b\b\b\b\b\b\b\b\b\b\b\b\b\b\b\b\b\b\b\b\b\b\b\b\b\b\b\b\b\b\b\b\b\b\b\b\b\b\b\b\b\b\b\b\b\b\b\b\b\b\b\b\b\b\b\b\b\b\b\b\b\b\b\b\b\b\b\b\b\b\b\b\b\r750/750 [==============================] - 2s 3ms/step - loss: 3290064640.0000 - mae: 49434.5000 - val_loss: 3335587072.0000 - val_mae: 49794.4727\n",
            "Epoch 44/100\n",
            "750/750 [==============================] - ETA: 0s - loss: 3292589312.0000 - mae: 49420.5820"
          ]
        },
        {
          "output_type": "stream",
          "name": "stderr",
          "text": [
            "WARNING:tensorflow:Early stopping conditioned on metric `val_mean_squared_error` which is not available. Available metrics are: loss,mae,val_loss,val_mae\n"
          ]
        },
        {
          "output_type": "stream",
          "name": "stdout",
          "text": [
            "\b\b\b\b\b\b\b\b\b\b\b\b\b\b\b\b\b\b\b\b\b\b\b\b\b\b\b\b\b\b\b\b\b\b\b\b\b\b\b\b\b\b\b\b\b\b\b\b\b\b\b\b\b\b\b\b\b\b\b\b\b\b\b\b\b\b\b\b\b\b\b\b\b\b\b\b\b\b\b\b\b\b\b\b\b\b\b\b\b\b\b\b\r750/750 [==============================] - 2s 3ms/step - loss: 3292589312.0000 - mae: 49420.5820 - val_loss: 3340840704.0000 - val_mae: 49767.6562\n",
            "Epoch 45/100\n",
            "745/750 [============================>.] - ETA: 0s - loss: 3291180032.0000 - mae: 49440.9414"
          ]
        },
        {
          "output_type": "stream",
          "name": "stderr",
          "text": [
            "WARNING:tensorflow:Early stopping conditioned on metric `val_mean_squared_error` which is not available. Available metrics are: loss,mae,val_loss,val_mae\n"
          ]
        },
        {
          "output_type": "stream",
          "name": "stdout",
          "text": [
            "\b\b\b\b\b\b\b\b\b\b\b\b\b\b\b\b\b\b\b\b\b\b\b\b\b\b\b\b\b\b\b\b\b\b\b\b\b\b\b\b\b\b\b\b\b\b\b\b\b\b\b\b\b\b\b\b\b\b\b\b\b\b\b\b\b\b\b\b\b\b\b\b\b\b\b\b\b\b\b\b\b\b\b\b\b\b\b\b\b\b\b\b\r750/750 [==============================] - 2s 3ms/step - loss: 3293979904.0000 - mae: 49469.0508 - val_loss: 3372827136.0000 - val_mae: 49921.8320\n",
            "Epoch 46/100\n",
            "747/750 [============================>.] - ETA: 0s - loss: 3284552192.0000 - mae: 49374.2188"
          ]
        },
        {
          "output_type": "stream",
          "name": "stderr",
          "text": [
            "WARNING:tensorflow:Early stopping conditioned on metric `val_mean_squared_error` which is not available. Available metrics are: loss,mae,val_loss,val_mae\n"
          ]
        },
        {
          "output_type": "stream",
          "name": "stdout",
          "text": [
            "\b\b\b\b\b\b\b\b\b\b\b\b\b\b\b\b\b\b\b\b\b\b\b\b\b\b\b\b\b\b\b\b\b\b\b\b\b\b\b\b\b\b\b\b\b\b\b\b\b\b\b\b\b\b\b\b\b\b\b\b\b\b\b\b\b\b\b\b\b\b\b\b\b\b\b\b\b\b\b\b\b\b\b\b\b\b\b\b\b\b\b\b\r750/750 [==============================] - 2s 3ms/step - loss: 3287059456.0000 - mae: 49399.1836 - val_loss: 3361536768.0000 - val_mae: 49925.9258\n",
            "Epoch 47/100\n",
            "750/750 [==============================] - ETA: 0s - loss: 3289403136.0000 - mae: 49404.5273"
          ]
        },
        {
          "output_type": "stream",
          "name": "stderr",
          "text": [
            "WARNING:tensorflow:Early stopping conditioned on metric `val_mean_squared_error` which is not available. Available metrics are: loss,mae,val_loss,val_mae\n"
          ]
        },
        {
          "output_type": "stream",
          "name": "stdout",
          "text": [
            "\b\b\b\b\b\b\b\b\b\b\b\b\b\b\b\b\b\b\b\b\b\b\b\b\b\b\b\b\b\b\b\b\b\b\b\b\b\b\b\b\b\b\b\b\b\b\b\b\b\b\b\b\b\b\b\b\b\b\b\b\b\b\b\b\b\b\b\b\b\b\b\b\b\b\b\b\b\b\b\b\b\b\b\b\b\b\b\b\b\b\b\b\r750/750 [==============================] - 2s 3ms/step - loss: 3289403136.0000 - mae: 49404.5273 - val_loss: 3354283008.0000 - val_mae: 49890.0234\n",
            "Epoch 48/100\n",
            "730/750 [============================>.] - ETA: 0s - loss: 3286544896.0000 - mae: 49390.3555"
          ]
        },
        {
          "output_type": "stream",
          "name": "stderr",
          "text": [
            "WARNING:tensorflow:Early stopping conditioned on metric `val_mean_squared_error` which is not available. Available metrics are: loss,mae,val_loss,val_mae\n"
          ]
        },
        {
          "output_type": "stream",
          "name": "stdout",
          "text": [
            "\b\b\b\b\b\b\b\b\b\b\b\b\b\b\b\b\b\b\b\b\b\b\b\b\b\b\b\b\b\b\b\b\b\b\b\b\b\b\b\b\b\b\b\b\b\b\b\b\b\b\b\b\b\b\b\b\b\b\b\b\b\b\b\b\b\b\b\b\b\b\b\b\b\b\b\b\b\b\b\b\b\b\b\b\b\b\b\b\b\b\b\b\r750/750 [==============================] - 2s 3ms/step - loss: 3289337600.0000 - mae: 49415.6328 - val_loss: 3344915712.0000 - val_mae: 49855.7070\n",
            "Epoch 49/100\n",
            "750/750 [==============================] - ETA: 0s - loss: 3289745664.0000 - mae: 49488.0508"
          ]
        },
        {
          "output_type": "stream",
          "name": "stderr",
          "text": [
            "WARNING:tensorflow:Early stopping conditioned on metric `val_mean_squared_error` which is not available. Available metrics are: loss,mae,val_loss,val_mae\n"
          ]
        },
        {
          "output_type": "stream",
          "name": "stdout",
          "text": [
            "\b\b\b\b\b\b\b\b\b\b\b\b\b\b\b\b\b\b\b\b\b\b\b\b\b\b\b\b\b\b\b\b\b\b\b\b\b\b\b\b\b\b\b\b\b\b\b\b\b\b\b\b\b\b\b\b\b\b\b\b\b\b\b\b\b\b\b\b\b\b\b\b\b\b\b\b\b\b\b\b\b\b\b\b\b\b\b\b\b\b\b\b\r750/750 [==============================] - 2s 3ms/step - loss: 3289745664.0000 - mae: 49488.0508 - val_loss: 3343685376.0000 - val_mae: 49853.4883\n",
            "Epoch 50/100\n",
            "745/750 [============================>.] - ETA: 0s - loss: 3288357888.0000 - mae: 49421.8828"
          ]
        },
        {
          "output_type": "stream",
          "name": "stderr",
          "text": [
            "WARNING:tensorflow:Early stopping conditioned on metric `val_mean_squared_error` which is not available. Available metrics are: loss,mae,val_loss,val_mae\n"
          ]
        },
        {
          "output_type": "stream",
          "name": "stdout",
          "text": [
            "\b\b\b\b\b\b\b\b\b\b\b\b\b\b\b\b\b\b\b\b\b\b\b\b\b\b\b\b\b\b\b\b\b\b\b\b\b\b\b\b\b\b\b\b\b\b\b\b\b\b\b\b\b\b\b\b\b\b\b\b\b\b\b\b\b\b\b\b\b\b\b\b\b\b\b\b\b\b\b\b\b\b\b\b\b\b\b\b\b\b\b\b\r750/750 [==============================] - 2s 3ms/step - loss: 3290895104.0000 - mae: 49446.6328 - val_loss: 3359494400.0000 - val_mae: 49909.5820\n",
            "Epoch 51/100\n",
            "741/750 [============================>.] - ETA: 0s - loss: 3276888832.0000 - mae: 49322.4727"
          ]
        },
        {
          "output_type": "stream",
          "name": "stderr",
          "text": [
            "WARNING:tensorflow:Early stopping conditioned on metric `val_mean_squared_error` which is not available. Available metrics are: loss,mae,val_loss,val_mae\n"
          ]
        },
        {
          "output_type": "stream",
          "name": "stdout",
          "text": [
            "\b\b\b\b\b\b\b\b\b\b\b\b\b\b\b\b\b\b\b\b\b\b\b\b\b\b\b\b\b\b\b\b\b\b\b\b\b\b\b\b\b\b\b\b\b\b\b\b\b\b\b\b\b\b\b\b\b\b\b\b\b\b\b\b\b\b\b\b\b\b\b\b\b\b\b\b\b\b\b\b\b\b\b\b\b\b\b\b\b\b\b\b\r750/750 [==============================] - 2s 3ms/step - loss: 3287799040.0000 - mae: 49415.9414 - val_loss: 3341846784.0000 - val_mae: 49770.9492\n",
            "Epoch 52/100\n",
            "749/750 [============================>.] - ETA: 0s - loss: 3286598912.0000 - mae: 49404.4141"
          ]
        },
        {
          "output_type": "stream",
          "name": "stderr",
          "text": [
            "WARNING:tensorflow:Early stopping conditioned on metric `val_mean_squared_error` which is not available. Available metrics are: loss,mae,val_loss,val_mae\n"
          ]
        },
        {
          "output_type": "stream",
          "name": "stdout",
          "text": [
            "\b\b\b\b\b\b\b\b\b\b\b\b\b\b\b\b\b\b\b\b\b\b\b\b\b\b\b\b\b\b\b\b\b\b\b\b\b\b\b\b\b\b\b\b\b\b\b\b\b\b\b\b\b\b\b\b\b\b\b\b\b\b\b\b\b\b\b\b\b\b\b\b\b\b\b\b\b\b\b\b\b\b\b\b\b\b\b\b\b\b\b\b\r750/750 [==============================] - 2s 3ms/step - loss: 3286135040.0000 - mae: 49396.9648 - val_loss: 3360393472.0000 - val_mae: 49868.4023\n",
            "Epoch 53/100\n",
            "739/750 [============================>.] - ETA: 0s - loss: 3290078976.0000 - mae: 49404.2422"
          ]
        },
        {
          "output_type": "stream",
          "name": "stderr",
          "text": [
            "WARNING:tensorflow:Early stopping conditioned on metric `val_mean_squared_error` which is not available. Available metrics are: loss,mae,val_loss,val_mae\n"
          ]
        },
        {
          "output_type": "stream",
          "name": "stdout",
          "text": [
            "\b\b\b\b\b\b\b\b\b\b\b\b\b\b\b\b\b\b\b\b\b\b\b\b\b\b\b\b\b\b\b\b\b\b\b\b\b\b\b\b\b\b\b\b\b\b\b\b\b\b\b\b\b\b\b\b\b\b\b\b\b\b\b\b\b\b\b\b\b\b\b\b\b\b\b\b\b\b\b\b\b\b\b\b\b\b\b\b\b\b\b\b\r750/750 [==============================] - 2s 3ms/step - loss: 3291954176.0000 - mae: 49413.2227 - val_loss: 3355899904.0000 - val_mae: 49918.7070\n",
            "Epoch 54/100\n",
            "733/750 [============================>.] - ETA: 0s - loss: 3284585472.0000 - mae: 49378.0781"
          ]
        },
        {
          "output_type": "stream",
          "name": "stderr",
          "text": [
            "WARNING:tensorflow:Early stopping conditioned on metric `val_mean_squared_error` which is not available. Available metrics are: loss,mae,val_loss,val_mae\n"
          ]
        },
        {
          "output_type": "stream",
          "name": "stdout",
          "text": [
            "\b\b\b\b\b\b\b\b\b\b\b\b\b\b\b\b\b\b\b\b\b\b\b\b\b\b\b\b\b\b\b\b\b\b\b\b\b\b\b\b\b\b\b\b\b\b\b\b\b\b\b\b\b\b\b\b\b\b\b\b\b\b\b\b\b\b\b\b\b\b\b\b\b\b\b\b\b\b\b\b\b\b\b\b\b\b\b\b\b\b\b\b\r750/750 [==============================] - 2s 3ms/step - loss: 3291649280.0000 - mae: 49438.3906 - val_loss: 3338545408.0000 - val_mae: 49775.4570\n",
            "Epoch 55/100\n",
            "746/750 [============================>.] - ETA: 0s - loss: 3289522432.0000 - mae: 49445.0586"
          ]
        },
        {
          "output_type": "stream",
          "name": "stderr",
          "text": [
            "WARNING:tensorflow:Early stopping conditioned on metric `val_mean_squared_error` which is not available. Available metrics are: loss,mae,val_loss,val_mae\n"
          ]
        },
        {
          "output_type": "stream",
          "name": "stdout",
          "text": [
            "\b\b\b\b\b\b\b\b\b\b\b\b\b\b\b\b\b\b\b\b\b\b\b\b\b\b\b\b\b\b\b\b\b\b\b\b\b\b\b\b\b\b\b\b\b\b\b\b\b\b\b\b\b\b\b\b\b\b\b\b\b\b\b\b\b\b\b\b\b\b\b\b\b\b\b\b\b\b\b\b\b\b\b\b\b\b\b\b\b\b\b\b\r750/750 [==============================] - 2s 3ms/step - loss: 3287727872.0000 - mae: 49434.1758 - val_loss: 3382970112.0000 - val_mae: 49946.0625\n",
            "Epoch 56/100\n",
            "743/750 [============================>.] - ETA: 0s - loss: 3287578368.0000 - mae: 49413.8750"
          ]
        },
        {
          "output_type": "stream",
          "name": "stderr",
          "text": [
            "WARNING:tensorflow:Early stopping conditioned on metric `val_mean_squared_error` which is not available. Available metrics are: loss,mae,val_loss,val_mae\n"
          ]
        },
        {
          "output_type": "stream",
          "name": "stdout",
          "text": [
            "\b\b\b\b\b\b\b\b\b\b\b\b\b\b\b\b\b\b\b\b\b\b\b\b\b\b\b\b\b\b\b\b\b\b\b\b\b\b\b\b\b\b\b\b\b\b\b\b\b\b\b\b\b\b\b\b\b\b\b\b\b\b\b\b\b\b\b\b\b\b\b\b\b\b\b\b\b\b\b\b\b\b\b\b\b\b\b\b\b\b\b\b\r750/750 [==============================] - 2s 3ms/step - loss: 3288581632.0000 - mae: 49424.1914 - val_loss: 3344633856.0000 - val_mae: 49843.1133\n",
            "Epoch 57/100\n",
            "748/750 [============================>.] - ETA: 0s - loss: 3283992320.0000 - mae: 49375.0469"
          ]
        },
        {
          "output_type": "stream",
          "name": "stderr",
          "text": [
            "WARNING:tensorflow:Early stopping conditioned on metric `val_mean_squared_error` which is not available. Available metrics are: loss,mae,val_loss,val_mae\n"
          ]
        },
        {
          "output_type": "stream",
          "name": "stdout",
          "text": [
            "\b\b\b\b\b\b\b\b\b\b\b\b\b\b\b\b\b\b\b\b\b\b\b\b\b\b\b\b\b\b\b\b\b\b\b\b\b\b\b\b\b\b\b\b\b\b\b\b\b\b\b\b\b\b\b\b\b\b\b\b\b\b\b\b\b\b\b\b\b\b\b\b\b\b\b\b\b\b\b\b\b\b\b\b\b\b\b\b\b\b\b\b\r750/750 [==============================] - 2s 3ms/step - loss: 3285731840.0000 - mae: 49391.0078 - val_loss: 3338647040.0000 - val_mae: 49760.1523\n",
            "Epoch 58/100\n",
            "750/750 [==============================] - ETA: 0s - loss: 3284730368.0000 - mae: 49404.7930"
          ]
        },
        {
          "output_type": "stream",
          "name": "stderr",
          "text": [
            "WARNING:tensorflow:Early stopping conditioned on metric `val_mean_squared_error` which is not available. Available metrics are: loss,mae,val_loss,val_mae\n"
          ]
        },
        {
          "output_type": "stream",
          "name": "stdout",
          "text": [
            "\b\b\b\b\b\b\b\b\b\b\b\b\b\b\b\b\b\b\b\b\b\b\b\b\b\b\b\b\b\b\b\b\b\b\b\b\b\b\b\b\b\b\b\b\b\b\b\b\b\b\b\b\b\b\b\b\b\b\b\b\b\b\b\b\b\b\b\b\b\b\b\b\b\b\b\b\b\b\b\b\b\b\b\b\b\b\b\b\b\b\b\b\r750/750 [==============================] - 2s 3ms/step - loss: 3284730368.0000 - mae: 49404.7930 - val_loss: 3347565312.0000 - val_mae: 49836.1523\n",
            "Epoch 59/100\n",
            "749/750 [============================>.] - ETA: 0s - loss: 3286780160.0000 - mae: 49411.4766"
          ]
        },
        {
          "output_type": "stream",
          "name": "stderr",
          "text": [
            "WARNING:tensorflow:Early stopping conditioned on metric `val_mean_squared_error` which is not available. Available metrics are: loss,mae,val_loss,val_mae\n"
          ]
        },
        {
          "output_type": "stream",
          "name": "stdout",
          "text": [
            "\b\b\b\b\b\b\b\b\b\b\b\b\b\b\b\b\b\b\b\b\b\b\b\b\b\b\b\b\b\b\b\b\b\b\b\b\b\b\b\b\b\b\b\b\b\b\b\b\b\b\b\b\b\b\b\b\b\b\b\b\b\b\b\b\b\b\b\b\b\b\b\b\b\b\b\b\b\b\b\b\b\b\b\b\b\b\b\b\b\b\b\b\r750/750 [==============================] - 2s 3ms/step - loss: 3286826240.0000 - mae: 49416.3984 - val_loss: 3345801728.0000 - val_mae: 49863.2148\n",
            "Epoch 60/100\n",
            "746/750 [============================>.] - ETA: 0s - loss: 3286959360.0000 - mae: 49378.4297"
          ]
        },
        {
          "output_type": "stream",
          "name": "stderr",
          "text": [
            "WARNING:tensorflow:Early stopping conditioned on metric `val_mean_squared_error` which is not available. Available metrics are: loss,mae,val_loss,val_mae\n"
          ]
        },
        {
          "output_type": "stream",
          "name": "stdout",
          "text": [
            "\b\b\b\b\b\b\b\b\b\b\b\b\b\b\b\b\b\b\b\b\b\b\b\b\b\b\b\b\b\b\b\b\b\b\b\b\b\b\b\b\b\b\b\b\b\b\b\b\b\b\b\b\b\b\b\b\b\b\b\b\b\b\b\b\b\b\b\b\b\b\b\b\b\b\b\b\b\b\b\b\b\b\b\b\b\b\b\b\b\b\b\b\r750/750 [==============================] - 3s 3ms/step - loss: 3287366912.0000 - mae: 49383.9102 - val_loss: 3349453824.0000 - val_mae: 49808.9805\n",
            "Epoch 61/100\n",
            "735/750 [============================>.] - ETA: 0s - loss: 3280401408.0000 - mae: 49357.9336"
          ]
        },
        {
          "output_type": "stream",
          "name": "stderr",
          "text": [
            "WARNING:tensorflow:Early stopping conditioned on metric `val_mean_squared_error` which is not available. Available metrics are: loss,mae,val_loss,val_mae\n"
          ]
        },
        {
          "output_type": "stream",
          "name": "stdout",
          "text": [
            "\b\b\b\b\b\b\b\b\b\b\b\b\b\b\b\b\b\b\b\b\b\b\b\b\b\b\b\b\b\b\b\b\b\b\b\b\b\b\b\b\b\b\b\b\b\b\b\b\b\b\b\b\b\b\b\b\b\b\b\b\b\b\b\b\b\b\b\b\b\b\b\b\b\b\b\b\b\b\b\b\b\b\b\b\b\b\b\b\b\b\b\b\r750/750 [==============================] - 2s 3ms/step - loss: 3282911744.0000 - mae: 49361.0508 - val_loss: 3341899264.0000 - val_mae: 49800.0625\n",
            "Epoch 62/100\n",
            "729/750 [============================>.] - ETA: 0s - loss: 3289129472.0000 - mae: 49451.8281"
          ]
        },
        {
          "output_type": "stream",
          "name": "stderr",
          "text": [
            "WARNING:tensorflow:Early stopping conditioned on metric `val_mean_squared_error` which is not available. Available metrics are: loss,mae,val_loss,val_mae\n"
          ]
        },
        {
          "output_type": "stream",
          "name": "stdout",
          "text": [
            "\b\b\b\b\b\b\b\b\b\b\b\b\b\b\b\b\b\b\b\b\b\b\b\b\b\b\b\b\b\b\b\b\b\b\b\b\b\b\b\b\b\b\b\b\b\b\b\b\b\b\b\b\b\b\b\b\b\b\b\b\b\b\b\b\b\b\b\b\b\b\b\b\b\b\b\b\b\b\b\b\b\b\b\b\b\b\b\b\b\b\b\b\r750/750 [==============================] - 2s 3ms/step - loss: 3287318272.0000 - mae: 49396.8281 - val_loss: 3348978944.0000 - val_mae: 49793.2656\n",
            "Epoch 63/100\n",
            "731/750 [============================>.] - ETA: 0s - loss: 3285057280.0000 - mae: 49420.9844"
          ]
        },
        {
          "output_type": "stream",
          "name": "stderr",
          "text": [
            "WARNING:tensorflow:Early stopping conditioned on metric `val_mean_squared_error` which is not available. Available metrics are: loss,mae,val_loss,val_mae\n"
          ]
        },
        {
          "output_type": "stream",
          "name": "stdout",
          "text": [
            "\b\b\b\b\b\b\b\b\b\b\b\b\b\b\b\b\b\b\b\b\b\b\b\b\b\b\b\b\b\b\b\b\b\b\b\b\b\b\b\b\b\b\b\b\b\b\b\b\b\b\b\b\b\b\b\b\b\b\b\b\b\b\b\b\b\b\b\b\b\b\b\b\b\b\b\b\b\b\b\b\b\b\b\b\b\b\b\b\b\b\b\b\r750/750 [==============================] - 2s 3ms/step - loss: 3283962112.0000 - mae: 49393.8789 - val_loss: 3351917056.0000 - val_mae: 49882.9414\n",
            "Epoch 64/100\n",
            "728/750 [============================>.] - ETA: 0s - loss: 3295277568.0000 - mae: 49503.8945"
          ]
        },
        {
          "output_type": "stream",
          "name": "stderr",
          "text": [
            "WARNING:tensorflow:Early stopping conditioned on metric `val_mean_squared_error` which is not available. Available metrics are: loss,mae,val_loss,val_mae\n"
          ]
        },
        {
          "output_type": "stream",
          "name": "stdout",
          "text": [
            "\b\b\b\b\b\b\b\b\b\b\b\b\b\b\b\b\b\b\b\b\b\b\b\b\b\b\b\b\b\b\b\b\b\b\b\b\b\b\b\b\b\b\b\b\b\b\b\b\b\b\b\b\b\b\b\b\b\b\b\b\b\b\b\b\b\b\b\b\b\b\b\b\b\b\b\b\b\b\b\b\b\b\b\b\b\b\b\b\b\b\b\b\r750/750 [==============================] - 2s 3ms/step - loss: 3286757632.0000 - mae: 49413.5352 - val_loss: 3347663104.0000 - val_mae: 49811.5391\n",
            "Epoch 65/100\n",
            "734/750 [============================>.] - ETA: 0s - loss: 3284955648.0000 - mae: 49397.8477"
          ]
        },
        {
          "output_type": "stream",
          "name": "stderr",
          "text": [
            "WARNING:tensorflow:Early stopping conditioned on metric `val_mean_squared_error` which is not available. Available metrics are: loss,mae,val_loss,val_mae\n"
          ]
        },
        {
          "output_type": "stream",
          "name": "stdout",
          "text": [
            "\b\b\b\b\b\b\b\b\b\b\b\b\b\b\b\b\b\b\b\b\b\b\b\b\b\b\b\b\b\b\b\b\b\b\b\b\b\b\b\b\b\b\b\b\b\b\b\b\b\b\b\b\b\b\b\b\b\b\b\b\b\b\b\b\b\b\b\b\b\b\b\b\b\b\b\b\b\b\b\b\b\b\b\b\b\b\b\b\b\b\b\b\r750/750 [==============================] - 2s 3ms/step - loss: 3282603008.0000 - mae: 49367.3164 - val_loss: 3346201344.0000 - val_mae: 49830.5820\n",
            "Epoch 66/100\n",
            "743/750 [============================>.] - ETA: 0s - loss: 3283289856.0000 - mae: 49416.4648"
          ]
        },
        {
          "output_type": "stream",
          "name": "stderr",
          "text": [
            "WARNING:tensorflow:Early stopping conditioned on metric `val_mean_squared_error` which is not available. Available metrics are: loss,mae,val_loss,val_mae\n"
          ]
        },
        {
          "output_type": "stream",
          "name": "stdout",
          "text": [
            "\b\b\b\b\b\b\b\b\b\b\b\b\b\b\b\b\b\b\b\b\b\b\b\b\b\b\b\b\b\b\b\b\b\b\b\b\b\b\b\b\b\b\b\b\b\b\b\b\b\b\b\b\b\b\b\b\b\b\b\b\b\b\b\b\b\b\b\b\b\b\b\b\b\b\b\b\b\b\b\b\b\b\b\b\b\b\b\b\b\b\b\b\r750/750 [==============================] - 2s 3ms/step - loss: 3283155968.0000 - mae: 49408.0547 - val_loss: 3339476224.0000 - val_mae: 49784.3008\n",
            "Epoch 67/100\n",
            "741/750 [============================>.] - ETA: 0s - loss: 3285913600.0000 - mae: 49361.7695"
          ]
        },
        {
          "output_type": "stream",
          "name": "stderr",
          "text": [
            "WARNING:tensorflow:Early stopping conditioned on metric `val_mean_squared_error` which is not available. Available metrics are: loss,mae,val_loss,val_mae\n"
          ]
        },
        {
          "output_type": "stream",
          "name": "stdout",
          "text": [
            "\b\b\b\b\b\b\b\b\b\b\b\b\b\b\b\b\b\b\b\b\b\b\b\b\b\b\b\b\b\b\b\b\b\b\b\b\b\b\b\b\b\b\b\b\b\b\b\b\b\b\b\b\b\b\b\b\b\b\b\b\b\b\b\b\b\b\b\b\b\b\b\b\b\b\b\b\b\b\b\b\b\b\b\b\b\b\b\b\b\b\b\b\r750/750 [==============================] - 2s 3ms/step - loss: 3286538240.0000 - mae: 49378.5977 - val_loss: 3350844160.0000 - val_mae: 49865.4453\n",
            "Epoch 68/100\n",
            "750/750 [==============================] - ETA: 0s - loss: 3278024192.0000 - mae: 49386.5781"
          ]
        },
        {
          "output_type": "stream",
          "name": "stderr",
          "text": [
            "WARNING:tensorflow:Early stopping conditioned on metric `val_mean_squared_error` which is not available. Available metrics are: loss,mae,val_loss,val_mae\n"
          ]
        },
        {
          "output_type": "stream",
          "name": "stdout",
          "text": [
            "\b\b\b\b\b\b\b\b\b\b\b\b\b\b\b\b\b\b\b\b\b\b\b\b\b\b\b\b\b\b\b\b\b\b\b\b\b\b\b\b\b\b\b\b\b\b\b\b\b\b\b\b\b\b\b\b\b\b\b\b\b\b\b\b\b\b\b\b\b\b\b\b\b\b\b\b\b\b\b\b\b\b\b\b\b\b\b\b\b\b\b\b\r750/750 [==============================] - 2s 3ms/step - loss: 3278024192.0000 - mae: 49386.5781 - val_loss: 3361562368.0000 - val_mae: 49894.5938\n",
            "Epoch 69/100\n",
            "744/750 [============================>.] - ETA: 0s - loss: 3286821120.0000 - mae: 49430.2461"
          ]
        },
        {
          "output_type": "stream",
          "name": "stderr",
          "text": [
            "WARNING:tensorflow:Early stopping conditioned on metric `val_mean_squared_error` which is not available. Available metrics are: loss,mae,val_loss,val_mae\n"
          ]
        },
        {
          "output_type": "stream",
          "name": "stdout",
          "text": [
            "\b\b\b\b\b\b\b\b\b\b\b\b\b\b\b\b\b\b\b\b\b\b\b\b\b\b\b\b\b\b\b\b\b\b\b\b\b\b\b\b\b\b\b\b\b\b\b\b\b\b\b\b\b\b\b\b\b\b\b\b\b\b\b\b\b\b\b\b\b\b\b\b\b\b\b\b\b\b\b\b\b\b\b\b\b\b\b\b\b\b\b\b\r750/750 [==============================] - 2s 3ms/step - loss: 3285427968.0000 - mae: 49414.1250 - val_loss: 3357681664.0000 - val_mae: 49913.4961\n",
            "Epoch 70/100\n",
            "747/750 [============================>.] - ETA: 0s - loss: 3284996352.0000 - mae: 49366.2773"
          ]
        },
        {
          "output_type": "stream",
          "name": "stderr",
          "text": [
            "WARNING:tensorflow:Early stopping conditioned on metric `val_mean_squared_error` which is not available. Available metrics are: loss,mae,val_loss,val_mae\n"
          ]
        },
        {
          "output_type": "stream",
          "name": "stdout",
          "text": [
            "\b\b\b\b\b\b\b\b\b\b\b\b\b\b\b\b\b\b\b\b\b\b\b\b\b\b\b\b\b\b\b\b\b\b\b\b\b\b\b\b\b\b\b\b\b\b\b\b\b\b\b\b\b\b\b\b\b\b\b\b\b\b\b\b\b\b\b\b\b\b\b\b\b\b\b\b\b\b\b\b\b\b\b\b\b\b\b\b\b\b\b\b\r750/750 [==============================] - 2s 3ms/step - loss: 3283671296.0000 - mae: 49354.7695 - val_loss: 3327461888.0000 - val_mae: 49716.1133\n",
            "Epoch 71/100\n",
            "730/750 [============================>.] - ETA: 0s - loss: 3295674624.0000 - mae: 49480.7227"
          ]
        },
        {
          "output_type": "stream",
          "name": "stderr",
          "text": [
            "WARNING:tensorflow:Early stopping conditioned on metric `val_mean_squared_error` which is not available. Available metrics are: loss,mae,val_loss,val_mae\n"
          ]
        },
        {
          "output_type": "stream",
          "name": "stdout",
          "text": [
            "\b\b\b\b\b\b\b\b\b\b\b\b\b\b\b\b\b\b\b\b\b\b\b\b\b\b\b\b\b\b\b\b\b\b\b\b\b\b\b\b\b\b\b\b\b\b\b\b\b\b\b\b\b\b\b\b\b\b\b\b\b\b\b\b\b\b\b\b\b\b\b\b\b\b\b\b\b\b\b\b\b\b\b\b\b\b\b\b\b\b\b\b\r750/750 [==============================] - 2s 3ms/step - loss: 3287809280.0000 - mae: 49414.4414 - val_loss: 3338366720.0000 - val_mae: 49766.1875\n",
            "Epoch 72/100\n",
            "737/750 [============================>.] - ETA: 0s - loss: 3282918912.0000 - mae: 49369.1836"
          ]
        },
        {
          "output_type": "stream",
          "name": "stderr",
          "text": [
            "WARNING:tensorflow:Early stopping conditioned on metric `val_mean_squared_error` which is not available. Available metrics are: loss,mae,val_loss,val_mae\n"
          ]
        },
        {
          "output_type": "stream",
          "name": "stdout",
          "text": [
            "\b\b\b\b\b\b\b\b\b\b\b\b\b\b\b\b\b\b\b\b\b\b\b\b\b\b\b\b\b\b\b\b\b\b\b\b\b\b\b\b\b\b\b\b\b\b\b\b\b\b\b\b\b\b\b\b\b\b\b\b\b\b\b\b\b\b\b\b\b\b\b\b\b\b\b\b\b\b\b\b\b\b\b\b\b\b\b\b\b\b\b\b\r750/750 [==============================] - 2s 3ms/step - loss: 3280361728.0000 - mae: 49351.6758 - val_loss: 3337383168.0000 - val_mae: 49793.5898\n",
            "Epoch 73/100\n",
            "733/750 [============================>.] - ETA: 0s - loss: 3268845824.0000 - mae: 49229.1055"
          ]
        },
        {
          "output_type": "stream",
          "name": "stderr",
          "text": [
            "WARNING:tensorflow:Early stopping conditioned on metric `val_mean_squared_error` which is not available. Available metrics are: loss,mae,val_loss,val_mae\n"
          ]
        },
        {
          "output_type": "stream",
          "name": "stdout",
          "text": [
            "\b\b\b\b\b\b\b\b\b\b\b\b\b\b\b\b\b\b\b\b\b\b\b\b\b\b\b\b\b\b\b\b\b\b\b\b\b\b\b\b\b\b\b\b\b\b\b\b\b\b\b\b\b\b\b\b\b\b\b\b\b\b\b\b\b\b\b\b\b\b\b\b\b\b\b\b\b\b\b\b\b\b\b\b\b\b\b\b\b\b\b\b\r750/750 [==============================] - 2s 3ms/step - loss: 3283128064.0000 - mae: 49376.4023 - val_loss: 3344127488.0000 - val_mae: 49806.1875\n",
            "Epoch 74/100\n",
            "727/750 [============================>.] - ETA: 0s - loss: 3287133184.0000 - mae: 49397.3828"
          ]
        },
        {
          "output_type": "stream",
          "name": "stderr",
          "text": [
            "WARNING:tensorflow:Early stopping conditioned on metric `val_mean_squared_error` which is not available. Available metrics are: loss,mae,val_loss,val_mae\n"
          ]
        },
        {
          "output_type": "stream",
          "name": "stdout",
          "text": [
            "\b\b\b\b\b\b\b\b\b\b\b\b\b\b\b\b\b\b\b\b\b\b\b\b\b\b\b\b\b\b\b\b\b\b\b\b\b\b\b\b\b\b\b\b\b\b\b\b\b\b\b\b\b\b\b\b\b\b\b\b\b\b\b\b\b\b\b\b\b\b\b\b\b\b\b\b\b\b\b\b\b\b\b\b\b\b\b\b\b\b\b\b\r750/750 [==============================] - 2s 3ms/step - loss: 3287905024.0000 - mae: 49411.0859 - val_loss: 3336571392.0000 - val_mae: 49785.1250\n",
            "Epoch 75/100\n",
            "736/750 [============================>.] - ETA: 0s - loss: 3282232576.0000 - mae: 49369.2305"
          ]
        },
        {
          "output_type": "stream",
          "name": "stderr",
          "text": [
            "WARNING:tensorflow:Early stopping conditioned on metric `val_mean_squared_error` which is not available. Available metrics are: loss,mae,val_loss,val_mae\n"
          ]
        },
        {
          "output_type": "stream",
          "name": "stdout",
          "text": [
            "\b\b\b\b\b\b\b\b\b\b\b\b\b\b\b\b\b\b\b\b\b\b\b\b\b\b\b\b\b\b\b\b\b\b\b\b\b\b\b\b\b\b\b\b\b\b\b\b\b\b\b\b\b\b\b\b\b\b\b\b\b\b\b\b\b\b\b\b\b\b\b\b\b\b\b\b\b\b\b\b\b\b\b\b\b\b\b\b\b\b\b\b\r750/750 [==============================] - 2s 3ms/step - loss: 3283199488.0000 - mae: 49367.9609 - val_loss: 3338831360.0000 - val_mae: 49788.1602\n",
            "Epoch 76/100\n",
            "732/750 [============================>.] - ETA: 0s - loss: 3283478016.0000 - mae: 49358.9062"
          ]
        },
        {
          "output_type": "stream",
          "name": "stderr",
          "text": [
            "WARNING:tensorflow:Early stopping conditioned on metric `val_mean_squared_error` which is not available. Available metrics are: loss,mae,val_loss,val_mae\n"
          ]
        },
        {
          "output_type": "stream",
          "name": "stdout",
          "text": [
            "\b\b\b\b\b\b\b\b\b\b\b\b\b\b\b\b\b\b\b\b\b\b\b\b\b\b\b\b\b\b\b\b\b\b\b\b\b\b\b\b\b\b\b\b\b\b\b\b\b\b\b\b\b\b\b\b\b\b\b\b\b\b\b\b\b\b\b\b\b\b\b\b\b\b\b\b\b\b\b\b\b\b\b\b\b\b\b\b\b\b\b\b\r750/750 [==============================] - 2s 3ms/step - loss: 3285509120.0000 - mae: 49389.0703 - val_loss: 3341946112.0000 - val_mae: 49817.7891\n",
            "Epoch 77/100\n",
            "750/750 [==============================] - ETA: 0s - loss: 3283915520.0000 - mae: 49362.6836"
          ]
        },
        {
          "output_type": "stream",
          "name": "stderr",
          "text": [
            "WARNING:tensorflow:Early stopping conditioned on metric `val_mean_squared_error` which is not available. Available metrics are: loss,mae,val_loss,val_mae\n"
          ]
        },
        {
          "output_type": "stream",
          "name": "stdout",
          "text": [
            "\b\b\b\b\b\b\b\b\b\b\b\b\b\b\b\b\b\b\b\b\b\b\b\b\b\b\b\b\b\b\b\b\b\b\b\b\b\b\b\b\b\b\b\b\b\b\b\b\b\b\b\b\b\b\b\b\b\b\b\b\b\b\b\b\b\b\b\b\b\b\b\b\b\b\b\b\b\b\b\b\b\b\b\b\b\b\b\b\b\b\b\b\r750/750 [==============================] - 2s 3ms/step - loss: 3283915520.0000 - mae: 49362.6836 - val_loss: 3364211200.0000 - val_mae: 49860.0273\n",
            "Epoch 78/100\n",
            "745/750 [============================>.] - ETA: 0s - loss: 3278356224.0000 - mae: 49351.8516"
          ]
        },
        {
          "output_type": "stream",
          "name": "stderr",
          "text": [
            "WARNING:tensorflow:Early stopping conditioned on metric `val_mean_squared_error` which is not available. Available metrics are: loss,mae,val_loss,val_mae\n"
          ]
        },
        {
          "output_type": "stream",
          "name": "stdout",
          "text": [
            "\b\b\b\b\b\b\b\b\b\b\b\b\b\b\b\b\b\b\b\b\b\b\b\b\b\b\b\b\b\b\b\b\b\b\b\b\b\b\b\b\b\b\b\b\b\b\b\b\b\b\b\b\b\b\b\b\b\b\b\b\b\b\b\b\b\b\b\b\b\b\b\b\b\b\b\b\b\b\b\b\b\b\b\b\b\b\b\b\b\b\b\b\r750/750 [==============================] - 2s 3ms/step - loss: 3280887552.0000 - mae: 49378.1602 - val_loss: 3339794176.0000 - val_mae: 49756.8438\n",
            "Epoch 79/100\n",
            "745/750 [============================>.] - ETA: 0s - loss: 3283238912.0000 - mae: 49356.2734"
          ]
        },
        {
          "output_type": "stream",
          "name": "stderr",
          "text": [
            "WARNING:tensorflow:Early stopping conditioned on metric `val_mean_squared_error` which is not available. Available metrics are: loss,mae,val_loss,val_mae\n"
          ]
        },
        {
          "output_type": "stream",
          "name": "stdout",
          "text": [
            "\b\b\b\b\b\b\b\b\b\b\b\b\b\b\b\b\b\b\b\b\b\b\b\b\b\b\b\b\b\b\b\b\b\b\b\b\b\b\b\b\b\b\b\b\b\b\b\b\b\b\b\b\b\b\b\b\b\b\b\b\b\b\b\b\b\b\b\b\b\b\b\b\b\b\b\b\b\b\b\b\b\b\b\b\b\b\b\b\b\b\b\b\r750/750 [==============================] - 2s 3ms/step - loss: 3280657920.0000 - mae: 49336.9883 - val_loss: 3337086464.0000 - val_mae: 49795.2539\n",
            "Epoch 80/100\n",
            "731/750 [============================>.] - ETA: 0s - loss: 3266034176.0000 - mae: 49167.8984"
          ]
        },
        {
          "output_type": "stream",
          "name": "stderr",
          "text": [
            "WARNING:tensorflow:Early stopping conditioned on metric `val_mean_squared_error` which is not available. Available metrics are: loss,mae,val_loss,val_mae\n"
          ]
        },
        {
          "output_type": "stream",
          "name": "stdout",
          "text": [
            "\b\b\b\b\b\b\b\b\b\b\b\b\b\b\b\b\b\b\b\b\b\b\b\b\b\b\b\b\b\b\b\b\b\b\b\b\b\b\b\b\b\b\b\b\b\b\b\b\b\b\b\b\b\b\b\b\b\b\b\b\b\b\b\b\b\b\b\b\b\b\b\b\b\b\b\b\b\b\b\b\b\b\b\b\b\b\b\b\b\b\b\b\r750/750 [==============================] - 2s 3ms/step - loss: 3277738240.0000 - mae: 49287.8945 - val_loss: 3353657344.0000 - val_mae: 49846.4102\n",
            "Epoch 81/100\n",
            "748/750 [============================>.] - ETA: 0s - loss: 3282751744.0000 - mae: 49397.6016"
          ]
        },
        {
          "output_type": "stream",
          "name": "stderr",
          "text": [
            "WARNING:tensorflow:Early stopping conditioned on metric `val_mean_squared_error` which is not available. Available metrics are: loss,mae,val_loss,val_mae\n"
          ]
        },
        {
          "output_type": "stream",
          "name": "stdout",
          "text": [
            "\b\b\b\b\b\b\b\b\b\b\b\b\b\b\b\b\b\b\b\b\b\b\b\b\b\b\b\b\b\b\b\b\b\b\b\b\b\b\b\b\b\b\b\b\b\b\b\b\b\b\b\b\b\b\b\b\b\b\b\b\b\b\b\b\b\b\b\b\b\b\b\b\b\b\b\b\b\b\b\b\b\b\b\b\b\b\b\b\b\b\b\b\r750/750 [==============================] - 2s 3ms/step - loss: 3282474240.0000 - mae: 49394.2148 - val_loss: 3349648384.0000 - val_mae: 49887.0000\n",
            "Epoch 82/100\n",
            "737/750 [============================>.] - ETA: 0s - loss: 3280876288.0000 - mae: 49309.9766"
          ]
        },
        {
          "output_type": "stream",
          "name": "stderr",
          "text": [
            "WARNING:tensorflow:Early stopping conditioned on metric `val_mean_squared_error` which is not available. Available metrics are: loss,mae,val_loss,val_mae\n"
          ]
        },
        {
          "output_type": "stream",
          "name": "stdout",
          "text": [
            "\b\b\b\b\b\b\b\b\b\b\b\b\b\b\b\b\b\b\b\b\b\b\b\b\b\b\b\b\b\b\b\b\b\b\b\b\b\b\b\b\b\b\b\b\b\b\b\b\b\b\b\b\b\b\b\b\b\b\b\b\b\b\b\b\b\b\b\b\b\b\b\b\b\b\b\b\b\b\b\b\b\b\b\b\b\b\b\b\b\b\b\b\r750/750 [==============================] - 2s 3ms/step - loss: 3283486464.0000 - mae: 49338.8867 - val_loss: 3379262720.0000 - val_mae: 49936.6992\n",
            "Epoch 83/100\n",
            "735/750 [============================>.] - ETA: 0s - loss: 3284638976.0000 - mae: 49386.1406"
          ]
        },
        {
          "output_type": "stream",
          "name": "stderr",
          "text": [
            "WARNING:tensorflow:Early stopping conditioned on metric `val_mean_squared_error` which is not available. Available metrics are: loss,mae,val_loss,val_mae\n"
          ]
        },
        {
          "output_type": "stream",
          "name": "stdout",
          "text": [
            "\b\b\b\b\b\b\b\b\b\b\b\b\b\b\b\b\b\b\b\b\b\b\b\b\b\b\b\b\b\b\b\b\b\b\b\b\b\b\b\b\b\b\b\b\b\b\b\b\b\b\b\b\b\b\b\b\b\b\b\b\b\b\b\b\b\b\b\b\b\b\b\b\b\b\b\b\b\b\b\b\b\b\b\b\b\b\b\b\b\b\b\b\r750/750 [==============================] - 2s 3ms/step - loss: 3281392640.0000 - mae: 49353.7695 - val_loss: 3343843328.0000 - val_mae: 49816.5391\n",
            "Epoch 84/100\n",
            "743/750 [============================>.] - ETA: 0s - loss: 3279160320.0000 - mae: 49316.9531"
          ]
        },
        {
          "output_type": "stream",
          "name": "stderr",
          "text": [
            "WARNING:tensorflow:Early stopping conditioned on metric `val_mean_squared_error` which is not available. Available metrics are: loss,mae,val_loss,val_mae\n"
          ]
        },
        {
          "output_type": "stream",
          "name": "stdout",
          "text": [
            "\b\b\b\b\b\b\b\b\b\b\b\b\b\b\b\b\b\b\b\b\b\b\b\b\b\b\b\b\b\b\b\b\b\b\b\b\b\b\b\b\b\b\b\b\b\b\b\b\b\b\b\b\b\b\b\b\b\b\b\b\b\b\b\b\b\b\b\b\b\b\b\b\b\b\b\b\b\b\b\b\b\b\b\b\b\b\b\b\b\b\b\b\r750/750 [==============================] - 2s 3ms/step - loss: 3281432064.0000 - mae: 49348.6914 - val_loss: 3365630208.0000 - val_mae: 49922.7539\n",
            "Epoch 85/100\n",
            "741/750 [============================>.] - ETA: 0s - loss: 3279941888.0000 - mae: 49346.6328"
          ]
        },
        {
          "output_type": "stream",
          "name": "stderr",
          "text": [
            "WARNING:tensorflow:Early stopping conditioned on metric `val_mean_squared_error` which is not available. Available metrics are: loss,mae,val_loss,val_mae\n"
          ]
        },
        {
          "output_type": "stream",
          "name": "stdout",
          "text": [
            "\b\b\b\b\b\b\b\b\b\b\b\b\b\b\b\b\b\b\b\b\b\b\b\b\b\b\b\b\b\b\b\b\b\b\b\b\b\b\b\b\b\b\b\b\b\b\b\b\b\b\b\b\b\b\b\b\b\b\b\b\b\b\b\b\b\b\b\b\b\b\b\b\b\b\b\b\b\b\b\b\b\b\b\b\b\b\b\b\b\b\b\b\r750/750 [==============================] - 2s 3ms/step - loss: 3277957376.0000 - mae: 49330.0195 - val_loss: 3339316224.0000 - val_mae: 49792.3242\n",
            "Epoch 86/100\n",
            "732/750 [============================>.] - ETA: 0s - loss: 3276361984.0000 - mae: 49315.2617"
          ]
        },
        {
          "output_type": "stream",
          "name": "stderr",
          "text": [
            "WARNING:tensorflow:Early stopping conditioned on metric `val_mean_squared_error` which is not available. Available metrics are: loss,mae,val_loss,val_mae\n"
          ]
        },
        {
          "output_type": "stream",
          "name": "stdout",
          "text": [
            "\b\b\b\b\b\b\b\b\b\b\b\b\b\b\b\b\b\b\b\b\b\b\b\b\b\b\b\b\b\b\b\b\b\b\b\b\b\b\b\b\b\b\b\b\b\b\b\b\b\b\b\b\b\b\b\b\b\b\b\b\b\b\b\b\b\b\b\b\b\b\b\b\b\b\b\b\b\b\b\b\b\b\b\b\b\b\b\b\b\b\b\b\r750/750 [==============================] - 2s 3ms/step - loss: 3281424896.0000 - mae: 49351.1133 - val_loss: 3337280512.0000 - val_mae: 49766.1797\n",
            "Epoch 87/100\n",
            "732/750 [============================>.] - ETA: 0s - loss: 3281482752.0000 - mae: 49406.2148"
          ]
        },
        {
          "output_type": "stream",
          "name": "stderr",
          "text": [
            "WARNING:tensorflow:Early stopping conditioned on metric `val_mean_squared_error` which is not available. Available metrics are: loss,mae,val_loss,val_mae\n"
          ]
        },
        {
          "output_type": "stream",
          "name": "stdout",
          "text": [
            "\b\b\b\b\b\b\b\b\b\b\b\b\b\b\b\b\b\b\b\b\b\b\b\b\b\b\b\b\b\b\b\b\b\b\b\b\b\b\b\b\b\b\b\b\b\b\b\b\b\b\b\b\b\b\b\b\b\b\b\b\b\b\b\b\b\b\b\b\b\b\b\b\b\b\b\b\b\b\b\b\b\b\b\b\b\b\b\b\b\b\b\b\r750/750 [==============================] - 2s 3ms/step - loss: 3278388224.0000 - mae: 49335.0469 - val_loss: 3359061760.0000 - val_mae: 49847.9336\n",
            "Epoch 88/100\n",
            "728/750 [============================>.] - ETA: 0s - loss: 3275760896.0000 - mae: 49285.9180"
          ]
        },
        {
          "output_type": "stream",
          "name": "stderr",
          "text": [
            "WARNING:tensorflow:Early stopping conditioned on metric `val_mean_squared_error` which is not available. Available metrics are: loss,mae,val_loss,val_mae\n"
          ]
        },
        {
          "output_type": "stream",
          "name": "stdout",
          "text": [
            "\b\b\b\b\b\b\b\b\b\b\b\b\b\b\b\b\b\b\b\b\b\b\b\b\b\b\b\b\b\b\b\b\b\b\b\b\b\b\b\b\b\b\b\b\b\b\b\b\b\b\b\b\b\b\b\b\b\b\b\b\b\b\b\b\b\b\b\b\b\b\b\b\b\b\b\b\b\b\b\b\b\b\b\b\b\b\b\b\b\b\b\b\r750/750 [==============================] - 2s 3ms/step - loss: 3274164480.0000 - mae: 49271.3672 - val_loss: 3379439360.0000 - val_mae: 49952.0625\n",
            "Epoch 89/100\n",
            "746/750 [============================>.] - ETA: 0s - loss: 3280760576.0000 - mae: 49318.6602"
          ]
        },
        {
          "output_type": "stream",
          "name": "stderr",
          "text": [
            "WARNING:tensorflow:Early stopping conditioned on metric `val_mean_squared_error` which is not available. Available metrics are: loss,mae,val_loss,val_mae\n"
          ]
        },
        {
          "output_type": "stream",
          "name": "stdout",
          "text": [
            "\b\b\b\b\b\b\b\b\b\b\b\b\b\b\b\b\b\b\b\b\b\b\b\b\b\b\b\b\b\b\b\b\b\b\b\b\b\b\b\b\b\b\b\b\b\b\b\b\b\b\b\b\b\b\b\b\b\b\b\b\b\b\b\b\b\b\b\b\b\b\b\b\b\b\b\b\b\b\b\b\b\b\b\b\b\b\b\b\b\b\b\b\r750/750 [==============================] - 2s 3ms/step - loss: 3285493760.0000 - mae: 49374.4023 - val_loss: 3337129472.0000 - val_mae: 49763.3359\n",
            "Epoch 90/100\n",
            "731/750 [============================>.] - ETA: 0s - loss: 3277288192.0000 - mae: 49317.4844"
          ]
        },
        {
          "output_type": "stream",
          "name": "stderr",
          "text": [
            "WARNING:tensorflow:Early stopping conditioned on metric `val_mean_squared_error` which is not available. Available metrics are: loss,mae,val_loss,val_mae\n"
          ]
        },
        {
          "output_type": "stream",
          "name": "stdout",
          "text": [
            "\b\b\b\b\b\b\b\b\b\b\b\b\b\b\b\b\b\b\b\b\b\b\b\b\b\b\b\b\b\b\b\b\b\b\b\b\b\b\b\b\b\b\b\b\b\b\b\b\b\b\b\b\b\b\b\b\b\b\b\b\b\b\b\b\b\b\b\b\b\b\b\b\b\b\b\b\b\b\b\b\b\b\b\b\b\b\b\b\b\b\b\b\r750/750 [==============================] - 2s 3ms/step - loss: 3279893504.0000 - mae: 49332.8086 - val_loss: 3335494656.0000 - val_mae: 49765.2734\n",
            "Epoch 91/100\n",
            "747/750 [============================>.] - ETA: 0s - loss: 3281672960.0000 - mae: 49373.8633"
          ]
        },
        {
          "output_type": "stream",
          "name": "stderr",
          "text": [
            "WARNING:tensorflow:Early stopping conditioned on metric `val_mean_squared_error` which is not available. Available metrics are: loss,mae,val_loss,val_mae\n"
          ]
        },
        {
          "output_type": "stream",
          "name": "stdout",
          "text": [
            "\b\b\b\b\b\b\b\b\b\b\b\b\b\b\b\b\b\b\b\b\b\b\b\b\b\b\b\b\b\b\b\b\b\b\b\b\b\b\b\b\b\b\b\b\b\b\b\b\b\b\b\b\b\b\b\b\b\b\b\b\b\b\b\b\b\b\b\b\b\b\b\b\b\b\b\b\b\b\b\b\b\b\b\b\b\b\b\b\b\b\b\b\r750/750 [==============================] - 2s 3ms/step - loss: 3279405056.0000 - mae: 49348.0078 - val_loss: 3344394240.0000 - val_mae: 49842.0352\n",
            "Epoch 92/100\n",
            "730/750 [============================>.] - ETA: 0s - loss: 3287739904.0000 - mae: 49430.4492"
          ]
        },
        {
          "output_type": "stream",
          "name": "stderr",
          "text": [
            "WARNING:tensorflow:Early stopping conditioned on metric `val_mean_squared_error` which is not available. Available metrics are: loss,mae,val_loss,val_mae\n"
          ]
        },
        {
          "output_type": "stream",
          "name": "stdout",
          "text": [
            "\b\b\b\b\b\b\b\b\b\b\b\b\b\b\b\b\b\b\b\b\b\b\b\b\b\b\b\b\b\b\b\b\b\b\b\b\b\b\b\b\b\b\b\b\b\b\b\b\b\b\b\b\b\b\b\b\b\b\b\b\b\b\b\b\b\b\b\b\b\b\b\b\b\b\b\b\b\b\b\b\b\b\b\b\b\b\b\b\b\b\b\b\r750/750 [==============================] - 2s 3ms/step - loss: 3281650688.0000 - mae: 49372.8242 - val_loss: 3347761408.0000 - val_mae: 49866.7734\n",
            "Epoch 93/100\n",
            "746/750 [============================>.] - ETA: 0s - loss: 3274764288.0000 - mae: 49305.5430"
          ]
        },
        {
          "output_type": "stream",
          "name": "stderr",
          "text": [
            "WARNING:tensorflow:Early stopping conditioned on metric `val_mean_squared_error` which is not available. Available metrics are: loss,mae,val_loss,val_mae\n"
          ]
        },
        {
          "output_type": "stream",
          "name": "stdout",
          "text": [
            "\b\b\b\b\b\b\b\b\b\b\b\b\b\b\b\b\b\b\b\b\b\b\b\b\b\b\b\b\b\b\b\b\b\b\b\b\b\b\b\b\b\b\b\b\b\b\b\b\b\b\b\b\b\b\b\b\b\b\b\b\b\b\b\b\b\b\b\b\b\b\b\b\b\b\b\b\b\b\b\b\b\b\b\b\b\b\b\b\b\b\b\b\r750/750 [==============================] - 3s 4ms/step - loss: 3274039296.0000 - mae: 49291.3086 - val_loss: 3369184000.0000 - val_mae: 49926.4141\n",
            "Epoch 94/100\n",
            "730/750 [============================>.] - ETA: 0s - loss: 3285484288.0000 - mae: 49416.4609"
          ]
        },
        {
          "output_type": "stream",
          "name": "stderr",
          "text": [
            "WARNING:tensorflow:Early stopping conditioned on metric `val_mean_squared_error` which is not available. Available metrics are: loss,mae,val_loss,val_mae\n"
          ]
        },
        {
          "output_type": "stream",
          "name": "stdout",
          "text": [
            "\b\b\b\b\b\b\b\b\b\b\b\b\b\b\b\b\b\b\b\b\b\b\b\b\b\b\b\b\b\b\b\b\b\b\b\b\b\b\b\b\b\b\b\b\b\b\b\b\b\b\b\b\b\b\b\b\b\b\b\b\b\b\b\b\b\b\b\b\b\b\b\b\b\b\b\b\b\b\b\b\b\b\b\b\b\b\b\b\b\b\b\b\r750/750 [==============================] - 2s 3ms/step - loss: 3282316288.0000 - mae: 49369.0781 - val_loss: 3345101312.0000 - val_mae: 49824.1211\n",
            "Epoch 95/100\n",
            "745/750 [============================>.] - ETA: 0s - loss: 3278122240.0000 - mae: 49341.5312"
          ]
        },
        {
          "output_type": "stream",
          "name": "stderr",
          "text": [
            "WARNING:tensorflow:Early stopping conditioned on metric `val_mean_squared_error` which is not available. Available metrics are: loss,mae,val_loss,val_mae\n"
          ]
        },
        {
          "output_type": "stream",
          "name": "stdout",
          "text": [
            "\b\b\b\b\b\b\b\b\b\b\b\b\b\b\b\b\b\b\b\b\b\b\b\b\b\b\b\b\b\b\b\b\b\b\b\b\b\b\b\b\b\b\b\b\b\b\b\b\b\b\b\b\b\b\b\b\b\b\b\b\b\b\b\b\b\b\b\b\b\b\b\b\b\b\b\b\b\b\b\b\b\b\b\b\b\b\b\b\b\b\b\b\r750/750 [==============================] - 2s 3ms/step - loss: 3281779200.0000 - mae: 49384.0273 - val_loss: 3336270080.0000 - val_mae: 49759.2305\n",
            "Epoch 96/100\n",
            "745/750 [============================>.] - ETA: 0s - loss: 3285890304.0000 - mae: 49413.3867"
          ]
        },
        {
          "output_type": "stream",
          "name": "stderr",
          "text": [
            "WARNING:tensorflow:Early stopping conditioned on metric `val_mean_squared_error` which is not available. Available metrics are: loss,mae,val_loss,val_mae\n"
          ]
        },
        {
          "output_type": "stream",
          "name": "stdout",
          "text": [
            "\b\b\b\b\b\b\b\b\b\b\b\b\b\b\b\b\b\b\b\b\b\b\b\b\b\b\b\b\b\b\b\b\b\b\b\b\b\b\b\b\b\b\b\b\b\b\b\b\b\b\b\b\b\b\b\b\b\b\b\b\b\b\b\b\b\b\b\b\b\b\b\b\b\b\b\b\b\b\b\b\b\b\b\b\b\b\b\b\b\b\b\b\r750/750 [==============================] - 2s 3ms/step - loss: 3281746944.0000 - mae: 49375.1562 - val_loss: 3335112704.0000 - val_mae: 49726.0977\n",
            "Epoch 97/100\n",
            "742/750 [============================>.] - ETA: 0s - loss: 3285004800.0000 - mae: 49409.2070"
          ]
        },
        {
          "output_type": "stream",
          "name": "stderr",
          "text": [
            "WARNING:tensorflow:Early stopping conditioned on metric `val_mean_squared_error` which is not available. Available metrics are: loss,mae,val_loss,val_mae\n"
          ]
        },
        {
          "output_type": "stream",
          "name": "stdout",
          "text": [
            "\b\b\b\b\b\b\b\b\b\b\b\b\b\b\b\b\b\b\b\b\b\b\b\b\b\b\b\b\b\b\b\b\b\b\b\b\b\b\b\b\b\b\b\b\b\b\b\b\b\b\b\b\b\b\b\b\b\b\b\b\b\b\b\b\b\b\b\b\b\b\b\b\b\b\b\b\b\b\b\b\b\b\b\b\b\b\b\b\b\b\b\b\r750/750 [==============================] - 2s 3ms/step - loss: 3280440832.0000 - mae: 49346.8477 - val_loss: 3342071040.0000 - val_mae: 49825.6055\n",
            "Epoch 98/100\n",
            "729/750 [============================>.] - ETA: 0s - loss: 3275218688.0000 - mae: 49351.3789"
          ]
        },
        {
          "output_type": "stream",
          "name": "stderr",
          "text": [
            "WARNING:tensorflow:Early stopping conditioned on metric `val_mean_squared_error` which is not available. Available metrics are: loss,mae,val_loss,val_mae\n"
          ]
        },
        {
          "output_type": "stream",
          "name": "stdout",
          "text": [
            "\b\b\b\b\b\b\b\b\b\b\b\b\b\b\b\b\b\b\b\b\b\b\b\b\b\b\b\b\b\b\b\b\b\b\b\b\b\b\b\b\b\b\b\b\b\b\b\b\b\b\b\b\b\b\b\b\b\b\b\b\b\b\b\b\b\b\b\b\b\b\b\b\b\b\b\b\b\b\b\b\b\b\b\b\b\b\b\b\b\b\b\b\r750/750 [==============================] - 2s 3ms/step - loss: 3277259776.0000 - mae: 49335.6094 - val_loss: 3339230208.0000 - val_mae: 49776.2383\n",
            "Epoch 99/100\n",
            "733/750 [============================>.] - ETA: 0s - loss: 3271627776.0000 - mae: 49242.7344"
          ]
        },
        {
          "output_type": "stream",
          "name": "stderr",
          "text": [
            "WARNING:tensorflow:Early stopping conditioned on metric `val_mean_squared_error` which is not available. Available metrics are: loss,mae,val_loss,val_mae\n"
          ]
        },
        {
          "output_type": "stream",
          "name": "stdout",
          "text": [
            "\b\b\b\b\b\b\b\b\b\b\b\b\b\b\b\b\b\b\b\b\b\b\b\b\b\b\b\b\b\b\b\b\b\b\b\b\b\b\b\b\b\b\b\b\b\b\b\b\b\b\b\b\b\b\b\b\b\b\b\b\b\b\b\b\b\b\b\b\b\b\b\b\b\b\b\b\b\b\b\b\b\b\b\b\b\b\b\b\b\b\b\b\r750/750 [==============================] - 2s 3ms/step - loss: 3275107840.0000 - mae: 49291.0898 - val_loss: 3344421120.0000 - val_mae: 49808.0664\n",
            "Epoch 100/100\n",
            "735/750 [============================>.] - ETA: 0s - loss: 3288591616.0000 - mae: 49387.5977"
          ]
        },
        {
          "output_type": "stream",
          "name": "stderr",
          "text": [
            "WARNING:tensorflow:Early stopping conditioned on metric `val_mean_squared_error` which is not available. Available metrics are: loss,mae,val_loss,val_mae\n"
          ]
        },
        {
          "output_type": "stream",
          "name": "stdout",
          "text": [
            "\b\b\b\b\b\b\b\b\b\b\b\b\b\b\b\b\b\b\b\b\b\b\b\b\b\b\b\b\b\b\b\b\b\b\b\b\b\b\b\b\b\b\b\b\b\b\b\b\b\b\b\b\b\b\b\b\b\b\b\b\b\b\b\b\b\b\b\b\b\b\b\b\b\b\b\b\b\b\b\b\b\b\b\b\b\b\b\b\b\b\b\b\r750/750 [==============================] - 2s 3ms/step - loss: 3282901248.0000 - mae: 49345.9844 - val_loss: 3349606656.0000 - val_mae: 49877.8320\n"
          ]
        }
      ]
    },
    {
      "cell_type": "code",
      "source": [
        "model_history.history.keys()"
      ],
      "metadata": {
        "colab": {
          "base_uri": "https://localhost:8080/"
        },
        "id": "HqjcvpK0suCq",
        "outputId": "246239d1-2a9e-4d6c-e9aa-d7d642701e3f"
      },
      "execution_count": null,
      "outputs": [
        {
          "output_type": "execute_result",
          "data": {
            "text/plain": [
              "dict_keys(['loss', 'mae', 'val_loss', 'val_mae'])"
            ]
          },
          "metadata": {},
          "execution_count": 156
        }
      ]
    },
    {
      "cell_type": "code",
      "source": [
        "## summarize history for accuracy\n",
        "plt.plot(model_history.history['mae'])\n",
        "plt.plot(model_history.history['val_mae'])\n",
        "plt.title('model accutacy')\n",
        "plt.ylabel('mean_sqared_error')\n",
        "plt.xlabel('epoch')\n",
        "plt.legend(['train','test'],loc='upper left')\n",
        "plt.show()"
      ],
      "metadata": {
        "colab": {
          "base_uri": "https://localhost:8080/",
          "height": 295
        },
        "id": "HIqA1I4jaUsu",
        "outputId": "e0ccca6e-5210-4317-e448-42bf5544b0b2"
      },
      "execution_count": null,
      "outputs": [
        {
          "output_type": "display_data",
          "data": {
            "text/plain": [
              "<Figure size 432x288 with 1 Axes>"
            ],
            "image/png": "[encoded data removed]"
          },
          "metadata": {
            "needs_background": "light"
          }
        }
      ]
    },
    {
      "cell_type": "code",
      "source": [
        "# summarize history for loss\n",
        "plt.plot(model_history.history['loss'])\n",
        "plt.plot(model_history.history['val_loss'])\n",
        "plt.title('model loss')\n",
        "plt.ylabel('loss')\n",
        "plt.xlabel('epoch')\n",
        "plt.legend(['train','test'],loc = 'upper left')\n"
      ],
      "metadata": {
        "colab": {
          "base_uri": "https://localhost:8080/",
          "height": 312
        },
        "id": "Bqe9TV6KYQP2",
        "outputId": "e95593a7-b8d4-4911-ba45-83806d79c56a"
      },
      "execution_count": null,
      "outputs": [
        {
          "output_type": "execute_result",
          "data": {
            "text/plain": [
              "<matplotlib.legend.Legend at 0x7f32f52bf810>"
            ]
          },
          "metadata": {},
          "execution_count": 158
        },
        {
          "output_type": "display_data",
          "data": {
            "text/plain": [
              "<Figure size 432x288 with 1 Axes>"
            ],
            "image/png": "[encoded data removed]"
          },
          "metadata": {
            "needs_background": "light"
          }
        }
      ]
    },
    {
      "cell_type": "code",
      "source": [
        "sc"
      ],
      "metadata": {
        "colab": {
          "base_uri": "https://localhost:8080/"
        },
        "id": "S-R0dpZ_1O-P",
        "outputId": "cbf08c5b-302d-422d-91a4-a9061858b926"
      },
      "execution_count": null,
      "outputs": [
        {
          "output_type": "execute_result",
          "data": {
            "text/plain": [
              "StandardScaler()"
            ]
          },
          "metadata": {},
          "execution_count": 160
        }
      ]
    },
    {
      "cell_type": "code",
      "source": [
        "y_pred  = regressor.predict(x_test)"
      ],
      "metadata": {
        "colab": {
          "base_uri": "https://localhost:8080/"
        },
        "id": "oT9HOul6vueB",
        "outputId": "4e6429c3-d1b9-4e97-8ef5-57c86e20a4d0"
      },
      "execution_count": null,
      "outputs": [
        {
          "output_type": "stream",
          "name": "stdout",
          "text": [
            "79/79 [==============================] - 0s 1ms/step\n"
          ]
        }
      ]
    },
    {
      "cell_type": "code",
      "source": [
        "## R2 score \n",
        "from sklearn.metrics import r2_score\n",
        "print(r2_score(y_test,y_pred))"
      ],
      "metadata": {
        "colab": {
          "base_uri": "https://localhost:8080/"
        },
        "id": "VwdUVSAtsoK1",
        "outputId": "ae267caf-99bf-4705-c36f-749edc6fdd81"
      },
      "execution_count": null,
      "outputs": [
        {
          "output_type": "stream",
          "name": "stdout",
          "text": [
            "-0.011524831533074043\n"
          ]
        }
      ]
    },
    {
      "cell_type": "code",
      "source": [],
      "metadata": {
        "id": "9uitX64Iv2eG"
      },
      "execution_count": null,
      "outputs": []
    }
  ]
}